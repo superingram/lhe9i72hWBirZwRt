{
  "nbformat": 4,
  "nbformat_minor": 0,
  "metadata": {
    "colab": {
      "name": "TermDepositsFinal.ipynb",
      "provenance": [],
      "collapsed_sections": [],
      "machine_shape": "hm"
    },
    "kernelspec": {
      "name": "python3",
      "display_name": "Python 3"
    },
    "language_info": {
      "name": "python"
    },
    "accelerator": "TPU"
  },
  "cells": [
    {
      "cell_type": "markdown",
      "source": [
        "# **Term Deposit Marketing**"
      ],
      "metadata": {
        "id": "BkAb6H5vwwIt"
      }
    },
    {
      "cell_type": "markdown",
      "source": [
        "**Background:**\n",
        "\n",
        "This project is for a small startup focusing mainly on providing machine learning solutions in the European banking market. They work on a variety of problems including fraud detection, sentiment classification and customer intention prediction and classification.\n",
        "\n",
        "They are interested in developing a robust machine learning system that leverages information coming from call center data.\n",
        "\n",
        "Ultimately, they are looking for ways to improve the success rate for calls made to customers for any product that our clients offer. Towards this goal, they are working on designing an ever evolving machine learning product that offers high success outcomes while offering interpretability for our clients to make informed decisions.\n",
        "\n",
        "**Data Description:**\n",
        "\n",
        "The data comes from direct marketing efforts of a European banking institution. The marketing campaign involves making a phone call to a customer, often multiple times to ensure a product subscription, in this case a term deposit. Term deposits are usually short-term deposits with maturities ranging from one month to a few years. The customer must understand when buying a term deposit that they can withdraw their funds only after the term ends. All customer information that might reveal personal information is removed due to privacy concerns.\n",
        "\n",
        "**Attributes:**\n",
        "\n",
        "age : age of customer (numeric)\n",
        "\n",
        "job : type of job (categorical)\n",
        "\n",
        "marital : marital status (categorical)\n",
        "\n",
        "education (categorical)\n",
        "\n",
        "default: has credit in default? (binary)\n",
        "\n",
        "balance: average yearly balance, in euros (numeric)\n",
        "\n",
        "housing: has a housing loan? (binary)\n",
        "\n",
        "loan: has personal loan? (binary)\n",
        "\n",
        "contact: contact communication type (categorical)\n",
        "\n",
        "day: last contact day of the month (numeric)\n",
        "\n",
        "month: last contact month of year (categorical)\n",
        "\n",
        "duration: last contact duration, in seconds (numeric)\n",
        "\n",
        "campaign: number of contacts performed during this campaign and for this client (numeric, includes last contact)\n",
        "\n",
        "Output (desired target):\n",
        "\n",
        "y - has the client subscribed to a term deposit? (binary)"
      ],
      "metadata": {
        "id": "aV1MCyDMw27e"
      }
    },
    {
      "cell_type": "markdown",
      "source": [
        "## **Importing Python packages and data**"
      ],
      "metadata": {
        "id": "zPBsWxNDxsU_"
      }
    },
    {
      "cell_type": "code",
      "source": [
        "import numpy as np\n",
        "import pandas as pd\n",
        "import matplotlib.pyplot as plt\n",
        "from matplotlib import rcParams\n",
        "from matplotlib import cm\n",
        "import matplotlib.ticker as mtick\n",
        "import matplotlib.style as style\n",
        "import seaborn as sns\n",
        "import scipy\n",
        "from scipy.stats import randint, loguniform\n",
        "import warnings\n",
        "from google.colab import files\n",
        "import time\n",
        "style.use('ggplot')\n",
        "warnings.filterwarnings('ignore')\n",
        "import lightgbm as lgb\n",
        "from sklearn.preprocessing import StandardScaler, LabelEncoder\n",
        "from sklearn.model_selection import train_test_split, cross_val_score, RandomizedSearchCV\n",
        "from sklearn import tree\n",
        "from sklearn.metrics import classification_report, roc_curve, roc_auc_score, f1_score\n",
        "from sklearn.metrics import accuracy_score, plot_confusion_matrix\n",
        "from sklearn.tree import DecisionTreeClassifier\n",
        "from sklearn.metrics import confusion_matrix\n",
        "from sklearn.metrics import precision_score, recall_score\n",
        "!pip install lazypredict\n",
        "from lazypredict.Supervised import LazyClassifier"
      ],
      "metadata": {
        "colab": {
          "base_uri": "https://localhost:8080/"
        },
        "id": "vGzmOlwqyDlx",
        "outputId": "3a0e8db5-79fc-4153-8447-1bf3683a84fd"
      },
      "execution_count": 1,
      "outputs": [
        {
          "output_type": "stream",
          "name": "stdout",
          "text": [
            "Requirement already satisfied: lazypredict in /usr/local/lib/python3.7/dist-packages (0.2.9)\n",
            "Requirement already satisfied: pandas==1.0.5 in /usr/local/lib/python3.7/dist-packages (from lazypredict) (1.0.5)\n",
            "Requirement already satisfied: PyYAML==5.3.1 in /usr/local/lib/python3.7/dist-packages (from lazypredict) (5.3.1)\n",
            "Requirement already satisfied: scipy==1.5.4 in /usr/local/lib/python3.7/dist-packages (from lazypredict) (1.5.4)\n",
            "Requirement already satisfied: six==1.15.0 in /usr/local/lib/python3.7/dist-packages (from lazypredict) (1.15.0)\n",
            "Requirement already satisfied: click==7.1.2 in /usr/local/lib/python3.7/dist-packages (from lazypredict) (7.1.2)\n",
            "Requirement already satisfied: pytest==5.4.3 in /usr/local/lib/python3.7/dist-packages (from lazypredict) (5.4.3)\n",
            "Requirement already satisfied: xgboost==1.1.1 in /usr/local/lib/python3.7/dist-packages (from lazypredict) (1.1.1)\n",
            "Requirement already satisfied: numpy==1.19.1 in /usr/local/lib/python3.7/dist-packages (from lazypredict) (1.19.1)\n",
            "Requirement already satisfied: lightgbm==2.3.1 in /usr/local/lib/python3.7/dist-packages (from lazypredict) (2.3.1)\n",
            "Requirement already satisfied: joblib==1.0.0 in /usr/local/lib/python3.7/dist-packages (from lazypredict) (1.0.0)\n",
            "Requirement already satisfied: scikit-learn==0.23.1 in /usr/local/lib/python3.7/dist-packages (from lazypredict) (0.23.1)\n",
            "Requirement already satisfied: tqdm==4.56.0 in /usr/local/lib/python3.7/dist-packages (from lazypredict) (4.56.0)\n",
            "Requirement already satisfied: python-dateutil>=2.6.1 in /usr/local/lib/python3.7/dist-packages (from pandas==1.0.5->lazypredict) (2.8.2)\n",
            "Requirement already satisfied: pytz>=2017.2 in /usr/local/lib/python3.7/dist-packages (from pandas==1.0.5->lazypredict) (2022.1)\n",
            "Requirement already satisfied: packaging in /usr/local/lib/python3.7/dist-packages (from pytest==5.4.3->lazypredict) (21.3)\n",
            "Requirement already satisfied: importlib-metadata>=0.12 in /usr/local/lib/python3.7/dist-packages (from pytest==5.4.3->lazypredict) (4.11.3)\n",
            "Requirement already satisfied: more-itertools>=4.0.0 in /usr/local/lib/python3.7/dist-packages (from pytest==5.4.3->lazypredict) (8.12.0)\n",
            "Requirement already satisfied: attrs>=17.4.0 in /usr/local/lib/python3.7/dist-packages (from pytest==5.4.3->lazypredict) (21.4.0)\n",
            "Requirement already satisfied: py>=1.5.0 in /usr/local/lib/python3.7/dist-packages (from pytest==5.4.3->lazypredict) (1.11.0)\n",
            "Requirement already satisfied: pluggy<1.0,>=0.12 in /usr/local/lib/python3.7/dist-packages (from pytest==5.4.3->lazypredict) (0.13.1)\n",
            "Requirement already satisfied: wcwidth in /usr/local/lib/python3.7/dist-packages (from pytest==5.4.3->lazypredict) (0.2.5)\n",
            "Requirement already satisfied: threadpoolctl>=2.0.0 in /usr/local/lib/python3.7/dist-packages (from scikit-learn==0.23.1->lazypredict) (3.1.0)\n",
            "Requirement already satisfied: zipp>=0.5 in /usr/local/lib/python3.7/dist-packages (from importlib-metadata>=0.12->pytest==5.4.3->lazypredict) (3.8.0)\n",
            "Requirement already satisfied: typing-extensions>=3.6.4 in /usr/local/lib/python3.7/dist-packages (from importlib-metadata>=0.12->pytest==5.4.3->lazypredict) (4.2.0)\n",
            "Requirement already satisfied: pyparsing!=3.0.5,>=2.0.2 in /usr/local/lib/python3.7/dist-packages (from packaging->pytest==5.4.3->lazypredict) (3.0.8)\n"
          ]
        }
      ]
    },
    {
      "cell_type": "code",
      "execution_count": 2,
      "metadata": {
        "colab": {
          "resources": {
            "http://localhost:8080/nbextensions/google.colab/files.js": {
              "data": "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",
              "ok": true,
              "headers": [
                [
                  "content-type",
                  "application/javascript"
                ]
              ],
              "status": 200,
              "status_text": ""
            }
          },
          "base_uri": "https://localhost:8080/",
          "height": 74
        },
        "id": "dQxUBXtswonl",
        "outputId": "aaf4c058-119f-4440-9046-6b39ac85875a"
      },
      "outputs": [
        {
          "output_type": "display_data",
          "data": {
            "text/plain": [
              "<IPython.core.display.HTML object>"
            ],
            "text/html": [
              "\n",
              "     <input type=\"file\" id=\"files-7a38af68-8d9e-4bc7-9296-6560831b2f3e\" name=\"files[]\" multiple disabled\n",
              "        style=\"border:none\" />\n",
              "     <output id=\"result-7a38af68-8d9e-4bc7-9296-6560831b2f3e\">\n",
              "      Upload widget is only available when the cell has been executed in the\n",
              "      current browser session. Please rerun this cell to enable.\n",
              "      </output>\n",
              "      <script src=\"/nbextensions/google.colab/files.js\"></script> "
            ]
          },
          "metadata": {}
        },
        {
          "output_type": "stream",
          "name": "stdout",
          "text": [
            "Saving term-deposit-marketing-2020.csv to term-deposit-marketing-2020.csv\n"
          ]
        }
      ],
      "source": [
        "# necessary to read files into Colab\n",
        "uploaded_files = files.upload()"
      ]
    },
    {
      "cell_type": "code",
      "source": [
        "# Now, we can read the .csv file from desktop\n",
        "df = pd.read_csv('term-deposit-marketing-2020.csv')"
      ],
      "metadata": {
        "id": "trahWKaGySag"
      },
      "execution_count": 3,
      "outputs": []
    },
    {
      "cell_type": "markdown",
      "source": [
        "##**Exploratory Data Analysis**"
      ],
      "metadata": {
        "id": "x7O-0jf81m2I"
      }
    },
    {
      "cell_type": "code",
      "source": [
        "df.head()"
      ],
      "metadata": {
        "colab": {
          "base_uri": "https://localhost:8080/",
          "height": 206
        },
        "id": "_LV3_loXyfz0",
        "outputId": "8e255f2c-5350-4ad9-cc6a-fe9a7b004020"
      },
      "execution_count": 4,
      "outputs": [
        {
          "output_type": "execute_result",
          "data": {
            "text/plain": [
              "   age           job  marital  education default  balance housing loan  \\\n",
              "0   58    management  married   tertiary      no     2143     yes   no   \n",
              "1   44    technician   single  secondary      no       29     yes   no   \n",
              "2   33  entrepreneur  married  secondary      no        2     yes  yes   \n",
              "3   47   blue-collar  married    unknown      no     1506     yes   no   \n",
              "4   33       unknown   single    unknown      no        1      no   no   \n",
              "\n",
              "   contact  day month  duration  campaign   y  \n",
              "0  unknown    5   may       261         1  no  \n",
              "1  unknown    5   may       151         1  no  \n",
              "2  unknown    5   may        76         1  no  \n",
              "3  unknown    5   may        92         1  no  \n",
              "4  unknown    5   may       198         1  no  "
            ],
            "text/html": [
              "\n",
              "  <div id=\"df-f39bb970-bcb5-4838-a341-2bcaa94f5a68\">\n",
              "    <div class=\"colab-df-container\">\n",
              "      <div>\n",
              "<style scoped>\n",
              "    .dataframe tbody tr th:only-of-type {\n",
              "        vertical-align: middle;\n",
              "    }\n",
              "\n",
              "    .dataframe tbody tr th {\n",
              "        vertical-align: top;\n",
              "    }\n",
              "\n",
              "    .dataframe thead th {\n",
              "        text-align: right;\n",
              "    }\n",
              "</style>\n",
              "<table border=\"1\" class=\"dataframe\">\n",
              "  <thead>\n",
              "    <tr style=\"text-align: right;\">\n",
              "      <th></th>\n",
              "      <th>age</th>\n",
              "      <th>job</th>\n",
              "      <th>marital</th>\n",
              "      <th>education</th>\n",
              "      <th>default</th>\n",
              "      <th>balance</th>\n",
              "      <th>housing</th>\n",
              "      <th>loan</th>\n",
              "      <th>contact</th>\n",
              "      <th>day</th>\n",
              "      <th>month</th>\n",
              "      <th>duration</th>\n",
              "      <th>campaign</th>\n",
              "      <th>y</th>\n",
              "    </tr>\n",
              "  </thead>\n",
              "  <tbody>\n",
              "    <tr>\n",
              "      <th>0</th>\n",
              "      <td>58</td>\n",
              "      <td>management</td>\n",
              "      <td>married</td>\n",
              "      <td>tertiary</td>\n",
              "      <td>no</td>\n",
              "      <td>2143</td>\n",
              "      <td>yes</td>\n",
              "      <td>no</td>\n",
              "      <td>unknown</td>\n",
              "      <td>5</td>\n",
              "      <td>may</td>\n",
              "      <td>261</td>\n",
              "      <td>1</td>\n",
              "      <td>no</td>\n",
              "    </tr>\n",
              "    <tr>\n",
              "      <th>1</th>\n",
              "      <td>44</td>\n",
              "      <td>technician</td>\n",
              "      <td>single</td>\n",
              "      <td>secondary</td>\n",
              "      <td>no</td>\n",
              "      <td>29</td>\n",
              "      <td>yes</td>\n",
              "      <td>no</td>\n",
              "      <td>unknown</td>\n",
              "      <td>5</td>\n",
              "      <td>may</td>\n",
              "      <td>151</td>\n",
              "      <td>1</td>\n",
              "      <td>no</td>\n",
              "    </tr>\n",
              "    <tr>\n",
              "      <th>2</th>\n",
              "      <td>33</td>\n",
              "      <td>entrepreneur</td>\n",
              "      <td>married</td>\n",
              "      <td>secondary</td>\n",
              "      <td>no</td>\n",
              "      <td>2</td>\n",
              "      <td>yes</td>\n",
              "      <td>yes</td>\n",
              "      <td>unknown</td>\n",
              "      <td>5</td>\n",
              "      <td>may</td>\n",
              "      <td>76</td>\n",
              "      <td>1</td>\n",
              "      <td>no</td>\n",
              "    </tr>\n",
              "    <tr>\n",
              "      <th>3</th>\n",
              "      <td>47</td>\n",
              "      <td>blue-collar</td>\n",
              "      <td>married</td>\n",
              "      <td>unknown</td>\n",
              "      <td>no</td>\n",
              "      <td>1506</td>\n",
              "      <td>yes</td>\n",
              "      <td>no</td>\n",
              "      <td>unknown</td>\n",
              "      <td>5</td>\n",
              "      <td>may</td>\n",
              "      <td>92</td>\n",
              "      <td>1</td>\n",
              "      <td>no</td>\n",
              "    </tr>\n",
              "    <tr>\n",
              "      <th>4</th>\n",
              "      <td>33</td>\n",
              "      <td>unknown</td>\n",
              "      <td>single</td>\n",
              "      <td>unknown</td>\n",
              "      <td>no</td>\n",
              "      <td>1</td>\n",
              "      <td>no</td>\n",
              "      <td>no</td>\n",
              "      <td>unknown</td>\n",
              "      <td>5</td>\n",
              "      <td>may</td>\n",
              "      <td>198</td>\n",
              "      <td>1</td>\n",
              "      <td>no</td>\n",
              "    </tr>\n",
              "  </tbody>\n",
              "</table>\n",
              "</div>\n",
              "      <button class=\"colab-df-convert\" onclick=\"convertToInteractive('df-f39bb970-bcb5-4838-a341-2bcaa94f5a68')\"\n",
              "              title=\"Convert this dataframe to an interactive table.\"\n",
              "              style=\"display:none;\">\n",
              "        \n",
              "  <svg xmlns=\"http://www.w3.org/2000/svg\" height=\"24px\"viewBox=\"0 0 24 24\"\n",
              "       width=\"24px\">\n",
              "    <path d=\"M0 0h24v24H0V0z\" fill=\"none\"/>\n",
              "    <path d=\"M18.56 5.44l.94 2.06.94-2.06 2.06-.94-2.06-.94-.94-2.06-.94 2.06-2.06.94zm-11 1L8.5 8.5l.94-2.06 2.06-.94-2.06-.94L8.5 2.5l-.94 2.06-2.06.94zm10 10l.94 2.06.94-2.06 2.06-.94-2.06-.94-.94-2.06-.94 2.06-2.06.94z\"/><path d=\"M17.41 7.96l-1.37-1.37c-.4-.4-.92-.59-1.43-.59-.52 0-1.04.2-1.43.59L10.3 9.45l-7.72 7.72c-.78.78-.78 2.05 0 2.83L4 21.41c.39.39.9.59 1.41.59.51 0 1.02-.2 1.41-.59l7.78-7.78 2.81-2.81c.8-.78.8-2.07 0-2.86zM5.41 20L4 18.59l7.72-7.72 1.47 1.35L5.41 20z\"/>\n",
              "  </svg>\n",
              "      </button>\n",
              "      \n",
              "  <style>\n",
              "    .colab-df-container {\n",
              "      display:flex;\n",
              "      flex-wrap:wrap;\n",
              "      gap: 12px;\n",
              "    }\n",
              "\n",
              "    .colab-df-convert {\n",
              "      background-color: #E8F0FE;\n",
              "      border: none;\n",
              "      border-radius: 50%;\n",
              "      cursor: pointer;\n",
              "      display: none;\n",
              "      fill: #1967D2;\n",
              "      height: 32px;\n",
              "      padding: 0 0 0 0;\n",
              "      width: 32px;\n",
              "    }\n",
              "\n",
              "    .colab-df-convert:hover {\n",
              "      background-color: #E2EBFA;\n",
              "      box-shadow: 0px 1px 2px rgba(60, 64, 67, 0.3), 0px 1px 3px 1px rgba(60, 64, 67, 0.15);\n",
              "      fill: #174EA6;\n",
              "    }\n",
              "\n",
              "    [theme=dark] .colab-df-convert {\n",
              "      background-color: #3B4455;\n",
              "      fill: #D2E3FC;\n",
              "    }\n",
              "\n",
              "    [theme=dark] .colab-df-convert:hover {\n",
              "      background-color: #434B5C;\n",
              "      box-shadow: 0px 1px 3px 1px rgba(0, 0, 0, 0.15);\n",
              "      filter: drop-shadow(0px 1px 2px rgba(0, 0, 0, 0.3));\n",
              "      fill: #FFFFFF;\n",
              "    }\n",
              "  </style>\n",
              "\n",
              "      <script>\n",
              "        const buttonEl =\n",
              "          document.querySelector('#df-f39bb970-bcb5-4838-a341-2bcaa94f5a68 button.colab-df-convert');\n",
              "        buttonEl.style.display =\n",
              "          google.colab.kernel.accessAllowed ? 'block' : 'none';\n",
              "\n",
              "        async function convertToInteractive(key) {\n",
              "          const element = document.querySelector('#df-f39bb970-bcb5-4838-a341-2bcaa94f5a68');\n",
              "          const dataTable =\n",
              "            await google.colab.kernel.invokeFunction('convertToInteractive',\n",
              "                                                     [key], {});\n",
              "          if (!dataTable) return;\n",
              "\n",
              "          const docLinkHtml = 'Like what you see? Visit the ' +\n",
              "            '<a target=\"_blank\" href=https://colab.research.google.com/notebooks/data_table.ipynb>data table notebook</a>'\n",
              "            + ' to learn more about interactive tables.';\n",
              "          element.innerHTML = '';\n",
              "          dataTable['output_type'] = 'display_data';\n",
              "          await google.colab.output.renderOutput(dataTable, element);\n",
              "          const docLink = document.createElement('div');\n",
              "          docLink.innerHTML = docLinkHtml;\n",
              "          element.appendChild(docLink);\n",
              "        }\n",
              "      </script>\n",
              "    </div>\n",
              "  </div>\n",
              "  "
            ]
          },
          "metadata": {},
          "execution_count": 4
        }
      ]
    },
    {
      "cell_type": "code",
      "source": [
        "df.info()"
      ],
      "metadata": {
        "colab": {
          "base_uri": "https://localhost:8080/"
        },
        "id": "Inzh30Ywyr2Z",
        "outputId": "64345d0f-4a0c-44dd-ca87-0052f82fde9c"
      },
      "execution_count": 5,
      "outputs": [
        {
          "output_type": "stream",
          "name": "stdout",
          "text": [
            "<class 'pandas.core.frame.DataFrame'>\n",
            "RangeIndex: 40000 entries, 0 to 39999\n",
            "Data columns (total 14 columns):\n",
            " #   Column     Non-Null Count  Dtype \n",
            "---  ------     --------------  ----- \n",
            " 0   age        40000 non-null  int64 \n",
            " 1   job        40000 non-null  object\n",
            " 2   marital    40000 non-null  object\n",
            " 3   education  40000 non-null  object\n",
            " 4   default    40000 non-null  object\n",
            " 5   balance    40000 non-null  int64 \n",
            " 6   housing    40000 non-null  object\n",
            " 7   loan       40000 non-null  object\n",
            " 8   contact    40000 non-null  object\n",
            " 9   day        40000 non-null  int64 \n",
            " 10  month      40000 non-null  object\n",
            " 11  duration   40000 non-null  int64 \n",
            " 12  campaign   40000 non-null  int64 \n",
            " 13  y          40000 non-null  object\n",
            "dtypes: int64(5), object(9)\n",
            "memory usage: 4.3+ MB\n"
          ]
        }
      ]
    },
    {
      "cell_type": "code",
      "source": [
        "df.isnull().values.any()"
      ],
      "metadata": {
        "colab": {
          "base_uri": "https://localhost:8080/"
        },
        "id": "eY867F3Qyx4-",
        "outputId": "4eab43d5-5b6e-4fcb-8d8e-9c8f644a7e13"
      },
      "execution_count": 6,
      "outputs": [
        {
          "output_type": "execute_result",
          "data": {
            "text/plain": [
              "False"
            ]
          },
          "metadata": {},
          "execution_count": 6
        }
      ]
    },
    {
      "cell_type": "markdown",
      "source": [
        "Great, looks like there are no missing values."
      ],
      "metadata": {
        "id": "jJlKQDmPKEvy"
      }
    },
    {
      "cell_type": "code",
      "source": [
        "df.describe()"
      ],
      "metadata": {
        "colab": {
          "base_uri": "https://localhost:8080/",
          "height": 300
        },
        "id": "5y7ZvVCWy3Kl",
        "outputId": "050a885b-af66-4b99-b1f4-3762518ff2ae"
      },
      "execution_count": 7,
      "outputs": [
        {
          "output_type": "execute_result",
          "data": {
            "text/plain": [
              "           age   balance      day  duration  campaign\n",
              "count 40000.00  40000.00 40000.00  40000.00  40000.00\n",
              "mean     40.54   1274.28    16.02    254.82      2.88\n",
              "std       9.64   2903.77     8.28    259.37      3.24\n",
              "min      19.00  -8019.00     1.00      0.00      1.00\n",
              "25%      33.00     54.00     8.00    100.00      1.00\n",
              "50%      39.00    407.00    17.00    175.00      2.00\n",
              "75%      48.00   1319.00    21.00    313.00      3.00\n",
              "max      95.00 102127.00    31.00   4918.00     63.00"
            ],
            "text/html": [
              "\n",
              "  <div id=\"df-e8c2a12c-fcb3-43e0-967a-d598ce2598b9\">\n",
              "    <div class=\"colab-df-container\">\n",
              "      <div>\n",
              "<style scoped>\n",
              "    .dataframe tbody tr th:only-of-type {\n",
              "        vertical-align: middle;\n",
              "    }\n",
              "\n",
              "    .dataframe tbody tr th {\n",
              "        vertical-align: top;\n",
              "    }\n",
              "\n",
              "    .dataframe thead th {\n",
              "        text-align: right;\n",
              "    }\n",
              "</style>\n",
              "<table border=\"1\" class=\"dataframe\">\n",
              "  <thead>\n",
              "    <tr style=\"text-align: right;\">\n",
              "      <th></th>\n",
              "      <th>age</th>\n",
              "      <th>balance</th>\n",
              "      <th>day</th>\n",
              "      <th>duration</th>\n",
              "      <th>campaign</th>\n",
              "    </tr>\n",
              "  </thead>\n",
              "  <tbody>\n",
              "    <tr>\n",
              "      <th>count</th>\n",
              "      <td>40000.00</td>\n",
              "      <td>40000.00</td>\n",
              "      <td>40000.00</td>\n",
              "      <td>40000.00</td>\n",
              "      <td>40000.00</td>\n",
              "    </tr>\n",
              "    <tr>\n",
              "      <th>mean</th>\n",
              "      <td>40.54</td>\n",
              "      <td>1274.28</td>\n",
              "      <td>16.02</td>\n",
              "      <td>254.82</td>\n",
              "      <td>2.88</td>\n",
              "    </tr>\n",
              "    <tr>\n",
              "      <th>std</th>\n",
              "      <td>9.64</td>\n",
              "      <td>2903.77</td>\n",
              "      <td>8.28</td>\n",
              "      <td>259.37</td>\n",
              "      <td>3.24</td>\n",
              "    </tr>\n",
              "    <tr>\n",
              "      <th>min</th>\n",
              "      <td>19.00</td>\n",
              "      <td>-8019.00</td>\n",
              "      <td>1.00</td>\n",
              "      <td>0.00</td>\n",
              "      <td>1.00</td>\n",
              "    </tr>\n",
              "    <tr>\n",
              "      <th>25%</th>\n",
              "      <td>33.00</td>\n",
              "      <td>54.00</td>\n",
              "      <td>8.00</td>\n",
              "      <td>100.00</td>\n",
              "      <td>1.00</td>\n",
              "    </tr>\n",
              "    <tr>\n",
              "      <th>50%</th>\n",
              "      <td>39.00</td>\n",
              "      <td>407.00</td>\n",
              "      <td>17.00</td>\n",
              "      <td>175.00</td>\n",
              "      <td>2.00</td>\n",
              "    </tr>\n",
              "    <tr>\n",
              "      <th>75%</th>\n",
              "      <td>48.00</td>\n",
              "      <td>1319.00</td>\n",
              "      <td>21.00</td>\n",
              "      <td>313.00</td>\n",
              "      <td>3.00</td>\n",
              "    </tr>\n",
              "    <tr>\n",
              "      <th>max</th>\n",
              "      <td>95.00</td>\n",
              "      <td>102127.00</td>\n",
              "      <td>31.00</td>\n",
              "      <td>4918.00</td>\n",
              "      <td>63.00</td>\n",
              "    </tr>\n",
              "  </tbody>\n",
              "</table>\n",
              "</div>\n",
              "      <button class=\"colab-df-convert\" onclick=\"convertToInteractive('df-e8c2a12c-fcb3-43e0-967a-d598ce2598b9')\"\n",
              "              title=\"Convert this dataframe to an interactive table.\"\n",
              "              style=\"display:none;\">\n",
              "        \n",
              "  <svg xmlns=\"http://www.w3.org/2000/svg\" height=\"24px\"viewBox=\"0 0 24 24\"\n",
              "       width=\"24px\">\n",
              "    <path d=\"M0 0h24v24H0V0z\" fill=\"none\"/>\n",
              "    <path d=\"M18.56 5.44l.94 2.06.94-2.06 2.06-.94-2.06-.94-.94-2.06-.94 2.06-2.06.94zm-11 1L8.5 8.5l.94-2.06 2.06-.94-2.06-.94L8.5 2.5l-.94 2.06-2.06.94zm10 10l.94 2.06.94-2.06 2.06-.94-2.06-.94-.94-2.06-.94 2.06-2.06.94z\"/><path d=\"M17.41 7.96l-1.37-1.37c-.4-.4-.92-.59-1.43-.59-.52 0-1.04.2-1.43.59L10.3 9.45l-7.72 7.72c-.78.78-.78 2.05 0 2.83L4 21.41c.39.39.9.59 1.41.59.51 0 1.02-.2 1.41-.59l7.78-7.78 2.81-2.81c.8-.78.8-2.07 0-2.86zM5.41 20L4 18.59l7.72-7.72 1.47 1.35L5.41 20z\"/>\n",
              "  </svg>\n",
              "      </button>\n",
              "      \n",
              "  <style>\n",
              "    .colab-df-container {\n",
              "      display:flex;\n",
              "      flex-wrap:wrap;\n",
              "      gap: 12px;\n",
              "    }\n",
              "\n",
              "    .colab-df-convert {\n",
              "      background-color: #E8F0FE;\n",
              "      border: none;\n",
              "      border-radius: 50%;\n",
              "      cursor: pointer;\n",
              "      display: none;\n",
              "      fill: #1967D2;\n",
              "      height: 32px;\n",
              "      padding: 0 0 0 0;\n",
              "      width: 32px;\n",
              "    }\n",
              "\n",
              "    .colab-df-convert:hover {\n",
              "      background-color: #E2EBFA;\n",
              "      box-shadow: 0px 1px 2px rgba(60, 64, 67, 0.3), 0px 1px 3px 1px rgba(60, 64, 67, 0.15);\n",
              "      fill: #174EA6;\n",
              "    }\n",
              "\n",
              "    [theme=dark] .colab-df-convert {\n",
              "      background-color: #3B4455;\n",
              "      fill: #D2E3FC;\n",
              "    }\n",
              "\n",
              "    [theme=dark] .colab-df-convert:hover {\n",
              "      background-color: #434B5C;\n",
              "      box-shadow: 0px 1px 3px 1px rgba(0, 0, 0, 0.15);\n",
              "      filter: drop-shadow(0px 1px 2px rgba(0, 0, 0, 0.3));\n",
              "      fill: #FFFFFF;\n",
              "    }\n",
              "  </style>\n",
              "\n",
              "      <script>\n",
              "        const buttonEl =\n",
              "          document.querySelector('#df-e8c2a12c-fcb3-43e0-967a-d598ce2598b9 button.colab-df-convert');\n",
              "        buttonEl.style.display =\n",
              "          google.colab.kernel.accessAllowed ? 'block' : 'none';\n",
              "\n",
              "        async function convertToInteractive(key) {\n",
              "          const element = document.querySelector('#df-e8c2a12c-fcb3-43e0-967a-d598ce2598b9');\n",
              "          const dataTable =\n",
              "            await google.colab.kernel.invokeFunction('convertToInteractive',\n",
              "                                                     [key], {});\n",
              "          if (!dataTable) return;\n",
              "\n",
              "          const docLinkHtml = 'Like what you see? Visit the ' +\n",
              "            '<a target=\"_blank\" href=https://colab.research.google.com/notebooks/data_table.ipynb>data table notebook</a>'\n",
              "            + ' to learn more about interactive tables.';\n",
              "          element.innerHTML = '';\n",
              "          dataTable['output_type'] = 'display_data';\n",
              "          await google.colab.output.renderOutput(dataTable, element);\n",
              "          const docLink = document.createElement('div');\n",
              "          docLink.innerHTML = docLinkHtml;\n",
              "          element.appendChild(docLink);\n",
              "        }\n",
              "      </script>\n",
              "    </div>\n",
              "  </div>\n",
              "  "
            ]
          },
          "metadata": {},
          "execution_count": 7
        }
      ]
    },
    {
      "cell_type": "markdown",
      "source": [
        "The balance variable is quite skewed and has a large variance as seen below. We will take a closer look at these distributions later. This data should be scaled before modeling."
      ],
      "metadata": {
        "id": "fY37u36EKObh"
      }
    },
    {
      "cell_type": "code",
      "source": [
        "df.var()"
      ],
      "metadata": {
        "colab": {
          "base_uri": "https://localhost:8080/"
        },
        "id": "EPzQCfFS0Q2W",
        "outputId": "1518a2ea-2f19-49d0-bc8e-738afe1528c8"
      },
      "execution_count": 8,
      "outputs": [
        {
          "output_type": "execute_result",
          "data": {
            "text/plain": [
              "age             92.96\n",
              "balance    8431878.56\n",
              "day             68.53\n",
              "duration     67270.98\n",
              "campaign        10.49\n",
              "dtype: float64"
            ]
          },
          "metadata": {},
          "execution_count": 8
        }
      ]
    },
    {
      "cell_type": "code",
      "source": [
        "print(df.groupby(['y']).size() / df.shape[0] * 100)"
      ],
      "metadata": {
        "colab": {
          "base_uri": "https://localhost:8080/"
        },
        "id": "E_HQ1eZe0plG",
        "outputId": "3e0be217-8b38-42d0-92c5-e3a02cf00dc1"
      },
      "execution_count": 9,
      "outputs": [
        {
          "output_type": "stream",
          "name": "stdout",
          "text": [
            "y\n",
            "no    92.76\n",
            "yes    7.24\n",
            "dtype: float64\n"
          ]
        }
      ]
    },
    {
      "cell_type": "markdown",
      "source": [
        "Only about 7% of customers have subscribed to a term deposit in this data set.  We will have to make sure that we stratify this data before modeling.  This will ensure a test set of approximately the same percentage."
      ],
      "metadata": {
        "id": "0gJ4aN1rK1Sg"
      }
    },
    {
      "cell_type": "code",
      "source": [
        "plt.figure(figsize=(10,15))\n",
        "\n",
        "sns.countplot(y = 'month', data = df, order=df.month.value_counts().index)\n",
        "plt.title('Records by Month')\n",
        "plt.xlabel('Count')\n",
        "\n",
        "plt.show()"
      ],
      "metadata": {
        "colab": {
          "base_uri": "https://localhost:8080/",
          "height": 897
        },
        "id": "Vo40zSsmCPyI",
        "outputId": "e8963ea7-cc1e-405c-8e17-97950aeb4bfc"
      },
      "execution_count": 10,
      "outputs": [
        {
          "output_type": "display_data",
          "data": {
            "text/plain": [
              "<Figure size 720x1080 with 1 Axes>"
            ],
            "image/png": "[encoded data removed]"
          },
          "metadata": {
            "needs_background": "light"
          }
        }
      ]
    },
    {
      "cell_type": "markdown",
      "source": [
        "This distribution plot of the month field is not what I expected at all.  Very little observations in March, October, December and none in September.  Now, three of these months are at the end of a quarter but so is June, which has a substantial amount of observations.  I suspect that this would skew results and provide little insight, so we will drop this variable from the data set.  "
      ],
      "metadata": {
        "id": "5dHjA831LKme"
      }
    },
    {
      "cell_type": "code",
      "source": [
        "df = df.drop(['month'], axis = 1)"
      ],
      "metadata": {
        "id": "jtv9B5yuDrvZ"
      },
      "execution_count": 11,
      "outputs": []
    },
    {
      "cell_type": "code",
      "source": [
        "df.hist(figsize=(10,10), bins = 30)\n",
        "plt.subplots_adjust(hspace=0.5);"
      ],
      "metadata": {
        "colab": {
          "base_uri": "https://localhost:8080/",
          "height": 609
        },
        "id": "z5wBlSMsFKZG",
        "outputId": "ef7c329a-42bf-4705-b97b-ba8e3f110a5e"
      },
      "execution_count": 12,
      "outputs": [
        {
          "output_type": "display_data",
          "data": {
            "text/plain": [
              "<Figure size 720x720 with 6 Axes>"
            ],
            "image/png": "[encoded data removed]"
          },
          "metadata": {
            "needs_background": "light"
          }
        }
      ]
    },
    {
      "cell_type": "markdown",
      "source": [
        "These distributions are interesting as balance, duration and campaign are skewed to the right.  Day and age are interesting as age is almost symmetric centering around 35 years of age and day fluctuates throught the month.  These variables look relevant."
      ],
      "metadata": {
        "id": "mitWkd1QLySo"
      }
    },
    {
      "cell_type": "code",
      "source": [
        "print(df.nunique())"
      ],
      "metadata": {
        "colab": {
          "base_uri": "https://localhost:8080/"
        },
        "id": "-xjJjfd_G1Gb",
        "outputId": "db47fcd3-9b2b-4dd9-b425-09bce2adbf09"
      },
      "execution_count": 13,
      "outputs": [
        {
          "output_type": "stream",
          "name": "stdout",
          "text": [
            "age            70\n",
            "job            12\n",
            "marital         3\n",
            "education       4\n",
            "default         2\n",
            "balance      6849\n",
            "housing         2\n",
            "loan            2\n",
            "contact         3\n",
            "day            31\n",
            "duration     1535\n",
            "campaign       48\n",
            "y               2\n",
            "dtype: int64\n"
          ]
        }
      ]
    },
    {
      "cell_type": "markdown",
      "source": [
        "Unique values for variables help identify categorical, binary and continuous variables. The only strange one is the job variable but this makes sense. Below,we will check the distribution of seemingly categorical variables and check for unknown values."
      ],
      "metadata": {
        "id": "FKnUDRHtMaoc"
      }
    },
    {
      "cell_type": "code",
      "source": [
        "df.job.value_counts()"
      ],
      "metadata": {
        "colab": {
          "base_uri": "https://localhost:8080/"
        },
        "id": "6FPDyF9lIA5w",
        "outputId": "7cbb5a83-1e3f-4edd-ca51-86c7ffe113a5"
      },
      "execution_count": 14,
      "outputs": [
        {
          "output_type": "execute_result",
          "data": {
            "text/plain": [
              "blue-collar      9383\n",
              "management       8166\n",
              "technician       6852\n",
              "admin            4483\n",
              "services         3910\n",
              "retired          1437\n",
              "self-employed    1414\n",
              "entrepreneur     1405\n",
              "unemployed       1104\n",
              "housemaid        1087\n",
              "student           524\n",
              "unknown           235\n",
              "Name: job, dtype: int64"
            ]
          },
          "metadata": {},
          "execution_count": 14
        }
      ]
    },
    {
      "cell_type": "code",
      "source": [
        "df.marital.value_counts()"
      ],
      "metadata": {
        "colab": {
          "base_uri": "https://localhost:8080/"
        },
        "id": "-snFoDDTIngE",
        "outputId": "031ea8bc-68ed-4600-a633-651d7375f408"
      },
      "execution_count": 15,
      "outputs": [
        {
          "output_type": "execute_result",
          "data": {
            "text/plain": [
              "married     24386\n",
              "single      10889\n",
              "divorced     4725\n",
              "Name: marital, dtype: int64"
            ]
          },
          "metadata": {},
          "execution_count": 15
        }
      ]
    },
    {
      "cell_type": "code",
      "source": [
        "df.education.value_counts()"
      ],
      "metadata": {
        "colab": {
          "base_uri": "https://localhost:8080/"
        },
        "id": "wQuRAtumJAAl",
        "outputId": "4c9f8dba-8d4c-4b9a-d9d5-f5ca65f6ef3b"
      },
      "execution_count": 16,
      "outputs": [
        {
          "output_type": "execute_result",
          "data": {
            "text/plain": [
              "secondary    20993\n",
              "tertiary     11206\n",
              "primary       6270\n",
              "unknown       1531\n",
              "Name: education, dtype: int64"
            ]
          },
          "metadata": {},
          "execution_count": 16
        }
      ]
    },
    {
      "cell_type": "markdown",
      "source": [
        "We have a very small amount of 'unknown' values for job and education variables.  Comparatively, we can remove these unknowns if it is less than 5% of the data set, which is standard."
      ],
      "metadata": {
        "id": "s3EknydQND4W"
      }
    },
    {
      "cell_type": "code",
      "source": [
        "df.contact.value_counts()"
      ],
      "metadata": {
        "colab": {
          "base_uri": "https://localhost:8080/"
        },
        "id": "7TC5YH7JJVXr",
        "outputId": "ff1d28fa-061f-4059-cadb-a95d0be92a62"
      },
      "execution_count": 17,
      "outputs": [
        {
          "output_type": "execute_result",
          "data": {
            "text/plain": [
              "cellular     24914\n",
              "unknown      12765\n",
              "telephone     2321\n",
              "Name: contact, dtype: int64"
            ]
          },
          "metadata": {},
          "execution_count": 17
        }
      ]
    },
    {
      "cell_type": "code",
      "source": [
        "#Removing 'unknown' values from the data set.\n",
        "contacts = df[df['contact'] == 'unknown']\n",
        "\n",
        "print(contacts.groupby(['y']).size() / contacts.shape[0] * 100)"
      ],
      "metadata": {
        "colab": {
          "base_uri": "https://localhost:8080/"
        },
        "id": "JWDJppflJt9Y",
        "outputId": "410ac605-322c-468f-c632-45c90dc4f8e8"
      },
      "execution_count": 18,
      "outputs": [
        {
          "output_type": "stream",
          "name": "stdout",
          "text": [
            "y\n",
            "no    96.11\n",
            "yes    3.89\n",
            "dtype: float64\n"
          ]
        }
      ]
    },
    {
      "cell_type": "markdown",
      "source": [
        "The contact field is strange as we are only differentiating between cellular and hose phones and the number for house phones is small.  Moreover, there are over 12,000 unknown entries.  This variable should be deleted from the data set as I do not suspect that it will provide much insight and if it does, it calls for a new experiment and survey. "
      ],
      "metadata": {
        "id": "SytPdL3GNpVf"
      }
    },
    {
      "cell_type": "code",
      "source": [
        "df = df.drop(['contact'], axis = 1)"
      ],
      "metadata": {
        "id": "nMeaoiWCNBmd"
      },
      "execution_count": 19,
      "outputs": []
    },
    {
      "cell_type": "code",
      "source": [
        "#Removing 'unknown' values from the data set.\n",
        "df = df[df['education'] != 'unknown']"
      ],
      "metadata": {
        "id": "CcWLImNeS5gn"
      },
      "execution_count": 20,
      "outputs": []
    },
    {
      "cell_type": "code",
      "source": [
        "df.job.value_counts()"
      ],
      "metadata": {
        "colab": {
          "base_uri": "https://localhost:8080/"
        },
        "id": "cmpGXqk_TMf2",
        "outputId": "70254cca-c268-4df9-deac-b9dbca561051"
      },
      "execution_count": 21,
      "outputs": [
        {
          "output_type": "execute_result",
          "data": {
            "text/plain": [
              "blue-collar      8944\n",
              "management       7977\n",
              "technician       6638\n",
              "admin            4335\n",
              "services         3775\n",
              "self-employed    1383\n",
              "retired          1378\n",
              "entrepreneur     1331\n",
              "unemployed       1080\n",
              "housemaid        1047\n",
              "student           450\n",
              "unknown           131\n",
              "Name: job, dtype: int64"
            ]
          },
          "metadata": {},
          "execution_count": 21
        }
      ]
    },
    {
      "cell_type": "markdown",
      "source": [
        "It looks like there are still some unknowns in the job variable as we did not catach all of them by removing unknowns from the education variable.  This means that we will remove 1662 rows from the data set of 40000 which is about 4 percent.  Because this is below 5%, this would be good practice and may help the predictive power of these features."
      ],
      "metadata": {
        "id": "d0oKaMUxTPLw"
      }
    },
    {
      "cell_type": "code",
      "source": [
        "df = df[df['job'] != 'unknown']"
      ],
      "metadata": {
        "id": "TbioYXoMUHCK"
      },
      "execution_count": 22,
      "outputs": []
    },
    {
      "cell_type": "code",
      "source": [
        "print(df.nunique())"
      ],
      "metadata": {
        "colab": {
          "base_uri": "https://localhost:8080/"
        },
        "id": "30KqG7BHURit",
        "outputId": "0f152283-68d9-4641-e357-33d62e287203"
      },
      "execution_count": 23,
      "outputs": [
        {
          "output_type": "stream",
          "name": "stdout",
          "text": [
            "age            70\n",
            "job            11\n",
            "marital         3\n",
            "education       3\n",
            "default         2\n",
            "balance      6685\n",
            "housing         2\n",
            "loan            2\n",
            "day            31\n",
            "duration     1522\n",
            "campaign       47\n",
            "y               2\n",
            "dtype: int64\n"
          ]
        }
      ]
    },
    {
      "cell_type": "code",
      "source": [
        "df.info()"
      ],
      "metadata": {
        "colab": {
          "base_uri": "https://localhost:8080/"
        },
        "id": "I_uUXQnnUWjI",
        "outputId": "602c92a4-ab64-4f1f-a634-817fe16e879e"
      },
      "execution_count": 24,
      "outputs": [
        {
          "output_type": "stream",
          "name": "stdout",
          "text": [
            "<class 'pandas.core.frame.DataFrame'>\n",
            "Int64Index: 38338 entries, 0 to 39999\n",
            "Data columns (total 12 columns):\n",
            " #   Column     Non-Null Count  Dtype \n",
            "---  ------     --------------  ----- \n",
            " 0   age        38338 non-null  int64 \n",
            " 1   job        38338 non-null  object\n",
            " 2   marital    38338 non-null  object\n",
            " 3   education  38338 non-null  object\n",
            " 4   default    38338 non-null  object\n",
            " 5   balance    38338 non-null  int64 \n",
            " 6   housing    38338 non-null  object\n",
            " 7   loan       38338 non-null  object\n",
            " 8   day        38338 non-null  int64 \n",
            " 9   duration   38338 non-null  int64 \n",
            " 10  campaign   38338 non-null  int64 \n",
            " 11  y          38338 non-null  object\n",
            "dtypes: int64(5), object(7)\n",
            "memory usage: 3.8+ MB\n"
          ]
        }
      ]
    },
    {
      "cell_type": "markdown",
      "source": [
        "That is more like it.  Time to wrangle some data."
      ],
      "metadata": {
        "id": "L6zFaXWxOV13"
      }
    },
    {
      "cell_type": "markdown",
      "source": [
        "##**Data Wrangling**"
      ],
      "metadata": {
        "id": "nbxx0pMM7JQ2"
      }
    },
    {
      "cell_type": "markdown",
      "source": [
        "We will now convert the binary variables to integers, namely the target y."
      ],
      "metadata": {
        "id": "knp6kschOdEr"
      }
    },
    {
      "cell_type": "code",
      "source": [
        "df['default'] = df['default'].replace({'no':0, 'yes':1})\n",
        "df['housing'] = df['housing'].replace({'no':0, 'yes':1})\n",
        "df['loan'] = df['loan'].replace({'no':0, 'yes':1})\n",
        "df['y'] = df['y'].replace({'no':0, 'yes':1})"
      ],
      "metadata": {
        "id": "ifkUBK5acJo4"
      },
      "execution_count": 25,
      "outputs": []
    },
    {
      "cell_type": "code",
      "source": [
        "df.info()"
      ],
      "metadata": {
        "colab": {
          "base_uri": "https://localhost:8080/"
        },
        "id": "x8Y_WMtEg7NT",
        "outputId": "8769854d-e07d-4930-c287-cbd6eff7167c"
      },
      "execution_count": 26,
      "outputs": [
        {
          "output_type": "stream",
          "name": "stdout",
          "text": [
            "<class 'pandas.core.frame.DataFrame'>\n",
            "Int64Index: 38338 entries, 0 to 39999\n",
            "Data columns (total 12 columns):\n",
            " #   Column     Non-Null Count  Dtype \n",
            "---  ------     --------------  ----- \n",
            " 0   age        38338 non-null  int64 \n",
            " 1   job        38338 non-null  object\n",
            " 2   marital    38338 non-null  object\n",
            " 3   education  38338 non-null  object\n",
            " 4   default    38338 non-null  int64 \n",
            " 5   balance    38338 non-null  int64 \n",
            " 6   housing    38338 non-null  int64 \n",
            " 7   loan       38338 non-null  int64 \n",
            " 8   day        38338 non-null  int64 \n",
            " 9   duration   38338 non-null  int64 \n",
            " 10  campaign   38338 non-null  int64 \n",
            " 11  y          38338 non-null  int64 \n",
            "dtypes: int64(9), object(3)\n",
            "memory usage: 3.8+ MB\n"
          ]
        }
      ]
    },
    {
      "cell_type": "markdown",
      "source": [
        "After converting binary variables to integers, there are only three variables that need converted for modeling purposes.  I will use the LabelEncoder here as there are now 11 values for the job feature.  Using One-Hot encoding or even feature hashing would create way too many features."
      ],
      "metadata": {
        "id": "au5TG_w9heqR"
      }
    },
    {
      "cell_type": "code",
      "source": [
        "gle = LabelEncoder()\n",
        "genre_labels = gle.fit_transform(df['job'])\n",
        "genre_mappings = {index: label for index, label in \n",
        "                  enumerate(gle.classes_)}\n",
        "genre_mappings"
      ],
      "metadata": {
        "colab": {
          "base_uri": "https://localhost:8080/"
        },
        "id": "kGVShby3iY8a",
        "outputId": "5585c5ab-2ac3-432d-cfe8-c1e689c1ec68"
      },
      "execution_count": 27,
      "outputs": [
        {
          "output_type": "execute_result",
          "data": {
            "text/plain": [
              "{0: 'admin',\n",
              " 1: 'blue-collar',\n",
              " 2: 'entrepreneur',\n",
              " 3: 'housemaid',\n",
              " 4: 'management',\n",
              " 5: 'retired',\n",
              " 6: 'self-employed',\n",
              " 7: 'services',\n",
              " 8: 'student',\n",
              " 9: 'technician',\n",
              " 10: 'unemployed'}"
            ]
          },
          "metadata": {},
          "execution_count": 27
        }
      ]
    },
    {
      "cell_type": "markdown",
      "source": [
        "Now, we can see a mapping scheme that has been created for each of the values has been mapped to a number.  We can simply create a new feature with these values and drop the subsequent values and refer to this scheme if necessary."
      ],
      "metadata": {
        "id": "eDh7VJKOi0mR"
      }
    },
    {
      "cell_type": "code",
      "source": [
        "df['jobLabel'] = genre_labels"
      ],
      "metadata": {
        "id": "SqWBpIFvjNW4"
      },
      "execution_count": 28,
      "outputs": []
    },
    {
      "cell_type": "code",
      "source": [
        "genre_labels_marital = gle.fit_transform(df['marital'])\n",
        "genre_mappings_marital = {index: label for index, label in \n",
        "                  enumerate(gle.classes_)}\n",
        "genre_mappings_marital"
      ],
      "metadata": {
        "colab": {
          "base_uri": "https://localhost:8080/"
        },
        "id": "NTjrEY90jb1x",
        "outputId": "7fee27c6-1508-44d1-dd17-199b7d5724b8"
      },
      "execution_count": 29,
      "outputs": [
        {
          "output_type": "execute_result",
          "data": {
            "text/plain": [
              "{0: 'divorced', 1: 'married', 2: 'single'}"
            ]
          },
          "metadata": {},
          "execution_count": 29
        }
      ]
    },
    {
      "cell_type": "code",
      "source": [
        "genre_labels_ed = gle.fit_transform(df['education'])\n",
        "genre_mappings_ed = {index: label for index, label in \n",
        "                  enumerate(gle.classes_)}\n",
        "genre_mappings_ed"
      ],
      "metadata": {
        "colab": {
          "base_uri": "https://localhost:8080/"
        },
        "id": "9IMQWG6yj8w9",
        "outputId": "ce5d6e9c-4e0d-463d-ec0c-683ccbc841f9"
      },
      "execution_count": 30,
      "outputs": [
        {
          "output_type": "execute_result",
          "data": {
            "text/plain": [
              "{0: 'primary', 1: 'secondary', 2: 'tertiary'}"
            ]
          },
          "metadata": {},
          "execution_count": 30
        }
      ]
    },
    {
      "cell_type": "code",
      "source": [
        "df['maritalLabel'] = genre_labels_marital\n",
        "df['edLabel'] = genre_labels_ed"
      ],
      "metadata": {
        "id": "zc5eKmq0kM3g"
      },
      "execution_count": 31,
      "outputs": []
    },
    {
      "cell_type": "code",
      "source": [
        "df.head()"
      ],
      "metadata": {
        "colab": {
          "base_uri": "https://localhost:8080/",
          "height": 206
        },
        "id": "WTkWELUHk4QN",
        "outputId": "e6bc30fd-4e5b-4708-dee0-3719a3d8dd83"
      },
      "execution_count": 32,
      "outputs": [
        {
          "output_type": "execute_result",
          "data": {
            "text/plain": [
              "   age           job  marital  education  default  balance  housing  loan  \\\n",
              "0   58    management  married   tertiary        0     2143        1     0   \n",
              "1   44    technician   single  secondary        0       29        1     0   \n",
              "2   33  entrepreneur  married  secondary        0        2        1     1   \n",
              "5   35    management  married   tertiary        0      231        1     0   \n",
              "6   28    management   single   tertiary        0      447        1     1   \n",
              "\n",
              "   day  duration  campaign  y  jobLabel  maritalLabel  edLabel  \n",
              "0    5       261         1  0         4             1        2  \n",
              "1    5       151         1  0         9             2        1  \n",
              "2    5        76         1  0         2             1        1  \n",
              "5    5       139         1  0         4             1        2  \n",
              "6    5       217         1  0         4             2        2  "
            ],
            "text/html": [
              "\n",
              "  <div id=\"df-5c84acab-99e8-46a8-bec6-05491bd0ff8e\">\n",
              "    <div class=\"colab-df-container\">\n",
              "      <div>\n",
              "<style scoped>\n",
              "    .dataframe tbody tr th:only-of-type {\n",
              "        vertical-align: middle;\n",
              "    }\n",
              "\n",
              "    .dataframe tbody tr th {\n",
              "        vertical-align: top;\n",
              "    }\n",
              "\n",
              "    .dataframe thead th {\n",
              "        text-align: right;\n",
              "    }\n",
              "</style>\n",
              "<table border=\"1\" class=\"dataframe\">\n",
              "  <thead>\n",
              "    <tr style=\"text-align: right;\">\n",
              "      <th></th>\n",
              "      <th>age</th>\n",
              "      <th>job</th>\n",
              "      <th>marital</th>\n",
              "      <th>education</th>\n",
              "      <th>default</th>\n",
              "      <th>balance</th>\n",
              "      <th>housing</th>\n",
              "      <th>loan</th>\n",
              "      <th>day</th>\n",
              "      <th>duration</th>\n",
              "      <th>campaign</th>\n",
              "      <th>y</th>\n",
              "      <th>jobLabel</th>\n",
              "      <th>maritalLabel</th>\n",
              "      <th>edLabel</th>\n",
              "    </tr>\n",
              "  </thead>\n",
              "  <tbody>\n",
              "    <tr>\n",
              "      <th>0</th>\n",
              "      <td>58</td>\n",
              "      <td>management</td>\n",
              "      <td>married</td>\n",
              "      <td>tertiary</td>\n",
              "      <td>0</td>\n",
              "      <td>2143</td>\n",
              "      <td>1</td>\n",
              "      <td>0</td>\n",
              "      <td>5</td>\n",
              "      <td>261</td>\n",
              "      <td>1</td>\n",
              "      <td>0</td>\n",
              "      <td>4</td>\n",
              "      <td>1</td>\n",
              "      <td>2</td>\n",
              "    </tr>\n",
              "    <tr>\n",
              "      <th>1</th>\n",
              "      <td>44</td>\n",
              "      <td>technician</td>\n",
              "      <td>single</td>\n",
              "      <td>secondary</td>\n",
              "      <td>0</td>\n",
              "      <td>29</td>\n",
              "      <td>1</td>\n",
              "      <td>0</td>\n",
              "      <td>5</td>\n",
              "      <td>151</td>\n",
              "      <td>1</td>\n",
              "      <td>0</td>\n",
              "      <td>9</td>\n",
              "      <td>2</td>\n",
              "      <td>1</td>\n",
              "    </tr>\n",
              "    <tr>\n",
              "      <th>2</th>\n",
              "      <td>33</td>\n",
              "      <td>entrepreneur</td>\n",
              "      <td>married</td>\n",
              "      <td>secondary</td>\n",
              "      <td>0</td>\n",
              "      <td>2</td>\n",
              "      <td>1</td>\n",
              "      <td>1</td>\n",
              "      <td>5</td>\n",
              "      <td>76</td>\n",
              "      <td>1</td>\n",
              "      <td>0</td>\n",
              "      <td>2</td>\n",
              "      <td>1</td>\n",
              "      <td>1</td>\n",
              "    </tr>\n",
              "    <tr>\n",
              "      <th>5</th>\n",
              "      <td>35</td>\n",
              "      <td>management</td>\n",
              "      <td>married</td>\n",
              "      <td>tertiary</td>\n",
              "      <td>0</td>\n",
              "      <td>231</td>\n",
              "      <td>1</td>\n",
              "      <td>0</td>\n",
              "      <td>5</td>\n",
              "      <td>139</td>\n",
              "      <td>1</td>\n",
              "      <td>0</td>\n",
              "      <td>4</td>\n",
              "      <td>1</td>\n",
              "      <td>2</td>\n",
              "    </tr>\n",
              "    <tr>\n",
              "      <th>6</th>\n",
              "      <td>28</td>\n",
              "      <td>management</td>\n",
              "      <td>single</td>\n",
              "      <td>tertiary</td>\n",
              "      <td>0</td>\n",
              "      <td>447</td>\n",
              "      <td>1</td>\n",
              "      <td>1</td>\n",
              "      <td>5</td>\n",
              "      <td>217</td>\n",
              "      <td>1</td>\n",
              "      <td>0</td>\n",
              "      <td>4</td>\n",
              "      <td>2</td>\n",
              "      <td>2</td>\n",
              "    </tr>\n",
              "  </tbody>\n",
              "</table>\n",
              "</div>\n",
              "      <button class=\"colab-df-convert\" onclick=\"convertToInteractive('df-5c84acab-99e8-46a8-bec6-05491bd0ff8e')\"\n",
              "              title=\"Convert this dataframe to an interactive table.\"\n",
              "              style=\"display:none;\">\n",
              "        \n",
              "  <svg xmlns=\"http://www.w3.org/2000/svg\" height=\"24px\"viewBox=\"0 0 24 24\"\n",
              "       width=\"24px\">\n",
              "    <path d=\"M0 0h24v24H0V0z\" fill=\"none\"/>\n",
              "    <path d=\"M18.56 5.44l.94 2.06.94-2.06 2.06-.94-2.06-.94-.94-2.06-.94 2.06-2.06.94zm-11 1L8.5 8.5l.94-2.06 2.06-.94-2.06-.94L8.5 2.5l-.94 2.06-2.06.94zm10 10l.94 2.06.94-2.06 2.06-.94-2.06-.94-.94-2.06-.94 2.06-2.06.94z\"/><path d=\"M17.41 7.96l-1.37-1.37c-.4-.4-.92-.59-1.43-.59-.52 0-1.04.2-1.43.59L10.3 9.45l-7.72 7.72c-.78.78-.78 2.05 0 2.83L4 21.41c.39.39.9.59 1.41.59.51 0 1.02-.2 1.41-.59l7.78-7.78 2.81-2.81c.8-.78.8-2.07 0-2.86zM5.41 20L4 18.59l7.72-7.72 1.47 1.35L5.41 20z\"/>\n",
              "  </svg>\n",
              "      </button>\n",
              "      \n",
              "  <style>\n",
              "    .colab-df-container {\n",
              "      display:flex;\n",
              "      flex-wrap:wrap;\n",
              "      gap: 12px;\n",
              "    }\n",
              "\n",
              "    .colab-df-convert {\n",
              "      background-color: #E8F0FE;\n",
              "      border: none;\n",
              "      border-radius: 50%;\n",
              "      cursor: pointer;\n",
              "      display: none;\n",
              "      fill: #1967D2;\n",
              "      height: 32px;\n",
              "      padding: 0 0 0 0;\n",
              "      width: 32px;\n",
              "    }\n",
              "\n",
              "    .colab-df-convert:hover {\n",
              "      background-color: #E2EBFA;\n",
              "      box-shadow: 0px 1px 2px rgba(60, 64, 67, 0.3), 0px 1px 3px 1px rgba(60, 64, 67, 0.15);\n",
              "      fill: #174EA6;\n",
              "    }\n",
              "\n",
              "    [theme=dark] .colab-df-convert {\n",
              "      background-color: #3B4455;\n",
              "      fill: #D2E3FC;\n",
              "    }\n",
              "\n",
              "    [theme=dark] .colab-df-convert:hover {\n",
              "      background-color: #434B5C;\n",
              "      box-shadow: 0px 1px 3px 1px rgba(0, 0, 0, 0.15);\n",
              "      filter: drop-shadow(0px 1px 2px rgba(0, 0, 0, 0.3));\n",
              "      fill: #FFFFFF;\n",
              "    }\n",
              "  </style>\n",
              "\n",
              "      <script>\n",
              "        const buttonEl =\n",
              "          document.querySelector('#df-5c84acab-99e8-46a8-bec6-05491bd0ff8e button.colab-df-convert');\n",
              "        buttonEl.style.display =\n",
              "          google.colab.kernel.accessAllowed ? 'block' : 'none';\n",
              "\n",
              "        async function convertToInteractive(key) {\n",
              "          const element = document.querySelector('#df-5c84acab-99e8-46a8-bec6-05491bd0ff8e');\n",
              "          const dataTable =\n",
              "            await google.colab.kernel.invokeFunction('convertToInteractive',\n",
              "                                                     [key], {});\n",
              "          if (!dataTable) return;\n",
              "\n",
              "          const docLinkHtml = 'Like what you see? Visit the ' +\n",
              "            '<a target=\"_blank\" href=https://colab.research.google.com/notebooks/data_table.ipynb>data table notebook</a>'\n",
              "            + ' to learn more about interactive tables.';\n",
              "          element.innerHTML = '';\n",
              "          dataTable['output_type'] = 'display_data';\n",
              "          await google.colab.output.renderOutput(dataTable, element);\n",
              "          const docLink = document.createElement('div');\n",
              "          docLink.innerHTML = docLinkHtml;\n",
              "          element.appendChild(docLink);\n",
              "        }\n",
              "      </script>\n",
              "    </div>\n",
              "  </div>\n",
              "  "
            ]
          },
          "metadata": {},
          "execution_count": 32
        }
      ]
    },
    {
      "cell_type": "code",
      "source": [
        "df.info()"
      ],
      "metadata": {
        "colab": {
          "base_uri": "https://localhost:8080/"
        },
        "id": "9cjDyaXwlAAu",
        "outputId": "24ec62fd-7a49-4ef2-de45-3af29659d10e"
      },
      "execution_count": 33,
      "outputs": [
        {
          "output_type": "stream",
          "name": "stdout",
          "text": [
            "<class 'pandas.core.frame.DataFrame'>\n",
            "Int64Index: 38338 entries, 0 to 39999\n",
            "Data columns (total 15 columns):\n",
            " #   Column        Non-Null Count  Dtype \n",
            "---  ------        --------------  ----- \n",
            " 0   age           38338 non-null  int64 \n",
            " 1   job           38338 non-null  object\n",
            " 2   marital       38338 non-null  object\n",
            " 3   education     38338 non-null  object\n",
            " 4   default       38338 non-null  int64 \n",
            " 5   balance       38338 non-null  int64 \n",
            " 6   housing       38338 non-null  int64 \n",
            " 7   loan          38338 non-null  int64 \n",
            " 8   day           38338 non-null  int64 \n",
            " 9   duration      38338 non-null  int64 \n",
            " 10  campaign      38338 non-null  int64 \n",
            " 11  y             38338 non-null  int64 \n",
            " 12  jobLabel      38338 non-null  int64 \n",
            " 13  maritalLabel  38338 non-null  int64 \n",
            " 14  edLabel       38338 non-null  int64 \n",
            "dtypes: int64(12), object(3)\n",
            "memory usage: 4.7+ MB\n"
          ]
        }
      ]
    },
    {
      "cell_type": "markdown",
      "source": [
        "Now, we will define our target (y), drop the remaining object features, define X and scale the values to get ready for modeling."
      ],
      "metadata": {
        "id": "HiLNCeCxlHrw"
      }
    },
    {
      "cell_type": "code",
      "source": [
        "y = df['y']\n",
        "\n",
        "df = df.drop(['job', 'marital', 'education', 'y'], axis = 1)"
      ],
      "metadata": {
        "id": "_hH8Pz_Bn4Ne"
      },
      "execution_count": 34,
      "outputs": []
    },
    {
      "cell_type": "code",
      "source": [
        "columns = df.columns\n",
        "columns"
      ],
      "metadata": {
        "colab": {
          "base_uri": "https://localhost:8080/"
        },
        "id": "Dt7yM3D6rTLd",
        "outputId": "236e8bd0-0861-4ff9-8f00-c0b279e6d277"
      },
      "execution_count": 35,
      "outputs": [
        {
          "output_type": "execute_result",
          "data": {
            "text/plain": [
              "Index(['age', 'default', 'balance', 'housing', 'loan', 'day', 'duration',\n",
              "       'campaign', 'jobLabel', 'maritalLabel', 'edLabel'],\n",
              "      dtype='object')"
            ]
          },
          "metadata": {},
          "execution_count": 35
        }
      ]
    },
    {
      "cell_type": "markdown",
      "source": [
        "This will allow us to add columns back to the dataframe but this data must be scaled first which is what we will do next."
      ],
      "metadata": {
        "id": "o9trQdL7OyYr"
      }
    },
    {
      "cell_type": "code",
      "source": [
        "#Here, we will scale the numerical data.\n",
        "\n",
        "scaler = StandardScaler()\n",
        "df = scaler.fit_transform(df)\n",
        "df = pd.DataFrame(df, columns = columns)"
      ],
      "metadata": {
        "id": "W69iP6-AnZSv"
      },
      "execution_count": 36,
      "outputs": []
    },
    {
      "cell_type": "code",
      "source": [
        "df.head()"
      ],
      "metadata": {
        "colab": {
          "base_uri": "https://localhost:8080/",
          "height": 206
        },
        "id": "f1xYdxD0lWT_",
        "outputId": "69ac32ca-600b-4e7c-b775-c73ef0e0212d"
      },
      "execution_count": 53,
      "outputs": [
        {
          "output_type": "execute_result",
          "data": {
            "text/plain": [
              "    age  default  balance  housing  loan   day  duration  campaign  jobLabel  \\\n",
              "0  1.84    -0.14     0.30     0.81 -0.46 -1.33      0.02     -0.59     -0.07   \n",
              "1  0.38    -0.14    -0.43     0.81 -0.46 -1.33     -0.40     -0.59      1.46   \n",
              "2 -0.77    -0.14    -0.44     0.81  2.15 -1.33     -0.69     -0.59     -0.69   \n",
              "3 -0.56    -0.14    -0.36     0.81 -0.46 -1.33     -0.45     -0.59     -0.07   \n",
              "4 -1.29    -0.14    -0.28     0.81  2.15 -1.33     -0.15     -0.59     -0.07   \n",
              "\n",
              "   maritalLabel  edLabel  \n",
              "0         -0.25     1.32  \n",
              "1          1.39    -0.20  \n",
              "2         -0.25    -0.20  \n",
              "3         -0.25     1.32  \n",
              "4          1.39     1.32  "
            ],
            "text/html": [
              "\n",
              "  <div id=\"df-c9cd17ba-649a-4526-88f6-b5df62320489\">\n",
              "    <div class=\"colab-df-container\">\n",
              "      <div>\n",
              "<style scoped>\n",
              "    .dataframe tbody tr th:only-of-type {\n",
              "        vertical-align: middle;\n",
              "    }\n",
              "\n",
              "    .dataframe tbody tr th {\n",
              "        vertical-align: top;\n",
              "    }\n",
              "\n",
              "    .dataframe thead th {\n",
              "        text-align: right;\n",
              "    }\n",
              "</style>\n",
              "<table border=\"1\" class=\"dataframe\">\n",
              "  <thead>\n",
              "    <tr style=\"text-align: right;\">\n",
              "      <th></th>\n",
              "      <th>age</th>\n",
              "      <th>default</th>\n",
              "      <th>balance</th>\n",
              "      <th>housing</th>\n",
              "      <th>loan</th>\n",
              "      <th>day</th>\n",
              "      <th>duration</th>\n",
              "      <th>campaign</th>\n",
              "      <th>jobLabel</th>\n",
              "      <th>maritalLabel</th>\n",
              "      <th>edLabel</th>\n",
              "    </tr>\n",
              "  </thead>\n",
              "  <tbody>\n",
              "    <tr>\n",
              "      <th>0</th>\n",
              "      <td>1.84</td>\n",
              "      <td>-0.14</td>\n",
              "      <td>0.30</td>\n",
              "      <td>0.81</td>\n",
              "      <td>-0.46</td>\n",
              "      <td>-1.33</td>\n",
              "      <td>0.02</td>\n",
              "      <td>-0.59</td>\n",
              "      <td>-0.07</td>\n",
              "      <td>-0.25</td>\n",
              "      <td>1.32</td>\n",
              "    </tr>\n",
              "    <tr>\n",
              "      <th>1</th>\n",
              "      <td>0.38</td>\n",
              "      <td>-0.14</td>\n",
              "      <td>-0.43</td>\n",
              "      <td>0.81</td>\n",
              "      <td>-0.46</td>\n",
              "      <td>-1.33</td>\n",
              "      <td>-0.40</td>\n",
              "      <td>-0.59</td>\n",
              "      <td>1.46</td>\n",
              "      <td>1.39</td>\n",
              "      <td>-0.20</td>\n",
              "    </tr>\n",
              "    <tr>\n",
              "      <th>2</th>\n",
              "      <td>-0.77</td>\n",
              "      <td>-0.14</td>\n",
              "      <td>-0.44</td>\n",
              "      <td>0.81</td>\n",
              "      <td>2.15</td>\n",
              "      <td>-1.33</td>\n",
              "      <td>-0.69</td>\n",
              "      <td>-0.59</td>\n",
              "      <td>-0.69</td>\n",
              "      <td>-0.25</td>\n",
              "      <td>-0.20</td>\n",
              "    </tr>\n",
              "    <tr>\n",
              "      <th>3</th>\n",
              "      <td>-0.56</td>\n",
              "      <td>-0.14</td>\n",
              "      <td>-0.36</td>\n",
              "      <td>0.81</td>\n",
              "      <td>-0.46</td>\n",
              "      <td>-1.33</td>\n",
              "      <td>-0.45</td>\n",
              "      <td>-0.59</td>\n",
              "      <td>-0.07</td>\n",
              "      <td>-0.25</td>\n",
              "      <td>1.32</td>\n",
              "    </tr>\n",
              "    <tr>\n",
              "      <th>4</th>\n",
              "      <td>-1.29</td>\n",
              "      <td>-0.14</td>\n",
              "      <td>-0.28</td>\n",
              "      <td>0.81</td>\n",
              "      <td>2.15</td>\n",
              "      <td>-1.33</td>\n",
              "      <td>-0.15</td>\n",
              "      <td>-0.59</td>\n",
              "      <td>-0.07</td>\n",
              "      <td>1.39</td>\n",
              "      <td>1.32</td>\n",
              "    </tr>\n",
              "  </tbody>\n",
              "</table>\n",
              "</div>\n",
              "      <button class=\"colab-df-convert\" onclick=\"convertToInteractive('df-c9cd17ba-649a-4526-88f6-b5df62320489')\"\n",
              "              title=\"Convert this dataframe to an interactive table.\"\n",
              "              style=\"display:none;\">\n",
              "        \n",
              "  <svg xmlns=\"http://www.w3.org/2000/svg\" height=\"24px\"viewBox=\"0 0 24 24\"\n",
              "       width=\"24px\">\n",
              "    <path d=\"M0 0h24v24H0V0z\" fill=\"none\"/>\n",
              "    <path d=\"M18.56 5.44l.94 2.06.94-2.06 2.06-.94-2.06-.94-.94-2.06-.94 2.06-2.06.94zm-11 1L8.5 8.5l.94-2.06 2.06-.94-2.06-.94L8.5 2.5l-.94 2.06-2.06.94zm10 10l.94 2.06.94-2.06 2.06-.94-2.06-.94-.94-2.06-.94 2.06-2.06.94z\"/><path d=\"M17.41 7.96l-1.37-1.37c-.4-.4-.92-.59-1.43-.59-.52 0-1.04.2-1.43.59L10.3 9.45l-7.72 7.72c-.78.78-.78 2.05 0 2.83L4 21.41c.39.39.9.59 1.41.59.51 0 1.02-.2 1.41-.59l7.78-7.78 2.81-2.81c.8-.78.8-2.07 0-2.86zM5.41 20L4 18.59l7.72-7.72 1.47 1.35L5.41 20z\"/>\n",
              "  </svg>\n",
              "      </button>\n",
              "      \n",
              "  <style>\n",
              "    .colab-df-container {\n",
              "      display:flex;\n",
              "      flex-wrap:wrap;\n",
              "      gap: 12px;\n",
              "    }\n",
              "\n",
              "    .colab-df-convert {\n",
              "      background-color: #E8F0FE;\n",
              "      border: none;\n",
              "      border-radius: 50%;\n",
              "      cursor: pointer;\n",
              "      display: none;\n",
              "      fill: #1967D2;\n",
              "      height: 32px;\n",
              "      padding: 0 0 0 0;\n",
              "      width: 32px;\n",
              "    }\n",
              "\n",
              "    .colab-df-convert:hover {\n",
              "      background-color: #E2EBFA;\n",
              "      box-shadow: 0px 1px 2px rgba(60, 64, 67, 0.3), 0px 1px 3px 1px rgba(60, 64, 67, 0.15);\n",
              "      fill: #174EA6;\n",
              "    }\n",
              "\n",
              "    [theme=dark] .colab-df-convert {\n",
              "      background-color: #3B4455;\n",
              "      fill: #D2E3FC;\n",
              "    }\n",
              "\n",
              "    [theme=dark] .colab-df-convert:hover {\n",
              "      background-color: #434B5C;\n",
              "      box-shadow: 0px 1px 3px 1px rgba(0, 0, 0, 0.15);\n",
              "      filter: drop-shadow(0px 1px 2px rgba(0, 0, 0, 0.3));\n",
              "      fill: #FFFFFF;\n",
              "    }\n",
              "  </style>\n",
              "\n",
              "      <script>\n",
              "        const buttonEl =\n",
              "          document.querySelector('#df-c9cd17ba-649a-4526-88f6-b5df62320489 button.colab-df-convert');\n",
              "        buttonEl.style.display =\n",
              "          google.colab.kernel.accessAllowed ? 'block' : 'none';\n",
              "\n",
              "        async function convertToInteractive(key) {\n",
              "          const element = document.querySelector('#df-c9cd17ba-649a-4526-88f6-b5df62320489');\n",
              "          const dataTable =\n",
              "            await google.colab.kernel.invokeFunction('convertToInteractive',\n",
              "                                                     [key], {});\n",
              "          if (!dataTable) return;\n",
              "\n",
              "          const docLinkHtml = 'Like what you see? Visit the ' +\n",
              "            '<a target=\"_blank\" href=https://colab.research.google.com/notebooks/data_table.ipynb>data table notebook</a>'\n",
              "            + ' to learn more about interactive tables.';\n",
              "          element.innerHTML = '';\n",
              "          dataTable['output_type'] = 'display_data';\n",
              "          await google.colab.output.renderOutput(dataTable, element);\n",
              "          const docLink = document.createElement('div');\n",
              "          docLink.innerHTML = docLinkHtml;\n",
              "          element.appendChild(docLink);\n",
              "        }\n",
              "      </script>\n",
              "    </div>\n",
              "  </div>\n",
              "  "
            ]
          },
          "metadata": {},
          "execution_count": 53
        }
      ]
    },
    {
      "cell_type": "markdown",
      "source": [
        "Now, we are ready for modeling."
      ],
      "metadata": {
        "id": "lSD0QhtsPEVu"
      }
    },
    {
      "cell_type": "markdown",
      "source": [
        "##**Modeling**"
      ],
      "metadata": {
        "id": "wNLOmBoar2HE"
      }
    },
    {
      "cell_type": "code",
      "source": [
        "X = df\n",
        "\n",
        "seed = 2346\n",
        "\n",
        "X_train, X_test, y_train, y_test = train_test_split(X, y, test_size=0.25, stratify=y, random_state=seed)\n",
        "print(X_train.shape[0] / X.shape[0])\n",
        "print(X_test.shape[0] / X.shape[0])"
      ],
      "metadata": {
        "colab": {
          "base_uri": "https://localhost:8080/"
        },
        "id": "yvBJMowisCro",
        "outputId": "b5494d2a-f761-498b-a473-1ed07a4913f0"
      },
      "execution_count": 38,
      "outputs": [
        {
          "output_type": "stream",
          "name": "stdout",
          "text": [
            "0.7499869581094476\n",
            "0.25001304189055246\n"
          ]
        }
      ]
    },
    {
      "cell_type": "markdown",
      "source": [
        "Good, the training and test sets are in the percentages we want them.  I always like to check that."
      ],
      "metadata": {
        "id": "W5LPgiC_PI4r"
      }
    },
    {
      "cell_type": "code",
      "source": [
        "clf = tree.DecisionTreeClassifier(max_depth = 7, criterion = 'gini', splitter = 'best')\n",
        "modelT = clf.fit(X_train, y_train)\n",
        "pred_y = modelT.predict(X_test)\n",
        "\n",
        "test_precision = round(precision_score(y_test, pred_y), 4)\n",
        "test_recall = round(recall_score(y_test, pred_y), 4)\n",
        "\n",
        "print(\"Training accuracy: \", round(clf.score(X_train, y_train), 4))\n",
        "print(\"Test accuracy: \", round(accuracy_score(y_test, pred_y), 4))\n",
        "print('Test precision: {}, Test recall: {}'.format(test_precision, test_recall))"
      ],
      "metadata": {
        "colab": {
          "base_uri": "https://localhost:8080/"
        },
        "id": "BtsCigslsmyL",
        "outputId": "ea93bef7-859c-49ed-b25b-1d12b5f41622"
      },
      "execution_count": 39,
      "outputs": [
        {
          "output_type": "stream",
          "name": "stdout",
          "text": [
            "Training accuracy:  0.9398\n",
            "Test accuracy:  0.93\n",
            "Test precision: 0.5351, Test recall: 0.2951\n"
          ]
        }
      ]
    },
    {
      "cell_type": "markdown",
      "source": [
        "Wow! That looks pretty good but this is only one tree, so the predictive power of the tree by itself is poor.  The precision and recall numbers are also low but this is an optimistic result.  Let's optimize the tree to see what a good depth would be and see what kind of customers would be most likely to purchase a term deposit."
      ],
      "metadata": {
        "id": "Q5o1UV_Utn_8"
      }
    },
    {
      "cell_type": "code",
      "source": [
        "depth_list = list(range(2, 15))\n",
        "depth_tuning = np.zeros((len(depth_list), 4))\n",
        "depth_tuning[:,0] = depth_list\n",
        "for index in range(len(depth_list)):\n",
        "    clf = DecisionTreeClassifier(max_depth=depth_list[index])\n",
        "    clf.fit(X_train, y_train)\n",
        "    pred_y = clf.predict(X_test)\n",
        "    depth_tuning[index,1] = accuracy_score(y_test, pred_y)\n",
        "    depth_tuning[index,2] = precision_score(y_test, pred_y)\n",
        "    depth_tuning[index,3] = recall_score(y_test, pred_y)\n",
        "col_names = ['Max_Depth', 'Accuracy', 'Precision', 'Recall']\n",
        "print(pd.DataFrame(depth_tuning, columns=col_names))"
      ],
      "metadata": {
        "colab": {
          "base_uri": "https://localhost:8080/"
        },
        "id": "xJb10yL5G8As",
        "outputId": "b0ca0cda-0d56-486a-ff69-fd374fce05c5"
      },
      "execution_count": 40,
      "outputs": [
        {
          "output_type": "stream",
          "name": "stdout",
          "text": [
            "    Max_Depth  Accuracy  Precision  Recall\n",
            "0        2.00      0.93       0.55    0.31\n",
            "1        3.00      0.93       0.57    0.24\n",
            "2        4.00      0.93       0.55    0.26\n",
            "3        5.00      0.93       0.56    0.26\n",
            "4        6.00      0.93       0.56    0.27\n",
            "5        7.00      0.93       0.53    0.29\n",
            "6        8.00      0.93       0.52    0.27\n",
            "7        9.00      0.93       0.53    0.27\n",
            "8       10.00      0.92       0.46    0.28\n",
            "9       11.00      0.93       0.48    0.30\n",
            "10      12.00      0.92       0.41    0.25\n",
            "11      13.00      0.92       0.42    0.31\n",
            "12      14.00      0.92       0.41    0.32\n"
          ]
        }
      ]
    },
    {
      "cell_type": "markdown",
      "source": [
        "We can see that a depth somewhere between 3 and 5 would be good for precision and a depth of 9 is best for recall but the accuracy does not change much.  Let's try a tree depth of 3 for visual appeal. Next, we will determine which features the decision tree finds to be most influential and plot the tree."
      ],
      "metadata": {
        "id": "fKc1A_10HdHl"
      }
    },
    {
      "cell_type": "code",
      "source": [
        "clf = tree.DecisionTreeClassifier(max_depth = 3, criterion = 'gini', splitter = 'best')\n",
        "modelT = clf.fit(X_train, y_train)\n",
        "fig = plt.figure(figsize=(25,20))\n",
        "tree.plot_tree(clf, feature_names = columns, filled=True)"
      ],
      "metadata": {
        "colab": {
          "base_uri": "https://localhost:8080/",
          "height": 1000
        },
        "id": "cXt2nNHXH9iM",
        "outputId": "0d1d5e5e-b67f-41b5-9a3b-a3da14e3f502"
      },
      "execution_count": 41,
      "outputs": [
        {
          "output_type": "execute_result",
          "data": {
            "text/plain": [
              "[Text(697.5, 951.3000000000001, 'duration <= 1.026\\ngini = 0.135\\nsamples = 28753\\nvalue = [26659, 2094]'),\n",
              " Text(348.75, 679.5, 'age <= 2.201\\ngini = 0.06\\nsamples = 25632\\nvalue = [24838, 794]'),\n",
              " Text(174.375, 407.70000000000005, 'duration <= 0.598\\ngini = 0.056\\nsamples = 25511\\nvalue = [24771, 740]'),\n",
              " Text(87.1875, 135.89999999999998, 'gini = 0.045\\nsamples = 23974\\nvalue = [23424, 550]'),\n",
              " Text(261.5625, 135.89999999999998, 'gini = 0.217\\nsamples = 1537\\nvalue = [1347, 190]'),\n",
              " Text(523.125, 407.70000000000005, 'duration <= -0.497\\ngini = 0.494\\nsamples = 121\\nvalue = [67, 54]'),\n",
              " Text(435.9375, 135.89999999999998, 'gini = 0.224\\nsamples = 39\\nvalue = [34, 5]'),\n",
              " Text(610.3125, 135.89999999999998, 'gini = 0.481\\nsamples = 82\\nvalue = [33, 49]'),\n",
              " Text(1046.25, 679.5, 'duration <= 2.127\\ngini = 0.486\\nsamples = 3121\\nvalue = [1821, 1300]'),\n",
              " Text(871.875, 407.70000000000005, 'duration <= 1.457\\ngini = 0.432\\nsamples = 1883\\nvalue = [1288, 595]'),\n",
              " Text(784.6875, 135.89999999999998, 'gini = 0.378\\nsamples = 982\\nvalue = [734, 248]'),\n",
              " Text(959.0625, 135.89999999999998, 'gini = 0.474\\nsamples = 901\\nvalue = [554, 347]'),\n",
              " Text(1220.625, 407.70000000000005, 'duration <= 2.546\\ngini = 0.49\\nsamples = 1238\\nvalue = [533, 705]'),\n",
              " Text(1133.4375, 135.89999999999998, 'gini = 0.499\\nsamples = 341\\nvalue = [179, 162]'),\n",
              " Text(1307.8125, 135.89999999999998, 'gini = 0.478\\nsamples = 897\\nvalue = [354, 543]')]"
            ]
          },
          "metadata": {},
          "execution_count": 41
        },
        {
          "output_type": "display_data",
          "data": {
            "text/plain": [
              "<Figure size 1800x1440 with 1 Axes>"
            ],
            "image/png": "[encoded data removed]"
          },
          "metadata": {
            "needs_background": "light"
          }
        }
      ]
    },
    {
      "cell_type": "markdown",
      "source": [
        "It may have been more helpful to perform the decision tree before scaling but it is easy to see that duration is key to determining who clients should market the term deposit to.  Customers who stay on the phone longer are more apt to purchase and then the tree splits on age.  Let's see if the Lazy Classifier can help us decide on a machine learning function to use."
      ],
      "metadata": {
        "id": "cLP3gQvJGrdg"
      }
    },
    {
      "cell_type": "code",
      "source": [
        "lazy = LazyClassifier(verbose=0,ignore_warnings=True, custom_metric=None)\n",
        "models,predictions = lazy.fit(X_train, X_test, y_train, y_test)\n",
        "\n",
        "models"
      ],
      "metadata": {
        "colab": {
          "base_uri": "https://localhost:8080/",
          "height": 914
        },
        "id": "dTfxYPnvwv11",
        "outputId": "0605286f-d42d-4977-b640-af37a9b09550"
      },
      "execution_count": 42,
      "outputs": [
        {
          "output_type": "stream",
          "name": "stderr",
          "text": [
            "100%|██████████| 29/29 [01:49<00:00,  3.77s/it]\n"
          ]
        },
        {
          "output_type": "execute_result",
          "data": {
            "text/plain": [
              "                               Accuracy  Balanced Accuracy  ROC AUC  F1 Score  \\\n",
              "Model                                                                           \n",
              "NearestCentroid                    0.88               0.79     0.79      0.90   \n",
              "GaussianNB                         0.93               0.68     0.68      0.92   \n",
              "QuadraticDiscriminantAnalysis      0.93               0.68     0.68      0.92   \n",
              "LinearDiscriminantAnalysis         0.93               0.67     0.67      0.92   \n",
              "DecisionTreeClassifier             0.90               0.65     0.65      0.90   \n",
              "ExtraTreeClassifier                0.90               0.64     0.64      0.90   \n",
              "LGBMClassifier                     0.93               0.63     0.63      0.92   \n",
              "XGBClassifier                      0.93               0.63     0.63      0.92   \n",
              "LabelPropagation                   0.91               0.63     0.63      0.90   \n",
              "LabelSpreading                     0.91               0.62     0.62      0.90   \n",
              "AdaBoostClassifier                 0.93               0.62     0.62      0.92   \n",
              "RandomForestClassifier             0.93               0.62     0.62      0.92   \n",
              "BaggingClassifier                  0.93               0.61     0.61      0.91   \n",
              "KNeighborsClassifier               0.93               0.60     0.60      0.91   \n",
              "CalibratedClassifierCV             0.93               0.60     0.60      0.92   \n",
              "ExtraTreesClassifier               0.93               0.59     0.59      0.91   \n",
              "LogisticRegression                 0.93               0.59     0.59      0.91   \n",
              "SVC                                0.93               0.57     0.57      0.91   \n",
              "SGDClassifier                      0.93               0.56     0.56      0.91   \n",
              "LinearSVC                          0.93               0.55     0.55      0.91   \n",
              "RidgeClassifier                    0.93               0.54     0.54      0.90   \n",
              "RidgeClassifierCV                  0.93               0.54     0.54      0.90   \n",
              "DummyClassifier                    0.87               0.51     0.51      0.87   \n",
              "BernoulliNB                        0.93               0.50     0.50      0.89   \n",
              "PassiveAggressiveClassifier        0.92               0.50     0.50      0.89   \n",
              "Perceptron                         0.91               0.50     0.50      0.89   \n",
              "\n",
              "                               Time Taken  \n",
              "Model                                      \n",
              "NearestCentroid                      0.07  \n",
              "GaussianNB                           0.05  \n",
              "QuadraticDiscriminantAnalysis        0.13  \n",
              "LinearDiscriminantAnalysis           0.20  \n",
              "DecisionTreeClassifier               0.20  \n",
              "ExtraTreeClassifier                  0.06  \n",
              "LGBMClassifier                       0.40  \n",
              "XGBClassifier                        0.69  \n",
              "LabelPropagation                    32.52  \n",
              "LabelSpreading                      42.53  \n",
              "AdaBoostClassifier                   1.10  \n",
              "RandomForestClassifier               3.31  \n",
              "BaggingClassifier                    0.99  \n",
              "KNeighborsClassifier                 2.23  \n",
              "CalibratedClassifierCV               8.02  \n",
              "ExtraTreesClassifier                 2.11  \n",
              "LogisticRegression                   0.12  \n",
              "SVC                                 11.53  \n",
              "SGDClassifier                        0.16  \n",
              "LinearSVC                            2.06  \n",
              "RidgeClassifier                      0.14  \n",
              "RidgeClassifierCV                    0.24  \n",
              "DummyClassifier                      0.04  \n",
              "BernoulliNB                          0.05  \n",
              "PassiveAggressiveClassifier          0.09  \n",
              "Perceptron                           0.11  "
            ],
            "text/html": [
              "\n",
              "  <div id=\"df-ee193c46-95a2-432c-b69e-2792c74d6075\">\n",
              "    <div class=\"colab-df-container\">\n",
              "      <div>\n",
              "<style scoped>\n",
              "    .dataframe tbody tr th:only-of-type {\n",
              "        vertical-align: middle;\n",
              "    }\n",
              "\n",
              "    .dataframe tbody tr th {\n",
              "        vertical-align: top;\n",
              "    }\n",
              "\n",
              "    .dataframe thead th {\n",
              "        text-align: right;\n",
              "    }\n",
              "</style>\n",
              "<table border=\"1\" class=\"dataframe\">\n",
              "  <thead>\n",
              "    <tr style=\"text-align: right;\">\n",
              "      <th></th>\n",
              "      <th>Accuracy</th>\n",
              "      <th>Balanced Accuracy</th>\n",
              "      <th>ROC AUC</th>\n",
              "      <th>F1 Score</th>\n",
              "      <th>Time Taken</th>\n",
              "    </tr>\n",
              "    <tr>\n",
              "      <th>Model</th>\n",
              "      <th></th>\n",
              "      <th></th>\n",
              "      <th></th>\n",
              "      <th></th>\n",
              "      <th></th>\n",
              "    </tr>\n",
              "  </thead>\n",
              "  <tbody>\n",
              "    <tr>\n",
              "      <th>NearestCentroid</th>\n",
              "      <td>0.88</td>\n",
              "      <td>0.79</td>\n",
              "      <td>0.79</td>\n",
              "      <td>0.90</td>\n",
              "      <td>0.07</td>\n",
              "    </tr>\n",
              "    <tr>\n",
              "      <th>GaussianNB</th>\n",
              "      <td>0.93</td>\n",
              "      <td>0.68</td>\n",
              "      <td>0.68</td>\n",
              "      <td>0.92</td>\n",
              "      <td>0.05</td>\n",
              "    </tr>\n",
              "    <tr>\n",
              "      <th>QuadraticDiscriminantAnalysis</th>\n",
              "      <td>0.93</td>\n",
              "      <td>0.68</td>\n",
              "      <td>0.68</td>\n",
              "      <td>0.92</td>\n",
              "      <td>0.13</td>\n",
              "    </tr>\n",
              "    <tr>\n",
              "      <th>LinearDiscriminantAnalysis</th>\n",
              "      <td>0.93</td>\n",
              "      <td>0.67</td>\n",
              "      <td>0.67</td>\n",
              "      <td>0.92</td>\n",
              "      <td>0.20</td>\n",
              "    </tr>\n",
              "    <tr>\n",
              "      <th>DecisionTreeClassifier</th>\n",
              "      <td>0.90</td>\n",
              "      <td>0.65</td>\n",
              "      <td>0.65</td>\n",
              "      <td>0.90</td>\n",
              "      <td>0.20</td>\n",
              "    </tr>\n",
              "    <tr>\n",
              "      <th>ExtraTreeClassifier</th>\n",
              "      <td>0.90</td>\n",
              "      <td>0.64</td>\n",
              "      <td>0.64</td>\n",
              "      <td>0.90</td>\n",
              "      <td>0.06</td>\n",
              "    </tr>\n",
              "    <tr>\n",
              "      <th>LGBMClassifier</th>\n",
              "      <td>0.93</td>\n",
              "      <td>0.63</td>\n",
              "      <td>0.63</td>\n",
              "      <td>0.92</td>\n",
              "      <td>0.40</td>\n",
              "    </tr>\n",
              "    <tr>\n",
              "      <th>XGBClassifier</th>\n",
              "      <td>0.93</td>\n",
              "      <td>0.63</td>\n",
              "      <td>0.63</td>\n",
              "      <td>0.92</td>\n",
              "      <td>0.69</td>\n",
              "    </tr>\n",
              "    <tr>\n",
              "      <th>LabelPropagation</th>\n",
              "      <td>0.91</td>\n",
              "      <td>0.63</td>\n",
              "      <td>0.63</td>\n",
              "      <td>0.90</td>\n",
              "      <td>32.52</td>\n",
              "    </tr>\n",
              "    <tr>\n",
              "      <th>LabelSpreading</th>\n",
              "      <td>0.91</td>\n",
              "      <td>0.62</td>\n",
              "      <td>0.62</td>\n",
              "      <td>0.90</td>\n",
              "      <td>42.53</td>\n",
              "    </tr>\n",
              "    <tr>\n",
              "      <th>AdaBoostClassifier</th>\n",
              "      <td>0.93</td>\n",
              "      <td>0.62</td>\n",
              "      <td>0.62</td>\n",
              "      <td>0.92</td>\n",
              "      <td>1.10</td>\n",
              "    </tr>\n",
              "    <tr>\n",
              "      <th>RandomForestClassifier</th>\n",
              "      <td>0.93</td>\n",
              "      <td>0.62</td>\n",
              "      <td>0.62</td>\n",
              "      <td>0.92</td>\n",
              "      <td>3.31</td>\n",
              "    </tr>\n",
              "    <tr>\n",
              "      <th>BaggingClassifier</th>\n",
              "      <td>0.93</td>\n",
              "      <td>0.61</td>\n",
              "      <td>0.61</td>\n",
              "      <td>0.91</td>\n",
              "      <td>0.99</td>\n",
              "    </tr>\n",
              "    <tr>\n",
              "      <th>KNeighborsClassifier</th>\n",
              "      <td>0.93</td>\n",
              "      <td>0.60</td>\n",
              "      <td>0.60</td>\n",
              "      <td>0.91</td>\n",
              "      <td>2.23</td>\n",
              "    </tr>\n",
              "    <tr>\n",
              "      <th>CalibratedClassifierCV</th>\n",
              "      <td>0.93</td>\n",
              "      <td>0.60</td>\n",
              "      <td>0.60</td>\n",
              "      <td>0.92</td>\n",
              "      <td>8.02</td>\n",
              "    </tr>\n",
              "    <tr>\n",
              "      <th>ExtraTreesClassifier</th>\n",
              "      <td>0.93</td>\n",
              "      <td>0.59</td>\n",
              "      <td>0.59</td>\n",
              "      <td>0.91</td>\n",
              "      <td>2.11</td>\n",
              "    </tr>\n",
              "    <tr>\n",
              "      <th>LogisticRegression</th>\n",
              "      <td>0.93</td>\n",
              "      <td>0.59</td>\n",
              "      <td>0.59</td>\n",
              "      <td>0.91</td>\n",
              "      <td>0.12</td>\n",
              "    </tr>\n",
              "    <tr>\n",
              "      <th>SVC</th>\n",
              "      <td>0.93</td>\n",
              "      <td>0.57</td>\n",
              "      <td>0.57</td>\n",
              "      <td>0.91</td>\n",
              "      <td>11.53</td>\n",
              "    </tr>\n",
              "    <tr>\n",
              "      <th>SGDClassifier</th>\n",
              "      <td>0.93</td>\n",
              "      <td>0.56</td>\n",
              "      <td>0.56</td>\n",
              "      <td>0.91</td>\n",
              "      <td>0.16</td>\n",
              "    </tr>\n",
              "    <tr>\n",
              "      <th>LinearSVC</th>\n",
              "      <td>0.93</td>\n",
              "      <td>0.55</td>\n",
              "      <td>0.55</td>\n",
              "      <td>0.91</td>\n",
              "      <td>2.06</td>\n",
              "    </tr>\n",
              "    <tr>\n",
              "      <th>RidgeClassifier</th>\n",
              "      <td>0.93</td>\n",
              "      <td>0.54</td>\n",
              "      <td>0.54</td>\n",
              "      <td>0.90</td>\n",
              "      <td>0.14</td>\n",
              "    </tr>\n",
              "    <tr>\n",
              "      <th>RidgeClassifierCV</th>\n",
              "      <td>0.93</td>\n",
              "      <td>0.54</td>\n",
              "      <td>0.54</td>\n",
              "      <td>0.90</td>\n",
              "      <td>0.24</td>\n",
              "    </tr>\n",
              "    <tr>\n",
              "      <th>DummyClassifier</th>\n",
              "      <td>0.87</td>\n",
              "      <td>0.51</td>\n",
              "      <td>0.51</td>\n",
              "      <td>0.87</td>\n",
              "      <td>0.04</td>\n",
              "    </tr>\n",
              "    <tr>\n",
              "      <th>BernoulliNB</th>\n",
              "      <td>0.93</td>\n",
              "      <td>0.50</td>\n",
              "      <td>0.50</td>\n",
              "      <td>0.89</td>\n",
              "      <td>0.05</td>\n",
              "    </tr>\n",
              "    <tr>\n",
              "      <th>PassiveAggressiveClassifier</th>\n",
              "      <td>0.92</td>\n",
              "      <td>0.50</td>\n",
              "      <td>0.50</td>\n",
              "      <td>0.89</td>\n",
              "      <td>0.09</td>\n",
              "    </tr>\n",
              "    <tr>\n",
              "      <th>Perceptron</th>\n",
              "      <td>0.91</td>\n",
              "      <td>0.50</td>\n",
              "      <td>0.50</td>\n",
              "      <td>0.89</td>\n",
              "      <td>0.11</td>\n",
              "    </tr>\n",
              "  </tbody>\n",
              "</table>\n",
              "</div>\n",
              "      <button class=\"colab-df-convert\" onclick=\"convertToInteractive('df-ee193c46-95a2-432c-b69e-2792c74d6075')\"\n",
              "              title=\"Convert this dataframe to an interactive table.\"\n",
              "              style=\"display:none;\">\n",
              "        \n",
              "  <svg xmlns=\"http://www.w3.org/2000/svg\" height=\"24px\"viewBox=\"0 0 24 24\"\n",
              "       width=\"24px\">\n",
              "    <path d=\"M0 0h24v24H0V0z\" fill=\"none\"/>\n",
              "    <path d=\"M18.56 5.44l.94 2.06.94-2.06 2.06-.94-2.06-.94-.94-2.06-.94 2.06-2.06.94zm-11 1L8.5 8.5l.94-2.06 2.06-.94-2.06-.94L8.5 2.5l-.94 2.06-2.06.94zm10 10l.94 2.06.94-2.06 2.06-.94-2.06-.94-.94-2.06-.94 2.06-2.06.94z\"/><path d=\"M17.41 7.96l-1.37-1.37c-.4-.4-.92-.59-1.43-.59-.52 0-1.04.2-1.43.59L10.3 9.45l-7.72 7.72c-.78.78-.78 2.05 0 2.83L4 21.41c.39.39.9.59 1.41.59.51 0 1.02-.2 1.41-.59l7.78-7.78 2.81-2.81c.8-.78.8-2.07 0-2.86zM5.41 20L4 18.59l7.72-7.72 1.47 1.35L5.41 20z\"/>\n",
              "  </svg>\n",
              "      </button>\n",
              "      \n",
              "  <style>\n",
              "    .colab-df-container {\n",
              "      display:flex;\n",
              "      flex-wrap:wrap;\n",
              "      gap: 12px;\n",
              "    }\n",
              "\n",
              "    .colab-df-convert {\n",
              "      background-color: #E8F0FE;\n",
              "      border: none;\n",
              "      border-radius: 50%;\n",
              "      cursor: pointer;\n",
              "      display: none;\n",
              "      fill: #1967D2;\n",
              "      height: 32px;\n",
              "      padding: 0 0 0 0;\n",
              "      width: 32px;\n",
              "    }\n",
              "\n",
              "    .colab-df-convert:hover {\n",
              "      background-color: #E2EBFA;\n",
              "      box-shadow: 0px 1px 2px rgba(60, 64, 67, 0.3), 0px 1px 3px 1px rgba(60, 64, 67, 0.15);\n",
              "      fill: #174EA6;\n",
              "    }\n",
              "\n",
              "    [theme=dark] .colab-df-convert {\n",
              "      background-color: #3B4455;\n",
              "      fill: #D2E3FC;\n",
              "    }\n",
              "\n",
              "    [theme=dark] .colab-df-convert:hover {\n",
              "      background-color: #434B5C;\n",
              "      box-shadow: 0px 1px 3px 1px rgba(0, 0, 0, 0.15);\n",
              "      filter: drop-shadow(0px 1px 2px rgba(0, 0, 0, 0.3));\n",
              "      fill: #FFFFFF;\n",
              "    }\n",
              "  </style>\n",
              "\n",
              "      <script>\n",
              "        const buttonEl =\n",
              "          document.querySelector('#df-ee193c46-95a2-432c-b69e-2792c74d6075 button.colab-df-convert');\n",
              "        buttonEl.style.display =\n",
              "          google.colab.kernel.accessAllowed ? 'block' : 'none';\n",
              "\n",
              "        async function convertToInteractive(key) {\n",
              "          const element = document.querySelector('#df-ee193c46-95a2-432c-b69e-2792c74d6075');\n",
              "          const dataTable =\n",
              "            await google.colab.kernel.invokeFunction('convertToInteractive',\n",
              "                                                     [key], {});\n",
              "          if (!dataTable) return;\n",
              "\n",
              "          const docLinkHtml = 'Like what you see? Visit the ' +\n",
              "            '<a target=\"_blank\" href=https://colab.research.google.com/notebooks/data_table.ipynb>data table notebook</a>'\n",
              "            + ' to learn more about interactive tables.';\n",
              "          element.innerHTML = '';\n",
              "          dataTable['output_type'] = 'display_data';\n",
              "          await google.colab.output.renderOutput(dataTable, element);\n",
              "          const docLink = document.createElement('div');\n",
              "          docLink.innerHTML = docLinkHtml;\n",
              "          element.appendChild(docLink);\n",
              "        }\n",
              "      </script>\n",
              "    </div>\n",
              "  </div>\n",
              "  "
            ]
          },
          "metadata": {},
          "execution_count": 42
        }
      ]
    },
    {
      "cell_type": "markdown",
      "source": [
        "Now, we should conceptually think about what machine learning algoritm to use.  The Light Gradient Boosting Machine may be the best choice here as it is tuneable, a good selection for the number of observations under 50,000 and it is good with a large number of features since we have not explored feature elimination yet.  Nearest Centroid and Gaussian Naive-Bayes does not have a great deal of hyperparameters, the Extra Tree Classifier can only be used in ensemble methods and the Decision Tree is what we tried earlier and does not have good predictive power as well as being extremely sensitive to changes in the data. Below is my function for hyperparameter tuning that uses randomized search cross-validation.  We can set the number of folds later."
      ],
      "metadata": {
        "id": "QOs0QnLV7ZmA"
      }
    },
    {
      "cell_type": "code",
      "source": [
        "def hyperparameter_tune(base_model, parameters, n_iter, k, X = X_train, y = y_train):\n",
        "    start_time = time.time()\n",
        "    \n",
        "    optimal_model = RandomizedSearchCV(base_model,\n",
        "                            param_distributions=parameters,\n",
        "                            n_iter=n_iter,\n",
        "                            cv=k,\n",
        "                            n_jobs=-1,\n",
        "                            random_state=seed)\n",
        "    \n",
        "    optimal_model.fit(X, y)\n",
        "    \n",
        "    stop_time = time.time()\n",
        "\n",
        "    scores = cross_val_score(optimal_model, X, y, cv=k, scoring=\"accuracy\")\n",
        "    \n",
        "    print(\"Elapsed Time:\", time.strftime(\"%H:%M:%S\", time.gmtime(stop_time - start_time)))\n",
        "    print(\"====================\")\n",
        "    print(\"Cross Val Mean: {:.3f}, Cross Val Stdev: {:.3f}\".format(scores.mean(), scores.std()))\n",
        "    print(\"Best Score: {:.3f}\".format(optimal_model.best_score_))\n",
        "    print(\"Best Parameters: {}\".format(optimal_model.best_params_))\n",
        "    \n",
        "    return optimal_model.best_params_, optimal_model.best_score_"
      ],
      "metadata": {
        "id": "aVpOScLQ9bR_"
      },
      "execution_count": 43,
      "outputs": []
    },
    {
      "cell_type": "markdown",
      "source": [
        "Now, we will define relevant hyperparameters for the LGBM classifier."
      ],
      "metadata": {
        "id": "Wbyb5CoD9ztR"
      }
    },
    {
      "cell_type": "code",
      "source": [
        "parameters = {\n",
        "        'silent': [False],\n",
        "        'max_depth': randint(3, 20),\n",
        "        'learning_rate': [0.001, 0.01, 0.1, 0.2, 0, 3],\n",
        "        'subsample': [0.5, 0.6, 0.7, 0.8, 0.9, 1.0],\n",
        "        'colsample_bytree': [0.4, 0.5, 0.6, 0.7, 0.8, 0.9, 1.0],\n",
        "        'min_child_weight': [0.5, 1.0, 3.0, 5.0, 7.0, 10.0],\n",
        "        'num_leaves': randint(15, 60),\n",
        "        'reg_lambda': loguniform(0.1, 100),\n",
        "        'n_estimators': randint(50, 300)\n",
        "}"
      ],
      "metadata": {
        "id": "oXjHhOiL91eD"
      },
      "execution_count": 44,
      "outputs": []
    },
    {
      "cell_type": "markdown",
      "source": [
        "Next, we will fit our Light Gradient Boosting Machine Classifier (LGBM) on the training set.  Here, we will use the best hyperparameter values after 60 iterations which should put us inside of a 95% confidence interval that we have the best model and to put those hyperparameters into our model subsequently. "
      ],
      "metadata": {
        "id": "CryAVhA5-VZd"
      }
    },
    {
      "cell_type": "code",
      "source": [
        "ltgb = lgb.LGBMClassifier(learning_rate=0.01, n_estimators=100, max_depth=15,subsample=0.52,colsample_bytree=0.6,seed=seed, \n",
        "                    reg_lambda=2, min_child_weight = 0.5, num_leaves=40)\n",
        "\n",
        "best_params, best_score = hyperparameter_tune(ltgb, parameters, 60, 5, X_train, y_train)"
      ],
      "metadata": {
        "colab": {
          "base_uri": "https://localhost:8080/"
        },
        "id": "RoXCSMYL-Rw1",
        "outputId": "887c7d3a-eaa5-4017-bec3-14dc40b78300"
      },
      "execution_count": 45,
      "outputs": [
        {
          "output_type": "stream",
          "name": "stdout",
          "text": [
            "Elapsed Time: 00:00:09\n",
            "====================\n",
            "Cross Val Mean: 0.932, Cross Val Stdev: 0.003\n",
            "Best Score: 0.933\n",
            "Best Parameters: {'colsample_bytree': 0.8, 'learning_rate': 0.1, 'max_depth': 6, 'min_child_weight': 10.0, 'n_estimators': 77, 'num_leaves': 16, 'reg_lambda': 0.5689290960786398, 'silent': False, 'subsample': 0.6}\n"
          ]
        }
      ]
    },
    {
      "cell_type": "markdown",
      "source": [
        "This was a really great score and we now have best parameters with 95% confidence.  Now, we should try the optimized model with a different random seed to see how it performs. "
      ],
      "metadata": {
        "id": "5S4sNEpIB3Zt"
      }
    },
    {
      "cell_type": "code",
      "source": [
        "ltgb_tuned = lgb.LGBMClassifier(learning_rate=0.1, n_estimators=77, max_depth=6, subsample=0.6,colsample_bytree=0.8,seed=1818, \n",
        "                    reg_lambda=0.5689290960786398, min_child_weight = 10, num_leaves=16)\n",
        "ltgb_tuned.fit(X_train,y_train)\n",
        "print(ltgb_tuned.score(X_train,y_train))\n",
        "print(ltgb_tuned.score(X_test,y_test))"
      ],
      "metadata": {
        "colab": {
          "base_uri": "https://localhost:8080/"
        },
        "id": "czmRrPWDCUK6",
        "outputId": "1c94ad91-0176-493f-f458-a3c903cdbc20"
      },
      "execution_count": 46,
      "outputs": [
        {
          "output_type": "stream",
          "name": "stdout",
          "text": [
            "0.9394845755225542\n",
            "0.9322900365153887\n"
          ]
        }
      ]
    },
    {
      "cell_type": "markdown",
      "source": [
        "This is a really high accuracy on the training and test sets, the target has been stratified and the values are close to the cross-validation mean. Below is the confusion matrix."
      ],
      "metadata": {
        "id": "ccBZSZXACzWn"
      }
    },
    {
      "cell_type": "code",
      "source": [
        "ltgb_predicted = ltgb_tuned.predict(X_test)\n",
        "\n",
        "plot_confusion_matrix(ltgb_tuned, X_test, y_test, cmap = 'Greens')\n",
        "plt.grid(False)\n",
        "plt.show()\n",
        "\n",
        "ltgb_acc_score = accuracy_score(y_test, ltgb_predicted)\n",
        "\n",
        "print(\"Accuracy of Light Gradient Boosting Machine:\",ltgb_acc_score*100,'\\n')\n",
        "print(classification_report(y_test,ltgb_predicted))"
      ],
      "metadata": {
        "colab": {
          "base_uri": "https://localhost:8080/",
          "height": 478
        },
        "id": "q8SbZGyHDCDB",
        "outputId": "7b39a88e-e686-460e-9d86-36051b40d727"
      },
      "execution_count": 47,
      "outputs": [
        {
          "output_type": "display_data",
          "data": {
            "text/plain": [
              "<Figure size 432x288 with 2 Axes>"
            ],
            "image/png": "[encoded data removed]"
          },
          "metadata": {
            "needs_background": "light"
          }
        },
        {
          "output_type": "stream",
          "name": "stdout",
          "text": [
            "Accuracy of Light Gradient Boosting Machine: 93.22900365153886 \n",
            "\n",
            "              precision    recall  f1-score   support\n",
            "\n",
            "           0       0.95      0.98      0.96      8887\n",
            "           1       0.57      0.28      0.38       698\n",
            "\n",
            "    accuracy                           0.93      9585\n",
            "   macro avg       0.76      0.63      0.67      9585\n",
            "weighted avg       0.92      0.93      0.92      9585\n",
            "\n"
          ]
        }
      ]
    },
    {
      "cell_type": "code",
      "source": [
        "y_pred_proba = ltgb_tuned.predict_proba(X_test)[:,1]\n",
        "fpr, tpr, thresholds = roc_curve(y_test, y_pred_proba)\n",
        "\n",
        "plt.plot([0,1],[0,1], color='#495084', linestyle='--')\n",
        "plt.plot(fpr,tpr, label='ltgb', color='#479D9E')\n",
        "plt.xlabel('False Positive Rate (FPR)')\n",
        "plt.ylabel('True Positive Rate (TPR)')\n",
        "plt.title('Light Gradient Boosting Machine ROC curve')\n",
        "plt.show()"
      ],
      "metadata": {
        "colab": {
          "base_uri": "https://localhost:8080/",
          "height": 299
        },
        "id": "FtYJCYR6DcNy",
        "outputId": "4899031a-d5b8-4795-bce8-328f967f253a"
      },
      "execution_count": 48,
      "outputs": [
        {
          "output_type": "display_data",
          "data": {
            "text/plain": [
              "<Figure size 432x288 with 1 Axes>"
            ],
            "image/png": "[encoded data removed]"
          },
          "metadata": {
            "needs_background": "light"
          }
        }
      ]
    },
    {
      "cell_type": "code",
      "source": [
        "roc = roc_auc_score(y_test,y_pred_proba)\n",
        "print('ROC Score: {:.2f}'.format(roc))"
      ],
      "metadata": {
        "colab": {
          "base_uri": "https://localhost:8080/"
        },
        "id": "44OdviPxDh9F",
        "outputId": "8b7f20c3-2114-46f5-b781-47c38190825a"
      },
      "execution_count": 49,
      "outputs": [
        {
          "output_type": "stream",
          "name": "stdout",
          "text": [
            "ROC Score: 0.91\n"
          ]
        }
      ]
    },
    {
      "cell_type": "code",
      "source": [
        "def plot_feature_importance(importance, names, model_type):\n",
        "\n",
        "#Create arrays from feature importance and feature names\n",
        "  feature_importance = np.array(importance)\n",
        "  feature_names = np.array(names)\n",
        "\n",
        "#Create a DataFrame using a Dictionary\n",
        "  data={'feature_names':feature_names,'feature_importance':feature_importance}\n",
        "  fi_df = pd.DataFrame(data)\n",
        "\n",
        "#Sort the DataFrame in order decreasing feature importance\n",
        "  fi_df.sort_values(by=['feature_importance'], ascending=False, inplace=True)\n",
        "\n",
        "#Define size of bar plot\n",
        "  plt.figure(figsize=(10,8))\n",
        "#Plot Searborn bar chart\n",
        "  sns.barplot(x=fi_df['feature_importance'], y=fi_df['feature_names'])\n",
        "#Add chart labels\n",
        "  plt.title(model_type + ' Feature Importance')\n",
        "  plt.xlabel('Feature Importance to Model')\n",
        "  plt.ylabel('Features')"
      ],
      "metadata": {
        "id": "gLEvbNlQDocl"
      },
      "execution_count": 50,
      "outputs": []
    },
    {
      "cell_type": "code",
      "source": [
        "plot_feature_importance(ltgb_tuned.feature_importances_, X_train.columns,'Light Gradient Boosting Machine Classifier')"
      ],
      "metadata": {
        "colab": {
          "base_uri": "https://localhost:8080/",
          "height": 517
        },
        "id": "FrJATIoNDt9k",
        "outputId": "c186c416-a06e-451b-df04-3ec912f2f8ee"
      },
      "execution_count": 51,
      "outputs": [
        {
          "output_type": "display_data",
          "data": {
            "text/plain": [
              "<Figure size 720x576 with 1 Axes>"
            ],
            "image/png": "[encoded data removed]"
          },
          "metadata": {
            "needs_background": "light"
          }
        }
      ]
    },
    {
      "cell_type": "markdown",
      "source": [
        "##**Conclusion**"
      ],
      "metadata": {
        "id": "8MiyciUHEFH1"
      }
    },
    {
      "cell_type": "markdown",
      "source": [
        "The accuracy of the Light Gradient Boosting Machine model on this data set was very good at over 93% on the test data after 5-fold randomized search cross-validation and stratifying the data set which makes me suspect that overfitting did not occur.  This number is almost identical to the average cross-validation accuracy on the training set. I created a hyperparameter tuning function to capture the best parameters for the model.  The area under the ROC curve was 0.91 for this model. The Lazy Classifier was used to help identify the Light Gradient Boosting Machine function for this project.\n",
        "\n",
        "Feature selection was performed during exploratory data analysis where the month feature did not have an even distribution of values.  The majority of observations were in the month of May and none were observed in September.  Additionally, contact was removed from the data set as there were a large number of unknown values and there was a very small distribution of customers who were contacted on their telephones as opposed to cellular.  I did not see how this would lend any insight especially since there were fewer customers that purchased a term deposit in the telephones class.  \n",
        "\n",
        "The Light Gradient Boosting Machine model has an embedded feature importance function and the results were a little surprising.  Customers that have defaulted has little importance on the model in terms of subscribing to a term deposit.  However, the duration of the last call to the customer was considered to be the most important feature in this model.  The day of the month in which the customer was contacted also had large importance as well.  Usually, with most banking business problems, the balance of an account is a usually of great importance to a model.  Lastly, the age of the customer has importance as well. Customers who stay on the phone longer than 5 minutes on their last call who were contacted on or close to payday, have an average yearly balance over $2500 and are under the age of 60 are prime candidates to purchase a term deposit. \n",
        "     "
      ],
      "metadata": {
        "id": "5acvV7RVEkyg"
      }
    }
  ]
}