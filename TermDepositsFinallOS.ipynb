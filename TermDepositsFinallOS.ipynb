{
  "nbformat": 4,
  "nbformat_minor": 0,
  "metadata": {
    "colab": {
      "name": "TermDepositsFinal.ipynb",
      "provenance": [],
      "collapsed_sections": [],
      "machine_shape": "hm"
    },
    "kernelspec": {
      "name": "python3",
      "display_name": "Python 3"
    },
    "language_info": {
      "name": "python"
    },
    "accelerator": "TPU"
  },
  "cells": [
    {
      "cell_type": "markdown",
      "source": [
        "# **Term Deposit Marketing**"
      ],
      "metadata": {
        "id": "BkAb6H5vwwIt"
      }
    },
    {
      "cell_type": "markdown",
      "source": [
        "**Background:**\n",
        "\n",
        "This project is for a small startup focusing mainly on providing machine learning solutions in the European banking market. They work on a variety of problems including fraud detection, sentiment classification and customer intention prediction and classification.\n",
        "\n",
        "They are interested in developing a robust machine learning system that leverages information coming from call center data.\n",
        "\n",
        "Ultimately, they are looking for ways to improve the success rate for calls made to customers for any product that our clients offer. Towards this goal, they are working on designing an ever evolving machine learning product that offers high success outcomes while offering interpretability for our clients to make informed decisions.\n",
        "\n",
        "**Data Description:**\n",
        "\n",
        "The data comes from direct marketing efforts of a European banking institution. The marketing campaign involves making a phone call to a customer, often multiple times to ensure a product subscription, in this case a term deposit. Term deposits are usually short-term deposits with maturities ranging from one month to a few years. The customer must understand when buying a term deposit that they can withdraw their funds only after the term ends. All customer information that might reveal personal information is removed due to privacy concerns.\n",
        "\n",
        "**Attributes:**\n",
        "\n",
        "age : age of customer (numeric)\n",
        "\n",
        "job : type of job (categorical)\n",
        "\n",
        "marital : marital status (categorical)\n",
        "\n",
        "education (categorical)\n",
        "\n",
        "default: has credit in default? (binary)\n",
        "\n",
        "balance: average yearly balance, in euros (numeric)\n",
        "\n",
        "housing: has a housing loan? (binary)\n",
        "\n",
        "loan: has personal loan? (binary)\n",
        "\n",
        "contact: contact communication type (categorical)\n",
        "\n",
        "day: last contact day of the month (numeric)\n",
        "\n",
        "month: last contact month of year (categorical)\n",
        "\n",
        "duration: last contact duration, in seconds (numeric)\n",
        "\n",
        "campaign: number of contacts performed during this campaign and for this client (numeric, includes last contact)\n",
        "\n",
        "Output (desired target):\n",
        "\n",
        "y - has the client subscribed to a term deposit? (binary)"
      ],
      "metadata": {
        "id": "aV1MCyDMw27e"
      }
    },
    {
      "cell_type": "markdown",
      "source": [
        "## **Importing Python packages and data**"
      ],
      "metadata": {
        "id": "zPBsWxNDxsU_"
      }
    },
    {
      "cell_type": "code",
      "source": [
        "import numpy as np\n",
        "import pandas as pd\n",
        "import matplotlib.pyplot as plt\n",
        "from matplotlib import rcParams\n",
        "from matplotlib import cm\n",
        "import matplotlib.ticker as mtick\n",
        "import matplotlib.style as style\n",
        "import seaborn as sns\n",
        "import scipy\n",
        "from scipy.stats import randint, loguniform\n",
        "from statistics import mean\n",
        "import collections\n",
        "from collections import Counter\n",
        "import warnings\n",
        "from google.colab import files\n",
        "import time\n",
        "style.use('ggplot')\n",
        "warnings.filterwarnings('ignore')\n",
        "from sklearn import tree\n",
        "from sklearn.tree import DecisionTreeClassifier\n",
        "!pip install category_encoders\n",
        "from category_encoders import TargetEncoder\n",
        "from imblearn.over_sampling import SMOTE\n",
        "from imblearn.over_sampling import RandomOverSampler\n",
        "from imblearn.ensemble import BalancedRandomForestClassifier\n",
        "import xgboost as xgb\n",
        "from xgboost import XGBClassifier\n",
        "from xgboost import plot_importance\n",
        "from sklearn.model_selection import train_test_split, cross_val_score, RandomizedSearchCV\n",
        "from sklearn.model_selection import cross_validate, RepeatedStratifiedKFold\n",
        "from sklearn.ensemble import RandomForestClassifier\n",
        "from sklearn.metrics import classification_report, roc_curve, roc_auc_score, f1_score\n",
        "from sklearn.metrics import accuracy_score, confusion_matrix, plot_confusion_matrix\n",
        "from sklearn.metrics import precision_score, recall_score, precision_recall_curve\n",
        "!pip install lazypredict\n",
        "from lazypredict.Supervised import LazyClassifier"
      ],
      "metadata": {
        "colab": {
          "base_uri": "https://localhost:8080/"
        },
        "id": "vGzmOlwqyDlx",
        "outputId": "d48d3a1a-5a82-47cd-eed1-917d5c7b5013"
      },
      "execution_count": 1,
      "outputs": [
        {
          "output_type": "stream",
          "name": "stdout",
          "text": [
            "Requirement already satisfied: category_encoders in /usr/local/lib/python3.7/dist-packages (2.4.1)\n",
            "Requirement already satisfied: numpy>=1.14.0 in /usr/local/lib/python3.7/dist-packages (from category_encoders) (1.19.1)\n",
            "Requirement already satisfied: patsy>=0.5.1 in /usr/local/lib/python3.7/dist-packages (from category_encoders) (0.5.2)\n",
            "Requirement already satisfied: scipy>=1.0.0 in /usr/local/lib/python3.7/dist-packages (from category_encoders) (1.5.4)\n",
            "Requirement already satisfied: scikit-learn>=0.20.0 in /usr/local/lib/python3.7/dist-packages (from category_encoders) (0.23.1)\n",
            "Requirement already satisfied: pandas>=0.21.1 in /usr/local/lib/python3.7/dist-packages (from category_encoders) (1.0.5)\n",
            "Requirement already satisfied: statsmodels>=0.9.0 in /usr/local/lib/python3.7/dist-packages (from category_encoders) (0.10.2)\n",
            "Requirement already satisfied: pytz>=2017.2 in /usr/local/lib/python3.7/dist-packages (from pandas>=0.21.1->category_encoders) (2022.1)\n",
            "Requirement already satisfied: python-dateutil>=2.6.1 in /usr/local/lib/python3.7/dist-packages (from pandas>=0.21.1->category_encoders) (2.8.2)\n",
            "Requirement already satisfied: six in /usr/local/lib/python3.7/dist-packages (from patsy>=0.5.1->category_encoders) (1.15.0)\n",
            "Requirement already satisfied: joblib>=0.11 in /usr/local/lib/python3.7/dist-packages (from scikit-learn>=0.20.0->category_encoders) (1.0.0)\n",
            "Requirement already satisfied: threadpoolctl>=2.0.0 in /usr/local/lib/python3.7/dist-packages (from scikit-learn>=0.20.0->category_encoders) (3.1.0)\n",
            "Requirement already satisfied: lazypredict in /usr/local/lib/python3.7/dist-packages (0.2.9)\n",
            "Requirement already satisfied: six==1.15.0 in /usr/local/lib/python3.7/dist-packages (from lazypredict) (1.15.0)\n",
            "Requirement already satisfied: numpy==1.19.1 in /usr/local/lib/python3.7/dist-packages (from lazypredict) (1.19.1)\n",
            "Requirement already satisfied: joblib==1.0.0 in /usr/local/lib/python3.7/dist-packages (from lazypredict) (1.0.0)\n",
            "Requirement already satisfied: tqdm==4.56.0 in /usr/local/lib/python3.7/dist-packages (from lazypredict) (4.56.0)\n",
            "Requirement already satisfied: pandas==1.0.5 in /usr/local/lib/python3.7/dist-packages (from lazypredict) (1.0.5)\n",
            "Requirement already satisfied: xgboost==1.1.1 in /usr/local/lib/python3.7/dist-packages (from lazypredict) (1.1.1)\n",
            "Requirement already satisfied: scipy==1.5.4 in /usr/local/lib/python3.7/dist-packages (from lazypredict) (1.5.4)\n",
            "Requirement already satisfied: lightgbm==2.3.1 in /usr/local/lib/python3.7/dist-packages (from lazypredict) (2.3.1)\n",
            "Requirement already satisfied: click==7.1.2 in /usr/local/lib/python3.7/dist-packages (from lazypredict) (7.1.2)\n",
            "Requirement already satisfied: pytest==5.4.3 in /usr/local/lib/python3.7/dist-packages (from lazypredict) (5.4.3)\n",
            "Requirement already satisfied: PyYAML==5.3.1 in /usr/local/lib/python3.7/dist-packages (from lazypredict) (5.3.1)\n",
            "Requirement already satisfied: scikit-learn==0.23.1 in /usr/local/lib/python3.7/dist-packages (from lazypredict) (0.23.1)\n",
            "Requirement already satisfied: python-dateutil>=2.6.1 in /usr/local/lib/python3.7/dist-packages (from pandas==1.0.5->lazypredict) (2.8.2)\n",
            "Requirement already satisfied: pytz>=2017.2 in /usr/local/lib/python3.7/dist-packages (from pandas==1.0.5->lazypredict) (2022.1)\n",
            "Requirement already satisfied: importlib-metadata>=0.12 in /usr/local/lib/python3.7/dist-packages (from pytest==5.4.3->lazypredict) (4.11.3)\n",
            "Requirement already satisfied: more-itertools>=4.0.0 in /usr/local/lib/python3.7/dist-packages (from pytest==5.4.3->lazypredict) (8.13.0)\n",
            "Requirement already satisfied: wcwidth in /usr/local/lib/python3.7/dist-packages (from pytest==5.4.3->lazypredict) (0.2.5)\n",
            "Requirement already satisfied: packaging in /usr/local/lib/python3.7/dist-packages (from pytest==5.4.3->lazypredict) (21.3)\n",
            "Requirement already satisfied: attrs>=17.4.0 in /usr/local/lib/python3.7/dist-packages (from pytest==5.4.3->lazypredict) (21.4.0)\n",
            "Requirement already satisfied: py>=1.5.0 in /usr/local/lib/python3.7/dist-packages (from pytest==5.4.3->lazypredict) (1.11.0)\n",
            "Requirement already satisfied: pluggy<1.0,>=0.12 in /usr/local/lib/python3.7/dist-packages (from pytest==5.4.3->lazypredict) (0.13.1)\n",
            "Requirement already satisfied: threadpoolctl>=2.0.0 in /usr/local/lib/python3.7/dist-packages (from scikit-learn==0.23.1->lazypredict) (3.1.0)\n",
            "Requirement already satisfied: zipp>=0.5 in /usr/local/lib/python3.7/dist-packages (from importlib-metadata>=0.12->pytest==5.4.3->lazypredict) (3.8.0)\n",
            "Requirement already satisfied: typing-extensions>=3.6.4 in /usr/local/lib/python3.7/dist-packages (from importlib-metadata>=0.12->pytest==5.4.3->lazypredict) (4.2.0)\n",
            "Requirement already satisfied: pyparsing!=3.0.5,>=2.0.2 in /usr/local/lib/python3.7/dist-packages (from packaging->pytest==5.4.3->lazypredict) (3.0.9)\n"
          ]
        }
      ]
    },
    {
      "cell_type": "code",
      "execution_count": 2,
      "metadata": {
        "colab": {
          "resources": {
            "http://localhost:8080/nbextensions/google.colab/files.js": {
              "data": "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",
              "ok": true,
              "headers": [
                [
                  "content-type",
                  "application/javascript"
                ]
              ],
              "status": 200,
              "status_text": ""
            }
          },
          "base_uri": "https://localhost:8080/",
          "height": 74
        },
        "id": "dQxUBXtswonl",
        "outputId": "eb28794f-63fa-4e9f-f377-d46f10591d3c"
      },
      "outputs": [
        {
          "output_type": "display_data",
          "data": {
            "text/plain": [
              "<IPython.core.display.HTML object>"
            ],
            "text/html": [
              "\n",
              "     <input type=\"file\" id=\"files-c738126b-cdaa-4fbf-ac85-fce1172553a2\" name=\"files[]\" multiple disabled\n",
              "        style=\"border:none\" />\n",
              "     <output id=\"result-c738126b-cdaa-4fbf-ac85-fce1172553a2\">\n",
              "      Upload widget is only available when the cell has been executed in the\n",
              "      current browser session. Please rerun this cell to enable.\n",
              "      </output>\n",
              "      <script src=\"/nbextensions/google.colab/files.js\"></script> "
            ]
          },
          "metadata": {}
        },
        {
          "output_type": "stream",
          "name": "stdout",
          "text": [
            "Saving term-deposit-marketing-2020.csv to term-deposit-marketing-2020.csv\n"
          ]
        }
      ],
      "source": [
        "# necessary to read files into Colab\n",
        "uploaded_files = files.upload()"
      ]
    },
    {
      "cell_type": "code",
      "source": [
        "# Now, we can read the .csv file from desktop\n",
        "df = pd.read_csv('term-deposit-marketing-2020.csv')"
      ],
      "metadata": {
        "id": "trahWKaGySag"
      },
      "execution_count": 2,
      "outputs": []
    },
    {
      "cell_type": "markdown",
      "source": [
        "##**Exploratory Data Analysis**"
      ],
      "metadata": {
        "id": "x7O-0jf81m2I"
      }
    },
    {
      "cell_type": "code",
      "source": [
        "df.head()"
      ],
      "metadata": {
        "colab": {
          "base_uri": "https://localhost:8080/",
          "height": 206
        },
        "id": "_LV3_loXyfz0",
        "outputId": "a7e9244c-b443-4a08-f0fa-9f5aeab34b3a"
      },
      "execution_count": 3,
      "outputs": [
        {
          "output_type": "execute_result",
          "data": {
            "text/plain": [
              "   age           job  marital  education default  balance housing loan  \\\n",
              "0   58    management  married   tertiary      no     2143     yes   no   \n",
              "1   44    technician   single  secondary      no       29     yes   no   \n",
              "2   33  entrepreneur  married  secondary      no        2     yes  yes   \n",
              "3   47   blue-collar  married    unknown      no     1506     yes   no   \n",
              "4   33       unknown   single    unknown      no        1      no   no   \n",
              "\n",
              "   contact  day month  duration  campaign   y  \n",
              "0  unknown    5   may       261         1  no  \n",
              "1  unknown    5   may       151         1  no  \n",
              "2  unknown    5   may        76         1  no  \n",
              "3  unknown    5   may        92         1  no  \n",
              "4  unknown    5   may       198         1  no  "
            ],
            "text/html": [
              "\n",
              "  <div id=\"df-2213dd15-0e7e-41c8-bceb-e9316e071360\">\n",
              "    <div class=\"colab-df-container\">\n",
              "      <div>\n",
              "<style scoped>\n",
              "    .dataframe tbody tr th:only-of-type {\n",
              "        vertical-align: middle;\n",
              "    }\n",
              "\n",
              "    .dataframe tbody tr th {\n",
              "        vertical-align: top;\n",
              "    }\n",
              "\n",
              "    .dataframe thead th {\n",
              "        text-align: right;\n",
              "    }\n",
              "</style>\n",
              "<table border=\"1\" class=\"dataframe\">\n",
              "  <thead>\n",
              "    <tr style=\"text-align: right;\">\n",
              "      <th></th>\n",
              "      <th>age</th>\n",
              "      <th>job</th>\n",
              "      <th>marital</th>\n",
              "      <th>education</th>\n",
              "      <th>default</th>\n",
              "      <th>balance</th>\n",
              "      <th>housing</th>\n",
              "      <th>loan</th>\n",
              "      <th>contact</th>\n",
              "      <th>day</th>\n",
              "      <th>month</th>\n",
              "      <th>duration</th>\n",
              "      <th>campaign</th>\n",
              "      <th>y</th>\n",
              "    </tr>\n",
              "  </thead>\n",
              "  <tbody>\n",
              "    <tr>\n",
              "      <th>0</th>\n",
              "      <td>58</td>\n",
              "      <td>management</td>\n",
              "      <td>married</td>\n",
              "      <td>tertiary</td>\n",
              "      <td>no</td>\n",
              "      <td>2143</td>\n",
              "      <td>yes</td>\n",
              "      <td>no</td>\n",
              "      <td>unknown</td>\n",
              "      <td>5</td>\n",
              "      <td>may</td>\n",
              "      <td>261</td>\n",
              "      <td>1</td>\n",
              "      <td>no</td>\n",
              "    </tr>\n",
              "    <tr>\n",
              "      <th>1</th>\n",
              "      <td>44</td>\n",
              "      <td>technician</td>\n",
              "      <td>single</td>\n",
              "      <td>secondary</td>\n",
              "      <td>no</td>\n",
              "      <td>29</td>\n",
              "      <td>yes</td>\n",
              "      <td>no</td>\n",
              "      <td>unknown</td>\n",
              "      <td>5</td>\n",
              "      <td>may</td>\n",
              "      <td>151</td>\n",
              "      <td>1</td>\n",
              "      <td>no</td>\n",
              "    </tr>\n",
              "    <tr>\n",
              "      <th>2</th>\n",
              "      <td>33</td>\n",
              "      <td>entrepreneur</td>\n",
              "      <td>married</td>\n",
              "      <td>secondary</td>\n",
              "      <td>no</td>\n",
              "      <td>2</td>\n",
              "      <td>yes</td>\n",
              "      <td>yes</td>\n",
              "      <td>unknown</td>\n",
              "      <td>5</td>\n",
              "      <td>may</td>\n",
              "      <td>76</td>\n",
              "      <td>1</td>\n",
              "      <td>no</td>\n",
              "    </tr>\n",
              "    <tr>\n",
              "      <th>3</th>\n",
              "      <td>47</td>\n",
              "      <td>blue-collar</td>\n",
              "      <td>married</td>\n",
              "      <td>unknown</td>\n",
              "      <td>no</td>\n",
              "      <td>1506</td>\n",
              "      <td>yes</td>\n",
              "      <td>no</td>\n",
              "      <td>unknown</td>\n",
              "      <td>5</td>\n",
              "      <td>may</td>\n",
              "      <td>92</td>\n",
              "      <td>1</td>\n",
              "      <td>no</td>\n",
              "    </tr>\n",
              "    <tr>\n",
              "      <th>4</th>\n",
              "      <td>33</td>\n",
              "      <td>unknown</td>\n",
              "      <td>single</td>\n",
              "      <td>unknown</td>\n",
              "      <td>no</td>\n",
              "      <td>1</td>\n",
              "      <td>no</td>\n",
              "      <td>no</td>\n",
              "      <td>unknown</td>\n",
              "      <td>5</td>\n",
              "      <td>may</td>\n",
              "      <td>198</td>\n",
              "      <td>1</td>\n",
              "      <td>no</td>\n",
              "    </tr>\n",
              "  </tbody>\n",
              "</table>\n",
              "</div>\n",
              "      <button class=\"colab-df-convert\" onclick=\"convertToInteractive('df-2213dd15-0e7e-41c8-bceb-e9316e071360')\"\n",
              "              title=\"Convert this dataframe to an interactive table.\"\n",
              "              style=\"display:none;\">\n",
              "        \n",
              "  <svg xmlns=\"http://www.w3.org/2000/svg\" height=\"24px\"viewBox=\"0 0 24 24\"\n",
              "       width=\"24px\">\n",
              "    <path d=\"M0 0h24v24H0V0z\" fill=\"none\"/>\n",
              "    <path d=\"M18.56 5.44l.94 2.06.94-2.06 2.06-.94-2.06-.94-.94-2.06-.94 2.06-2.06.94zm-11 1L8.5 8.5l.94-2.06 2.06-.94-2.06-.94L8.5 2.5l-.94 2.06-2.06.94zm10 10l.94 2.06.94-2.06 2.06-.94-2.06-.94-.94-2.06-.94 2.06-2.06.94z\"/><path d=\"M17.41 7.96l-1.37-1.37c-.4-.4-.92-.59-1.43-.59-.52 0-1.04.2-1.43.59L10.3 9.45l-7.72 7.72c-.78.78-.78 2.05 0 2.83L4 21.41c.39.39.9.59 1.41.59.51 0 1.02-.2 1.41-.59l7.78-7.78 2.81-2.81c.8-.78.8-2.07 0-2.86zM5.41 20L4 18.59l7.72-7.72 1.47 1.35L5.41 20z\"/>\n",
              "  </svg>\n",
              "      </button>\n",
              "      \n",
              "  <style>\n",
              "    .colab-df-container {\n",
              "      display:flex;\n",
              "      flex-wrap:wrap;\n",
              "      gap: 12px;\n",
              "    }\n",
              "\n",
              "    .colab-df-convert {\n",
              "      background-color: #E8F0FE;\n",
              "      border: none;\n",
              "      border-radius: 50%;\n",
              "      cursor: pointer;\n",
              "      display: none;\n",
              "      fill: #1967D2;\n",
              "      height: 32px;\n",
              "      padding: 0 0 0 0;\n",
              "      width: 32px;\n",
              "    }\n",
              "\n",
              "    .colab-df-convert:hover {\n",
              "      background-color: #E2EBFA;\n",
              "      box-shadow: 0px 1px 2px rgba(60, 64, 67, 0.3), 0px 1px 3px 1px rgba(60, 64, 67, 0.15);\n",
              "      fill: #174EA6;\n",
              "    }\n",
              "\n",
              "    [theme=dark] .colab-df-convert {\n",
              "      background-color: #3B4455;\n",
              "      fill: #D2E3FC;\n",
              "    }\n",
              "\n",
              "    [theme=dark] .colab-df-convert:hover {\n",
              "      background-color: #434B5C;\n",
              "      box-shadow: 0px 1px 3px 1px rgba(0, 0, 0, 0.15);\n",
              "      filter: drop-shadow(0px 1px 2px rgba(0, 0, 0, 0.3));\n",
              "      fill: #FFFFFF;\n",
              "    }\n",
              "  </style>\n",
              "\n",
              "      <script>\n",
              "        const buttonEl =\n",
              "          document.querySelector('#df-2213dd15-0e7e-41c8-bceb-e9316e071360 button.colab-df-convert');\n",
              "        buttonEl.style.display =\n",
              "          google.colab.kernel.accessAllowed ? 'block' : 'none';\n",
              "\n",
              "        async function convertToInteractive(key) {\n",
              "          const element = document.querySelector('#df-2213dd15-0e7e-41c8-bceb-e9316e071360');\n",
              "          const dataTable =\n",
              "            await google.colab.kernel.invokeFunction('convertToInteractive',\n",
              "                                                     [key], {});\n",
              "          if (!dataTable) return;\n",
              "\n",
              "          const docLinkHtml = 'Like what you see? Visit the ' +\n",
              "            '<a target=\"_blank\" href=https://colab.research.google.com/notebooks/data_table.ipynb>data table notebook</a>'\n",
              "            + ' to learn more about interactive tables.';\n",
              "          element.innerHTML = '';\n",
              "          dataTable['output_type'] = 'display_data';\n",
              "          await google.colab.output.renderOutput(dataTable, element);\n",
              "          const docLink = document.createElement('div');\n",
              "          docLink.innerHTML = docLinkHtml;\n",
              "          element.appendChild(docLink);\n",
              "        }\n",
              "      </script>\n",
              "    </div>\n",
              "  </div>\n",
              "  "
            ]
          },
          "metadata": {},
          "execution_count": 3
        }
      ]
    },
    {
      "cell_type": "code",
      "source": [
        "df.info()"
      ],
      "metadata": {
        "colab": {
          "base_uri": "https://localhost:8080/"
        },
        "id": "Inzh30Ywyr2Z",
        "outputId": "8e2c8e02-9dc4-4086-8c4d-0167149ca399"
      },
      "execution_count": 4,
      "outputs": [
        {
          "output_type": "stream",
          "name": "stdout",
          "text": [
            "<class 'pandas.core.frame.DataFrame'>\n",
            "RangeIndex: 40000 entries, 0 to 39999\n",
            "Data columns (total 14 columns):\n",
            " #   Column     Non-Null Count  Dtype \n",
            "---  ------     --------------  ----- \n",
            " 0   age        40000 non-null  int64 \n",
            " 1   job        40000 non-null  object\n",
            " 2   marital    40000 non-null  object\n",
            " 3   education  40000 non-null  object\n",
            " 4   default    40000 non-null  object\n",
            " 5   balance    40000 non-null  int64 \n",
            " 6   housing    40000 non-null  object\n",
            " 7   loan       40000 non-null  object\n",
            " 8   contact    40000 non-null  object\n",
            " 9   day        40000 non-null  int64 \n",
            " 10  month      40000 non-null  object\n",
            " 11  duration   40000 non-null  int64 \n",
            " 12  campaign   40000 non-null  int64 \n",
            " 13  y          40000 non-null  object\n",
            "dtypes: int64(5), object(9)\n",
            "memory usage: 4.3+ MB\n"
          ]
        }
      ]
    },
    {
      "cell_type": "code",
      "source": [
        "df.isnull().values.any()"
      ],
      "metadata": {
        "colab": {
          "base_uri": "https://localhost:8080/"
        },
        "id": "eY867F3Qyx4-",
        "outputId": "b3cff4db-1caa-408c-f55d-16077df33a2a"
      },
      "execution_count": 5,
      "outputs": [
        {
          "output_type": "execute_result",
          "data": {
            "text/plain": [
              "False"
            ]
          },
          "metadata": {},
          "execution_count": 5
        }
      ]
    },
    {
      "cell_type": "markdown",
      "source": [
        "Great, looks like there are no missing values."
      ],
      "metadata": {
        "id": "jJlKQDmPKEvy"
      }
    },
    {
      "cell_type": "code",
      "source": [
        "df.describe()"
      ],
      "metadata": {
        "colab": {
          "base_uri": "https://localhost:8080/",
          "height": 300
        },
        "id": "5y7ZvVCWy3Kl",
        "outputId": "ce2cc9f6-6e8e-4856-b54e-2bf32040bc2a"
      },
      "execution_count": 6,
      "outputs": [
        {
          "output_type": "execute_result",
          "data": {
            "text/plain": [
              "           age   balance      day  duration  campaign\n",
              "count 40000.00  40000.00 40000.00  40000.00  40000.00\n",
              "mean     40.54   1274.28    16.02    254.82      2.88\n",
              "std       9.64   2903.77     8.28    259.37      3.24\n",
              "min      19.00  -8019.00     1.00      0.00      1.00\n",
              "25%      33.00     54.00     8.00    100.00      1.00\n",
              "50%      39.00    407.00    17.00    175.00      2.00\n",
              "75%      48.00   1319.00    21.00    313.00      3.00\n",
              "max      95.00 102127.00    31.00   4918.00     63.00"
            ],
            "text/html": [
              "\n",
              "  <div id=\"df-4b6cab0a-e1b6-46c2-9b00-677161603538\">\n",
              "    <div class=\"colab-df-container\">\n",
              "      <div>\n",
              "<style scoped>\n",
              "    .dataframe tbody tr th:only-of-type {\n",
              "        vertical-align: middle;\n",
              "    }\n",
              "\n",
              "    .dataframe tbody tr th {\n",
              "        vertical-align: top;\n",
              "    }\n",
              "\n",
              "    .dataframe thead th {\n",
              "        text-align: right;\n",
              "    }\n",
              "</style>\n",
              "<table border=\"1\" class=\"dataframe\">\n",
              "  <thead>\n",
              "    <tr style=\"text-align: right;\">\n",
              "      <th></th>\n",
              "      <th>age</th>\n",
              "      <th>balance</th>\n",
              "      <th>day</th>\n",
              "      <th>duration</th>\n",
              "      <th>campaign</th>\n",
              "    </tr>\n",
              "  </thead>\n",
              "  <tbody>\n",
              "    <tr>\n",
              "      <th>count</th>\n",
              "      <td>40000.00</td>\n",
              "      <td>40000.00</td>\n",
              "      <td>40000.00</td>\n",
              "      <td>40000.00</td>\n",
              "      <td>40000.00</td>\n",
              "    </tr>\n",
              "    <tr>\n",
              "      <th>mean</th>\n",
              "      <td>40.54</td>\n",
              "      <td>1274.28</td>\n",
              "      <td>16.02</td>\n",
              "      <td>254.82</td>\n",
              "      <td>2.88</td>\n",
              "    </tr>\n",
              "    <tr>\n",
              "      <th>std</th>\n",
              "      <td>9.64</td>\n",
              "      <td>2903.77</td>\n",
              "      <td>8.28</td>\n",
              "      <td>259.37</td>\n",
              "      <td>3.24</td>\n",
              "    </tr>\n",
              "    <tr>\n",
              "      <th>min</th>\n",
              "      <td>19.00</td>\n",
              "      <td>-8019.00</td>\n",
              "      <td>1.00</td>\n",
              "      <td>0.00</td>\n",
              "      <td>1.00</td>\n",
              "    </tr>\n",
              "    <tr>\n",
              "      <th>25%</th>\n",
              "      <td>33.00</td>\n",
              "      <td>54.00</td>\n",
              "      <td>8.00</td>\n",
              "      <td>100.00</td>\n",
              "      <td>1.00</td>\n",
              "    </tr>\n",
              "    <tr>\n",
              "      <th>50%</th>\n",
              "      <td>39.00</td>\n",
              "      <td>407.00</td>\n",
              "      <td>17.00</td>\n",
              "      <td>175.00</td>\n",
              "      <td>2.00</td>\n",
              "    </tr>\n",
              "    <tr>\n",
              "      <th>75%</th>\n",
              "      <td>48.00</td>\n",
              "      <td>1319.00</td>\n",
              "      <td>21.00</td>\n",
              "      <td>313.00</td>\n",
              "      <td>3.00</td>\n",
              "    </tr>\n",
              "    <tr>\n",
              "      <th>max</th>\n",
              "      <td>95.00</td>\n",
              "      <td>102127.00</td>\n",
              "      <td>31.00</td>\n",
              "      <td>4918.00</td>\n",
              "      <td>63.00</td>\n",
              "    </tr>\n",
              "  </tbody>\n",
              "</table>\n",
              "</div>\n",
              "      <button class=\"colab-df-convert\" onclick=\"convertToInteractive('df-4b6cab0a-e1b6-46c2-9b00-677161603538')\"\n",
              "              title=\"Convert this dataframe to an interactive table.\"\n",
              "              style=\"display:none;\">\n",
              "        \n",
              "  <svg xmlns=\"http://www.w3.org/2000/svg\" height=\"24px\"viewBox=\"0 0 24 24\"\n",
              "       width=\"24px\">\n",
              "    <path d=\"M0 0h24v24H0V0z\" fill=\"none\"/>\n",
              "    <path d=\"M18.56 5.44l.94 2.06.94-2.06 2.06-.94-2.06-.94-.94-2.06-.94 2.06-2.06.94zm-11 1L8.5 8.5l.94-2.06 2.06-.94-2.06-.94L8.5 2.5l-.94 2.06-2.06.94zm10 10l.94 2.06.94-2.06 2.06-.94-2.06-.94-.94-2.06-.94 2.06-2.06.94z\"/><path d=\"M17.41 7.96l-1.37-1.37c-.4-.4-.92-.59-1.43-.59-.52 0-1.04.2-1.43.59L10.3 9.45l-7.72 7.72c-.78.78-.78 2.05 0 2.83L4 21.41c.39.39.9.59 1.41.59.51 0 1.02-.2 1.41-.59l7.78-7.78 2.81-2.81c.8-.78.8-2.07 0-2.86zM5.41 20L4 18.59l7.72-7.72 1.47 1.35L5.41 20z\"/>\n",
              "  </svg>\n",
              "      </button>\n",
              "      \n",
              "  <style>\n",
              "    .colab-df-container {\n",
              "      display:flex;\n",
              "      flex-wrap:wrap;\n",
              "      gap: 12px;\n",
              "    }\n",
              "\n",
              "    .colab-df-convert {\n",
              "      background-color: #E8F0FE;\n",
              "      border: none;\n",
              "      border-radius: 50%;\n",
              "      cursor: pointer;\n",
              "      display: none;\n",
              "      fill: #1967D2;\n",
              "      height: 32px;\n",
              "      padding: 0 0 0 0;\n",
              "      width: 32px;\n",
              "    }\n",
              "\n",
              "    .colab-df-convert:hover {\n",
              "      background-color: #E2EBFA;\n",
              "      box-shadow: 0px 1px 2px rgba(60, 64, 67, 0.3), 0px 1px 3px 1px rgba(60, 64, 67, 0.15);\n",
              "      fill: #174EA6;\n",
              "    }\n",
              "\n",
              "    [theme=dark] .colab-df-convert {\n",
              "      background-color: #3B4455;\n",
              "      fill: #D2E3FC;\n",
              "    }\n",
              "\n",
              "    [theme=dark] .colab-df-convert:hover {\n",
              "      background-color: #434B5C;\n",
              "      box-shadow: 0px 1px 3px 1px rgba(0, 0, 0, 0.15);\n",
              "      filter: drop-shadow(0px 1px 2px rgba(0, 0, 0, 0.3));\n",
              "      fill: #FFFFFF;\n",
              "    }\n",
              "  </style>\n",
              "\n",
              "      <script>\n",
              "        const buttonEl =\n",
              "          document.querySelector('#df-4b6cab0a-e1b6-46c2-9b00-677161603538 button.colab-df-convert');\n",
              "        buttonEl.style.display =\n",
              "          google.colab.kernel.accessAllowed ? 'block' : 'none';\n",
              "\n",
              "        async function convertToInteractive(key) {\n",
              "          const element = document.querySelector('#df-4b6cab0a-e1b6-46c2-9b00-677161603538');\n",
              "          const dataTable =\n",
              "            await google.colab.kernel.invokeFunction('convertToInteractive',\n",
              "                                                     [key], {});\n",
              "          if (!dataTable) return;\n",
              "\n",
              "          const docLinkHtml = 'Like what you see? Visit the ' +\n",
              "            '<a target=\"_blank\" href=https://colab.research.google.com/notebooks/data_table.ipynb>data table notebook</a>'\n",
              "            + ' to learn more about interactive tables.';\n",
              "          element.innerHTML = '';\n",
              "          dataTable['output_type'] = 'display_data';\n",
              "          await google.colab.output.renderOutput(dataTable, element);\n",
              "          const docLink = document.createElement('div');\n",
              "          docLink.innerHTML = docLinkHtml;\n",
              "          element.appendChild(docLink);\n",
              "        }\n",
              "      </script>\n",
              "    </div>\n",
              "  </div>\n",
              "  "
            ]
          },
          "metadata": {},
          "execution_count": 6
        }
      ]
    },
    {
      "cell_type": "markdown",
      "source": [
        "The balance variable is quite skewed and has a large variance as seen below. We will take a closer look at these distributions later. This data should be scaled before modeling unless gradient boosting is employed."
      ],
      "metadata": {
        "id": "fY37u36EKObh"
      }
    },
    {
      "cell_type": "code",
      "source": [
        "df.var()"
      ],
      "metadata": {
        "colab": {
          "base_uri": "https://localhost:8080/"
        },
        "id": "EPzQCfFS0Q2W",
        "outputId": "a15653da-822e-4d53-dede-524d4c7a1939"
      },
      "execution_count": 7,
      "outputs": [
        {
          "output_type": "execute_result",
          "data": {
            "text/plain": [
              "age             92.96\n",
              "balance    8431878.56\n",
              "day             68.53\n",
              "duration     67270.98\n",
              "campaign        10.49\n",
              "dtype: float64"
            ]
          },
          "metadata": {},
          "execution_count": 7
        }
      ]
    },
    {
      "cell_type": "code",
      "source": [
        "print(df.groupby(['y']).size() / df.shape[0] * 100)"
      ],
      "metadata": {
        "colab": {
          "base_uri": "https://localhost:8080/"
        },
        "id": "E_HQ1eZe0plG",
        "outputId": "1fc409b6-7705-4da6-b666-8515744d2dd8"
      },
      "execution_count": 8,
      "outputs": [
        {
          "output_type": "stream",
          "name": "stdout",
          "text": [
            "y\n",
            "no    92.76\n",
            "yes    7.24\n",
            "dtype: float64\n"
          ]
        }
      ]
    },
    {
      "cell_type": "markdown",
      "source": [
        "We have a very unbalanced data set.  Only about 7% of customers have subscribed to a term deposit in this data set.  We will have to make sure that we stratify this data before modeling and we use the appropriate methods for this.  This will ensure a test set of approximately the same percentage."
      ],
      "metadata": {
        "id": "0gJ4aN1rK1Sg"
      }
    },
    {
      "cell_type": "code",
      "source": [
        "plt.figure(figsize=(10,15))\n",
        "\n",
        "sns.countplot(y = 'month', data = df, order=df.month.value_counts().index)\n",
        "plt.title('Records by Month')\n",
        "plt.xlabel('Count')\n",
        "\n",
        "plt.show()"
      ],
      "metadata": {
        "colab": {
          "base_uri": "https://localhost:8080/",
          "height": 897
        },
        "id": "Vo40zSsmCPyI",
        "outputId": "50d00c17-10c6-44c8-8875-844dfc0f4728"
      },
      "execution_count": 9,
      "outputs": [
        {
          "output_type": "display_data",
          "data": {
            "text/plain": [
              "<Figure size 720x1080 with 1 Axes>"
            ],
            "image/png": "[encoded data removed]"
          },
          "metadata": {
            "needs_background": "light"
          }
        }
      ]
    },
    {
      "cell_type": "markdown",
      "source": [
        "This distribution plot of the month field is not what I expected at all.  Very little observations in March, October, December and none in September.  Now, three of these months are at the end of a quarter but so is June, which has a substantial amount of observations.  I suspect that this would skew results and provide little insight, so we will drop this variable from the data set.  "
      ],
      "metadata": {
        "id": "5dHjA831LKme"
      }
    },
    {
      "cell_type": "code",
      "source": [
        "df = df.drop(['month'], axis = 1)"
      ],
      "metadata": {
        "id": "jtv9B5yuDrvZ"
      },
      "execution_count": 10,
      "outputs": []
    },
    {
      "cell_type": "code",
      "source": [
        "df.hist(figsize=(10,10), bins = 30)\n",
        "plt.subplots_adjust(hspace=0.5);"
      ],
      "metadata": {
        "colab": {
          "base_uri": "https://localhost:8080/",
          "height": 609
        },
        "id": "z5wBlSMsFKZG",
        "outputId": "4a2a1596-e932-41b5-e12a-ca8a81032e61"
      },
      "execution_count": 11,
      "outputs": [
        {
          "output_type": "display_data",
          "data": {
            "text/plain": [
              "<Figure size 720x720 with 6 Axes>"
            ],
            "image/png": "[encoded data removed]"
          },
          "metadata": {
            "needs_background": "light"
          }
        }
      ]
    },
    {
      "cell_type": "markdown",
      "source": [
        "These distributions are interesting as balance, duration and campaign are skewed to the right.  Day and age are interesting as age is almost symmetric centering around 35 years of age and day fluctuates throught the month. There is one thing that is peculiar about the day as we look at the values for it below.  There is no particular trend.  For instance, the 30th has the most conversions but the 31st has the least. Additionally, there are days in the middle of the month that have high conversion and days in the middle of the month that have low conversions.  This may be coincidental."
      ],
      "metadata": {
        "id": "mitWkd1QLySo"
      }
    },
    {
      "cell_type": "code",
      "source": [
        "dayTrend = df[df['y'] == 'yes']\n",
        "dayTrend.day.value_counts()"
      ],
      "metadata": {
        "id": "4WV4fyKR1gWG",
        "colab": {
          "base_uri": "https://localhost:8080/"
        },
        "outputId": "b61763db-b2f8-401c-fa1c-3f8f980fb1ec"
      },
      "execution_count": 12,
      "outputs": [
        {
          "output_type": "execute_result",
          "data": {
            "text/plain": [
              "30    224\n",
              "18    165\n",
              "20    153\n",
              "21    139\n",
              "15    123\n",
              "13    117\n",
              "4     117\n",
              "14    115\n",
              "17    115\n",
              "5     113\n",
              "6     110\n",
              "2     104\n",
              "12    104\n",
              "8     102\n",
              "16     96\n",
              "11     85\n",
              "27     84\n",
              "7      80\n",
              "22     80\n",
              "3      80\n",
              "19     73\n",
              "9      72\n",
              "25     72\n",
              "28     61\n",
              "26     61\n",
              "23     59\n",
              "29     49\n",
              "10     45\n",
              "1      40\n",
              "24     32\n",
              "31     26\n",
              "Name: day, dtype: int64"
            ]
          },
          "metadata": {},
          "execution_count": 12
        }
      ]
    },
    {
      "cell_type": "markdown",
      "source": [
        "Also, the duration variable cannot be used for a couple of reasons.  Longer calls may be an indicator of a transaction being completed which introduces bias.  Customers may already be interested in purchasing a term deposit resulting in longer call duration. The day variable and the duration variable should be dropped from the data set."
      ],
      "metadata": {
        "id": "eGSVdyxb2y9K"
      }
    },
    {
      "cell_type": "code",
      "source": [
        "df = df.drop(['day', 'duration'], axis = 1)"
      ],
      "metadata": {
        "id": "nCawzXzX0ZzC"
      },
      "execution_count": 13,
      "outputs": []
    },
    {
      "cell_type": "code",
      "source": [
        "print(df.nunique())"
      ],
      "metadata": {
        "colab": {
          "base_uri": "https://localhost:8080/"
        },
        "id": "-xjJjfd_G1Gb",
        "outputId": "44df8b14-3c10-45e9-e188-9059b7e65610"
      },
      "execution_count": 14,
      "outputs": [
        {
          "output_type": "stream",
          "name": "stdout",
          "text": [
            "age            70\n",
            "job            12\n",
            "marital         3\n",
            "education       4\n",
            "default         2\n",
            "balance      6849\n",
            "housing         2\n",
            "loan            2\n",
            "contact         3\n",
            "campaign       48\n",
            "y               2\n",
            "dtype: int64\n"
          ]
        }
      ]
    },
    {
      "cell_type": "markdown",
      "source": [
        "Unique values for variables help identify categorical, binary and continuous variables. The only strange one is the job variable but this makes sense. Below,we will check the distribution of seemingly categorical variables and check for unknown values."
      ],
      "metadata": {
        "id": "FKnUDRHtMaoc"
      }
    },
    {
      "cell_type": "code",
      "source": [
        "df.job.value_counts()"
      ],
      "metadata": {
        "colab": {
          "base_uri": "https://localhost:8080/"
        },
        "id": "6FPDyF9lIA5w",
        "outputId": "976a5399-f1d3-4b63-f086-2cf3f8edf869"
      },
      "execution_count": 15,
      "outputs": [
        {
          "output_type": "execute_result",
          "data": {
            "text/plain": [
              "blue-collar      9383\n",
              "management       8166\n",
              "technician       6852\n",
              "admin            4483\n",
              "services         3910\n",
              "retired          1437\n",
              "self-employed    1414\n",
              "entrepreneur     1405\n",
              "unemployed       1104\n",
              "housemaid        1087\n",
              "student           524\n",
              "unknown           235\n",
              "Name: job, dtype: int64"
            ]
          },
          "metadata": {},
          "execution_count": 15
        }
      ]
    },
    {
      "cell_type": "code",
      "source": [
        "df.marital.value_counts()"
      ],
      "metadata": {
        "colab": {
          "base_uri": "https://localhost:8080/"
        },
        "id": "-snFoDDTIngE",
        "outputId": "2df6559d-94bc-46b8-8c09-949a995b11aa"
      },
      "execution_count": 16,
      "outputs": [
        {
          "output_type": "execute_result",
          "data": {
            "text/plain": [
              "married     24386\n",
              "single      10889\n",
              "divorced     4725\n",
              "Name: marital, dtype: int64"
            ]
          },
          "metadata": {},
          "execution_count": 16
        }
      ]
    },
    {
      "cell_type": "code",
      "source": [
        "df.education.value_counts()"
      ],
      "metadata": {
        "colab": {
          "base_uri": "https://localhost:8080/"
        },
        "id": "wQuRAtumJAAl",
        "outputId": "3af97d52-4e1b-44f0-94e4-a6d8b336e1b6"
      },
      "execution_count": 17,
      "outputs": [
        {
          "output_type": "execute_result",
          "data": {
            "text/plain": [
              "secondary    20993\n",
              "tertiary     11206\n",
              "primary       6270\n",
              "unknown       1531\n",
              "Name: education, dtype: int64"
            ]
          },
          "metadata": {},
          "execution_count": 17
        }
      ]
    },
    {
      "cell_type": "markdown",
      "source": [
        "We have a very small amount of 'unknown' values for job and education variables.  Comparatively, we can remove these unknowns if it is less than 5% of the data set, which is standard."
      ],
      "metadata": {
        "id": "s3EknydQND4W"
      }
    },
    {
      "cell_type": "code",
      "source": [
        "df.contact.value_counts()"
      ],
      "metadata": {
        "colab": {
          "base_uri": "https://localhost:8080/"
        },
        "id": "7TC5YH7JJVXr",
        "outputId": "39eaae73-8de0-4384-cebf-3e98f4b05b94"
      },
      "execution_count": 18,
      "outputs": [
        {
          "output_type": "execute_result",
          "data": {
            "text/plain": [
              "cellular     24914\n",
              "unknown      12765\n",
              "telephone     2321\n",
              "Name: contact, dtype: int64"
            ]
          },
          "metadata": {},
          "execution_count": 18
        }
      ]
    },
    {
      "cell_type": "code",
      "source": [
        "#Removing 'unknown' values from the data set.\n",
        "contacts = df[df['contact'] == 'unknown']\n",
        "\n",
        "print(contacts.groupby(['y']).size() / contacts.shape[0] * 100)"
      ],
      "metadata": {
        "colab": {
          "base_uri": "https://localhost:8080/"
        },
        "id": "JWDJppflJt9Y",
        "outputId": "84850bbb-1b60-41eb-9f32-4a6cca0a35b2"
      },
      "execution_count": 19,
      "outputs": [
        {
          "output_type": "stream",
          "name": "stdout",
          "text": [
            "y\n",
            "no    96.11\n",
            "yes    3.89\n",
            "dtype: float64\n"
          ]
        }
      ]
    },
    {
      "cell_type": "markdown",
      "source": [
        "The contact field is strange as we are only differentiating between cellular and hose phones and the number for house phones is small.  Moreover, there are over 12,000 unknown entries.  This variable should be deleted from the data set as I do not suspect that it will provide much insight and if it does, it calls for a new experiment and survey. "
      ],
      "metadata": {
        "id": "SytPdL3GNpVf"
      }
    },
    {
      "cell_type": "code",
      "source": [
        "df = df.drop(['contact'], axis = 1)"
      ],
      "metadata": {
        "id": "nMeaoiWCNBmd"
      },
      "execution_count": 20,
      "outputs": []
    },
    {
      "cell_type": "code",
      "source": [
        "#Removing 'unknown' values from the data set.\n",
        "df = df[df['education'] != 'unknown']"
      ],
      "metadata": {
        "id": "CcWLImNeS5gn"
      },
      "execution_count": 21,
      "outputs": []
    },
    {
      "cell_type": "code",
      "source": [
        "df.job.value_counts()"
      ],
      "metadata": {
        "colab": {
          "base_uri": "https://localhost:8080/"
        },
        "id": "cmpGXqk_TMf2",
        "outputId": "8122e9f9-e044-466b-dccd-7127170f6784"
      },
      "execution_count": 22,
      "outputs": [
        {
          "output_type": "execute_result",
          "data": {
            "text/plain": [
              "blue-collar      8944\n",
              "management       7977\n",
              "technician       6638\n",
              "admin            4335\n",
              "services         3775\n",
              "self-employed    1383\n",
              "retired          1378\n",
              "entrepreneur     1331\n",
              "unemployed       1080\n",
              "housemaid        1047\n",
              "student           450\n",
              "unknown           131\n",
              "Name: job, dtype: int64"
            ]
          },
          "metadata": {},
          "execution_count": 22
        }
      ]
    },
    {
      "cell_type": "markdown",
      "source": [
        "It looks like there are still some unknowns in the job variable as we did not catach all of them by removing unknowns from the education variable.  This means that we will remove 1662 rows from the data set of 40000 which is about 4 percent.  Because this is below 5%, this would be good practice and may help the predictive power of these features."
      ],
      "metadata": {
        "id": "d0oKaMUxTPLw"
      }
    },
    {
      "cell_type": "code",
      "source": [
        "df = df[df['job'] != 'unknown']"
      ],
      "metadata": {
        "id": "TbioYXoMUHCK"
      },
      "execution_count": 23,
      "outputs": []
    },
    {
      "cell_type": "code",
      "source": [
        "print(df.nunique())"
      ],
      "metadata": {
        "colab": {
          "base_uri": "https://localhost:8080/"
        },
        "id": "30KqG7BHURit",
        "outputId": "08f6a869-4630-4e86-b890-7935e3bc94f5"
      },
      "execution_count": 24,
      "outputs": [
        {
          "output_type": "stream",
          "name": "stdout",
          "text": [
            "age            70\n",
            "job            11\n",
            "marital         3\n",
            "education       3\n",
            "default         2\n",
            "balance      6685\n",
            "housing         2\n",
            "loan            2\n",
            "campaign       47\n",
            "y               2\n",
            "dtype: int64\n"
          ]
        }
      ]
    },
    {
      "cell_type": "code",
      "source": [
        "df.info()"
      ],
      "metadata": {
        "colab": {
          "base_uri": "https://localhost:8080/"
        },
        "id": "I_uUXQnnUWjI",
        "outputId": "c52afe9e-6892-4233-eedd-a1698acbcea5"
      },
      "execution_count": 25,
      "outputs": [
        {
          "output_type": "stream",
          "name": "stdout",
          "text": [
            "<class 'pandas.core.frame.DataFrame'>\n",
            "Int64Index: 38338 entries, 0 to 39999\n",
            "Data columns (total 10 columns):\n",
            " #   Column     Non-Null Count  Dtype \n",
            "---  ------     --------------  ----- \n",
            " 0   age        38338 non-null  int64 \n",
            " 1   job        38338 non-null  object\n",
            " 2   marital    38338 non-null  object\n",
            " 3   education  38338 non-null  object\n",
            " 4   default    38338 non-null  object\n",
            " 5   balance    38338 non-null  int64 \n",
            " 6   housing    38338 non-null  object\n",
            " 7   loan       38338 non-null  object\n",
            " 8   campaign   38338 non-null  int64 \n",
            " 9   y          38338 non-null  object\n",
            "dtypes: int64(3), object(7)\n",
            "memory usage: 3.2+ MB\n"
          ]
        }
      ]
    },
    {
      "cell_type": "markdown",
      "source": [
        "That is more like it.  Time to wrangle some data."
      ],
      "metadata": {
        "id": "L6zFaXWxOV13"
      }
    },
    {
      "cell_type": "markdown",
      "source": [
        "##**Data Wrangling**"
      ],
      "metadata": {
        "id": "nbxx0pMM7JQ2"
      }
    },
    {
      "cell_type": "markdown",
      "source": [
        "We will now convert the binary variables to integers, namely the target y."
      ],
      "metadata": {
        "id": "knp6kschOdEr"
      }
    },
    {
      "cell_type": "code",
      "source": [
        "df['default'] = df['default'].replace({'no':0, 'yes':1})\n",
        "df['housing'] = df['housing'].replace({'no':0, 'yes':1})\n",
        "df['loan'] = df['loan'].replace({'no':0, 'yes':1})\n",
        "df['y'] = df['y'].replace({'no':0, 'yes':1})"
      ],
      "metadata": {
        "id": "ifkUBK5acJo4"
      },
      "execution_count": 26,
      "outputs": []
    },
    {
      "cell_type": "code",
      "source": [
        "df.info()"
      ],
      "metadata": {
        "colab": {
          "base_uri": "https://localhost:8080/"
        },
        "id": "x8Y_WMtEg7NT",
        "outputId": "24d2c8c9-5dc8-4d3d-ce17-f33f18cace9a"
      },
      "execution_count": 27,
      "outputs": [
        {
          "output_type": "stream",
          "name": "stdout",
          "text": [
            "<class 'pandas.core.frame.DataFrame'>\n",
            "Int64Index: 38338 entries, 0 to 39999\n",
            "Data columns (total 10 columns):\n",
            " #   Column     Non-Null Count  Dtype \n",
            "---  ------     --------------  ----- \n",
            " 0   age        38338 non-null  int64 \n",
            " 1   job        38338 non-null  object\n",
            " 2   marital    38338 non-null  object\n",
            " 3   education  38338 non-null  object\n",
            " 4   default    38338 non-null  int64 \n",
            " 5   balance    38338 non-null  int64 \n",
            " 6   housing    38338 non-null  int64 \n",
            " 7   loan       38338 non-null  int64 \n",
            " 8   campaign   38338 non-null  int64 \n",
            " 9   y          38338 non-null  int64 \n",
            "dtypes: int64(7), object(3)\n",
            "memory usage: 3.2+ MB\n"
          ]
        }
      ]
    },
    {
      "cell_type": "markdown",
      "source": [
        "After converting binary variables to integers, there are only three variables that need converted for modeling purposes.  I will use the TargetEncoder here as there are now 11 values for the job feature and this encoder is very efficient.  Using One-Hot encoding or even feature hashing would create way too many features.  I will use One-Hot encoding for the marital and education features since there are only three values for those features.  The original features will be deleted, subsequently."
      ],
      "metadata": {
        "id": "au5TG_w9heqR"
      }
    },
    {
      "cell_type": "code",
      "source": [
        "ce = TargetEncoder()\n",
        "df['jobLabel'] = ce.fit_transform(df['job'], df['y'])"
      ],
      "metadata": {
        "id": "kGVShby3iY8a"
      },
      "execution_count": 28,
      "outputs": []
    },
    {
      "cell_type": "code",
      "source": [
        "# One-Hot encoding with get_dummies\n",
        "df = pd.get_dummies(df, columns = ['marital', 'education'])"
      ],
      "metadata": {
        "id": "NTjrEY90jb1x"
      },
      "execution_count": 29,
      "outputs": []
    },
    {
      "cell_type": "code",
      "source": [
        "df.head()"
      ],
      "metadata": {
        "colab": {
          "base_uri": "https://localhost:8080/",
          "height": 206
        },
        "id": "WTkWELUHk4QN",
        "outputId": "21aca5a3-3802-45ce-fa60-a73c1de389fc"
      },
      "execution_count": 30,
      "outputs": [
        {
          "output_type": "execute_result",
          "data": {
            "text/plain": [
              "   age           job  default  balance  housing  loan  campaign  y  jobLabel  \\\n",
              "0   58    management        0     2143        1     0         1  0      0.08   \n",
              "1   44    technician        0       29        1     0         1  0      0.07   \n",
              "2   33  entrepreneur        0        2        1     1         1  0      0.06   \n",
              "5   35    management        0      231        1     0         1  0      0.08   \n",
              "6   28    management        0      447        1     1         1  0      0.08   \n",
              "\n",
              "   marital_divorced  marital_married  marital_single  education_primary  \\\n",
              "0                 0                1               0                  0   \n",
              "1                 0                0               1                  0   \n",
              "2                 0                1               0                  0   \n",
              "5                 0                1               0                  0   \n",
              "6                 0                0               1                  0   \n",
              "\n",
              "   education_secondary  education_tertiary  \n",
              "0                    0                   1  \n",
              "1                    1                   0  \n",
              "2                    1                   0  \n",
              "5                    0                   1  \n",
              "6                    0                   1  "
            ],
            "text/html": [
              "\n",
              "  <div id=\"df-929e3172-e64f-4a79-9342-91e2318037c5\">\n",
              "    <div class=\"colab-df-container\">\n",
              "      <div>\n",
              "<style scoped>\n",
              "    .dataframe tbody tr th:only-of-type {\n",
              "        vertical-align: middle;\n",
              "    }\n",
              "\n",
              "    .dataframe tbody tr th {\n",
              "        vertical-align: top;\n",
              "    }\n",
              "\n",
              "    .dataframe thead th {\n",
              "        text-align: right;\n",
              "    }\n",
              "</style>\n",
              "<table border=\"1\" class=\"dataframe\">\n",
              "  <thead>\n",
              "    <tr style=\"text-align: right;\">\n",
              "      <th></th>\n",
              "      <th>age</th>\n",
              "      <th>job</th>\n",
              "      <th>default</th>\n",
              "      <th>balance</th>\n",
              "      <th>housing</th>\n",
              "      <th>loan</th>\n",
              "      <th>campaign</th>\n",
              "      <th>y</th>\n",
              "      <th>jobLabel</th>\n",
              "      <th>marital_divorced</th>\n",
              "      <th>marital_married</th>\n",
              "      <th>marital_single</th>\n",
              "      <th>education_primary</th>\n",
              "      <th>education_secondary</th>\n",
              "      <th>education_tertiary</th>\n",
              "    </tr>\n",
              "  </thead>\n",
              "  <tbody>\n",
              "    <tr>\n",
              "      <th>0</th>\n",
              "      <td>58</td>\n",
              "      <td>management</td>\n",
              "      <td>0</td>\n",
              "      <td>2143</td>\n",
              "      <td>1</td>\n",
              "      <td>0</td>\n",
              "      <td>1</td>\n",
              "      <td>0</td>\n",
              "      <td>0.08</td>\n",
              "      <td>0</td>\n",
              "      <td>1</td>\n",
              "      <td>0</td>\n",
              "      <td>0</td>\n",
              "      <td>0</td>\n",
              "      <td>1</td>\n",
              "    </tr>\n",
              "    <tr>\n",
              "      <th>1</th>\n",
              "      <td>44</td>\n",
              "      <td>technician</td>\n",
              "      <td>0</td>\n",
              "      <td>29</td>\n",
              "      <td>1</td>\n",
              "      <td>0</td>\n",
              "      <td>1</td>\n",
              "      <td>0</td>\n",
              "      <td>0.07</td>\n",
              "      <td>0</td>\n",
              "      <td>0</td>\n",
              "      <td>1</td>\n",
              "      <td>0</td>\n",
              "      <td>1</td>\n",
              "      <td>0</td>\n",
              "    </tr>\n",
              "    <tr>\n",
              "      <th>2</th>\n",
              "      <td>33</td>\n",
              "      <td>entrepreneur</td>\n",
              "      <td>0</td>\n",
              "      <td>2</td>\n",
              "      <td>1</td>\n",
              "      <td>1</td>\n",
              "      <td>1</td>\n",
              "      <td>0</td>\n",
              "      <td>0.06</td>\n",
              "      <td>0</td>\n",
              "      <td>1</td>\n",
              "      <td>0</td>\n",
              "      <td>0</td>\n",
              "      <td>1</td>\n",
              "      <td>0</td>\n",
              "    </tr>\n",
              "    <tr>\n",
              "      <th>5</th>\n",
              "      <td>35</td>\n",
              "      <td>management</td>\n",
              "      <td>0</td>\n",
              "      <td>231</td>\n",
              "      <td>1</td>\n",
              "      <td>0</td>\n",
              "      <td>1</td>\n",
              "      <td>0</td>\n",
              "      <td>0.08</td>\n",
              "      <td>0</td>\n",
              "      <td>1</td>\n",
              "      <td>0</td>\n",
              "      <td>0</td>\n",
              "      <td>0</td>\n",
              "      <td>1</td>\n",
              "    </tr>\n",
              "    <tr>\n",
              "      <th>6</th>\n",
              "      <td>28</td>\n",
              "      <td>management</td>\n",
              "      <td>0</td>\n",
              "      <td>447</td>\n",
              "      <td>1</td>\n",
              "      <td>1</td>\n",
              "      <td>1</td>\n",
              "      <td>0</td>\n",
              "      <td>0.08</td>\n",
              "      <td>0</td>\n",
              "      <td>0</td>\n",
              "      <td>1</td>\n",
              "      <td>0</td>\n",
              "      <td>0</td>\n",
              "      <td>1</td>\n",
              "    </tr>\n",
              "  </tbody>\n",
              "</table>\n",
              "</div>\n",
              "      <button class=\"colab-df-convert\" onclick=\"convertToInteractive('df-929e3172-e64f-4a79-9342-91e2318037c5')\"\n",
              "              title=\"Convert this dataframe to an interactive table.\"\n",
              "              style=\"display:none;\">\n",
              "        \n",
              "  <svg xmlns=\"http://www.w3.org/2000/svg\" height=\"24px\"viewBox=\"0 0 24 24\"\n",
              "       width=\"24px\">\n",
              "    <path d=\"M0 0h24v24H0V0z\" fill=\"none\"/>\n",
              "    <path d=\"M18.56 5.44l.94 2.06.94-2.06 2.06-.94-2.06-.94-.94-2.06-.94 2.06-2.06.94zm-11 1L8.5 8.5l.94-2.06 2.06-.94-2.06-.94L8.5 2.5l-.94 2.06-2.06.94zm10 10l.94 2.06.94-2.06 2.06-.94-2.06-.94-.94-2.06-.94 2.06-2.06.94z\"/><path d=\"M17.41 7.96l-1.37-1.37c-.4-.4-.92-.59-1.43-.59-.52 0-1.04.2-1.43.59L10.3 9.45l-7.72 7.72c-.78.78-.78 2.05 0 2.83L4 21.41c.39.39.9.59 1.41.59.51 0 1.02-.2 1.41-.59l7.78-7.78 2.81-2.81c.8-.78.8-2.07 0-2.86zM5.41 20L4 18.59l7.72-7.72 1.47 1.35L5.41 20z\"/>\n",
              "  </svg>\n",
              "      </button>\n",
              "      \n",
              "  <style>\n",
              "    .colab-df-container {\n",
              "      display:flex;\n",
              "      flex-wrap:wrap;\n",
              "      gap: 12px;\n",
              "    }\n",
              "\n",
              "    .colab-df-convert {\n",
              "      background-color: #E8F0FE;\n",
              "      border: none;\n",
              "      border-radius: 50%;\n",
              "      cursor: pointer;\n",
              "      display: none;\n",
              "      fill: #1967D2;\n",
              "      height: 32px;\n",
              "      padding: 0 0 0 0;\n",
              "      width: 32px;\n",
              "    }\n",
              "\n",
              "    .colab-df-convert:hover {\n",
              "      background-color: #E2EBFA;\n",
              "      box-shadow: 0px 1px 2px rgba(60, 64, 67, 0.3), 0px 1px 3px 1px rgba(60, 64, 67, 0.15);\n",
              "      fill: #174EA6;\n",
              "    }\n",
              "\n",
              "    [theme=dark] .colab-df-convert {\n",
              "      background-color: #3B4455;\n",
              "      fill: #D2E3FC;\n",
              "    }\n",
              "\n",
              "    [theme=dark] .colab-df-convert:hover {\n",
              "      background-color: #434B5C;\n",
              "      box-shadow: 0px 1px 3px 1px rgba(0, 0, 0, 0.15);\n",
              "      filter: drop-shadow(0px 1px 2px rgba(0, 0, 0, 0.3));\n",
              "      fill: #FFFFFF;\n",
              "    }\n",
              "  </style>\n",
              "\n",
              "      <script>\n",
              "        const buttonEl =\n",
              "          document.querySelector('#df-929e3172-e64f-4a79-9342-91e2318037c5 button.colab-df-convert');\n",
              "        buttonEl.style.display =\n",
              "          google.colab.kernel.accessAllowed ? 'block' : 'none';\n",
              "\n",
              "        async function convertToInteractive(key) {\n",
              "          const element = document.querySelector('#df-929e3172-e64f-4a79-9342-91e2318037c5');\n",
              "          const dataTable =\n",
              "            await google.colab.kernel.invokeFunction('convertToInteractive',\n",
              "                                                     [key], {});\n",
              "          if (!dataTable) return;\n",
              "\n",
              "          const docLinkHtml = 'Like what you see? Visit the ' +\n",
              "            '<a target=\"_blank\" href=https://colab.research.google.com/notebooks/data_table.ipynb>data table notebook</a>'\n",
              "            + ' to learn more about interactive tables.';\n",
              "          element.innerHTML = '';\n",
              "          dataTable['output_type'] = 'display_data';\n",
              "          await google.colab.output.renderOutput(dataTable, element);\n",
              "          const docLink = document.createElement('div');\n",
              "          docLink.innerHTML = docLinkHtml;\n",
              "          element.appendChild(docLink);\n",
              "        }\n",
              "      </script>\n",
              "    </div>\n",
              "  </div>\n",
              "  "
            ]
          },
          "metadata": {},
          "execution_count": 30
        }
      ]
    },
    {
      "cell_type": "code",
      "source": [
        "df.info()"
      ],
      "metadata": {
        "colab": {
          "base_uri": "https://localhost:8080/"
        },
        "id": "9cjDyaXwlAAu",
        "outputId": "2e4f08d7-b9be-41e1-c79e-623d08083ed5"
      },
      "execution_count": 31,
      "outputs": [
        {
          "output_type": "stream",
          "name": "stdout",
          "text": [
            "<class 'pandas.core.frame.DataFrame'>\n",
            "Int64Index: 38338 entries, 0 to 39999\n",
            "Data columns (total 15 columns):\n",
            " #   Column               Non-Null Count  Dtype  \n",
            "---  ------               --------------  -----  \n",
            " 0   age                  38338 non-null  int64  \n",
            " 1   job                  38338 non-null  object \n",
            " 2   default              38338 non-null  int64  \n",
            " 3   balance              38338 non-null  int64  \n",
            " 4   housing              38338 non-null  int64  \n",
            " 5   loan                 38338 non-null  int64  \n",
            " 6   campaign             38338 non-null  int64  \n",
            " 7   y                    38338 non-null  int64  \n",
            " 8   jobLabel             38338 non-null  float64\n",
            " 9   marital_divorced     38338 non-null  uint8  \n",
            " 10  marital_married      38338 non-null  uint8  \n",
            " 11  marital_single       38338 non-null  uint8  \n",
            " 12  education_primary    38338 non-null  uint8  \n",
            " 13  education_secondary  38338 non-null  uint8  \n",
            " 14  education_tertiary   38338 non-null  uint8  \n",
            "dtypes: float64(1), int64(7), object(1), uint8(6)\n",
            "memory usage: 4.4+ MB\n"
          ]
        }
      ]
    },
    {
      "cell_type": "markdown",
      "source": [
        "Now, we will define our target (y), drop the remaining object features, define X and scale the values to get ready for modeling."
      ],
      "metadata": {
        "id": "HiLNCeCxlHrw"
      }
    },
    {
      "cell_type": "code",
      "source": [
        "y = df['y']\n",
        "\n",
        "df = df.drop(['job', 'y'], axis = 1)"
      ],
      "metadata": {
        "id": "_hH8Pz_Bn4Ne"
      },
      "execution_count": 32,
      "outputs": []
    },
    {
      "cell_type": "code",
      "source": [
        "columns = df.columns\n",
        "columns"
      ],
      "metadata": {
        "colab": {
          "base_uri": "https://localhost:8080/"
        },
        "id": "Dt7yM3D6rTLd",
        "outputId": "6011ef34-0cc8-42ae-d443-b82b6288f3d8"
      },
      "execution_count": 33,
      "outputs": [
        {
          "output_type": "execute_result",
          "data": {
            "text/plain": [
              "Index(['age', 'default', 'balance', 'housing', 'loan', 'campaign', 'jobLabel',\n",
              "       'marital_divorced', 'marital_married', 'marital_single',\n",
              "       'education_primary', 'education_secondary', 'education_tertiary'],\n",
              "      dtype='object')"
            ]
          },
          "metadata": {},
          "execution_count": 33
        }
      ]
    },
    {
      "cell_type": "markdown",
      "source": [
        "These columns should match the preceding dataframe."
      ],
      "metadata": {
        "id": "o9trQdL7OyYr"
      }
    },
    {
      "cell_type": "code",
      "source": [
        "df.head()"
      ],
      "metadata": {
        "colab": {
          "base_uri": "https://localhost:8080/",
          "height": 206
        },
        "id": "f1xYdxD0lWT_",
        "outputId": "f4b153f3-6f95-4cef-c0f6-432162620353"
      },
      "execution_count": 34,
      "outputs": [
        {
          "output_type": "execute_result",
          "data": {
            "text/plain": [
              "   age  default  balance  housing  loan  campaign  jobLabel  marital_divorced  \\\n",
              "0   58        0     2143        1     0         1      0.08                 0   \n",
              "1   44        0       29        1     0         1      0.07                 0   \n",
              "2   33        0        2        1     1         1      0.06                 0   \n",
              "5   35        0      231        1     0         1      0.08                 0   \n",
              "6   28        0      447        1     1         1      0.08                 0   \n",
              "\n",
              "   marital_married  marital_single  education_primary  education_secondary  \\\n",
              "0                1               0                  0                    0   \n",
              "1                0               1                  0                    1   \n",
              "2                1               0                  0                    1   \n",
              "5                1               0                  0                    0   \n",
              "6                0               1                  0                    0   \n",
              "\n",
              "   education_tertiary  \n",
              "0                   1  \n",
              "1                   0  \n",
              "2                   0  \n",
              "5                   1  \n",
              "6                   1  "
            ],
            "text/html": [
              "\n",
              "  <div id=\"df-3744af9d-28bf-4238-9709-45601133b055\">\n",
              "    <div class=\"colab-df-container\">\n",
              "      <div>\n",
              "<style scoped>\n",
              "    .dataframe tbody tr th:only-of-type {\n",
              "        vertical-align: middle;\n",
              "    }\n",
              "\n",
              "    .dataframe tbody tr th {\n",
              "        vertical-align: top;\n",
              "    }\n",
              "\n",
              "    .dataframe thead th {\n",
              "        text-align: right;\n",
              "    }\n",
              "</style>\n",
              "<table border=\"1\" class=\"dataframe\">\n",
              "  <thead>\n",
              "    <tr style=\"text-align: right;\">\n",
              "      <th></th>\n",
              "      <th>age</th>\n",
              "      <th>default</th>\n",
              "      <th>balance</th>\n",
              "      <th>housing</th>\n",
              "      <th>loan</th>\n",
              "      <th>campaign</th>\n",
              "      <th>jobLabel</th>\n",
              "      <th>marital_divorced</th>\n",
              "      <th>marital_married</th>\n",
              "      <th>marital_single</th>\n",
              "      <th>education_primary</th>\n",
              "      <th>education_secondary</th>\n",
              "      <th>education_tertiary</th>\n",
              "    </tr>\n",
              "  </thead>\n",
              "  <tbody>\n",
              "    <tr>\n",
              "      <th>0</th>\n",
              "      <td>58</td>\n",
              "      <td>0</td>\n",
              "      <td>2143</td>\n",
              "      <td>1</td>\n",
              "      <td>0</td>\n",
              "      <td>1</td>\n",
              "      <td>0.08</td>\n",
              "      <td>0</td>\n",
              "      <td>1</td>\n",
              "      <td>0</td>\n",
              "      <td>0</td>\n",
              "      <td>0</td>\n",
              "      <td>1</td>\n",
              "    </tr>\n",
              "    <tr>\n",
              "      <th>1</th>\n",
              "      <td>44</td>\n",
              "      <td>0</td>\n",
              "      <td>29</td>\n",
              "      <td>1</td>\n",
              "      <td>0</td>\n",
              "      <td>1</td>\n",
              "      <td>0.07</td>\n",
              "      <td>0</td>\n",
              "      <td>0</td>\n",
              "      <td>1</td>\n",
              "      <td>0</td>\n",
              "      <td>1</td>\n",
              "      <td>0</td>\n",
              "    </tr>\n",
              "    <tr>\n",
              "      <th>2</th>\n",
              "      <td>33</td>\n",
              "      <td>0</td>\n",
              "      <td>2</td>\n",
              "      <td>1</td>\n",
              "      <td>1</td>\n",
              "      <td>1</td>\n",
              "      <td>0.06</td>\n",
              "      <td>0</td>\n",
              "      <td>1</td>\n",
              "      <td>0</td>\n",
              "      <td>0</td>\n",
              "      <td>1</td>\n",
              "      <td>0</td>\n",
              "    </tr>\n",
              "    <tr>\n",
              "      <th>5</th>\n",
              "      <td>35</td>\n",
              "      <td>0</td>\n",
              "      <td>231</td>\n",
              "      <td>1</td>\n",
              "      <td>0</td>\n",
              "      <td>1</td>\n",
              "      <td>0.08</td>\n",
              "      <td>0</td>\n",
              "      <td>1</td>\n",
              "      <td>0</td>\n",
              "      <td>0</td>\n",
              "      <td>0</td>\n",
              "      <td>1</td>\n",
              "    </tr>\n",
              "    <tr>\n",
              "      <th>6</th>\n",
              "      <td>28</td>\n",
              "      <td>0</td>\n",
              "      <td>447</td>\n",
              "      <td>1</td>\n",
              "      <td>1</td>\n",
              "      <td>1</td>\n",
              "      <td>0.08</td>\n",
              "      <td>0</td>\n",
              "      <td>0</td>\n",
              "      <td>1</td>\n",
              "      <td>0</td>\n",
              "      <td>0</td>\n",
              "      <td>1</td>\n",
              "    </tr>\n",
              "  </tbody>\n",
              "</table>\n",
              "</div>\n",
              "      <button class=\"colab-df-convert\" onclick=\"convertToInteractive('df-3744af9d-28bf-4238-9709-45601133b055')\"\n",
              "              title=\"Convert this dataframe to an interactive table.\"\n",
              "              style=\"display:none;\">\n",
              "        \n",
              "  <svg xmlns=\"http://www.w3.org/2000/svg\" height=\"24px\"viewBox=\"0 0 24 24\"\n",
              "       width=\"24px\">\n",
              "    <path d=\"M0 0h24v24H0V0z\" fill=\"none\"/>\n",
              "    <path d=\"M18.56 5.44l.94 2.06.94-2.06 2.06-.94-2.06-.94-.94-2.06-.94 2.06-2.06.94zm-11 1L8.5 8.5l.94-2.06 2.06-.94-2.06-.94L8.5 2.5l-.94 2.06-2.06.94zm10 10l.94 2.06.94-2.06 2.06-.94-2.06-.94-.94-2.06-.94 2.06-2.06.94z\"/><path d=\"M17.41 7.96l-1.37-1.37c-.4-.4-.92-.59-1.43-.59-.52 0-1.04.2-1.43.59L10.3 9.45l-7.72 7.72c-.78.78-.78 2.05 0 2.83L4 21.41c.39.39.9.59 1.41.59.51 0 1.02-.2 1.41-.59l7.78-7.78 2.81-2.81c.8-.78.8-2.07 0-2.86zM5.41 20L4 18.59l7.72-7.72 1.47 1.35L5.41 20z\"/>\n",
              "  </svg>\n",
              "      </button>\n",
              "      \n",
              "  <style>\n",
              "    .colab-df-container {\n",
              "      display:flex;\n",
              "      flex-wrap:wrap;\n",
              "      gap: 12px;\n",
              "    }\n",
              "\n",
              "    .colab-df-convert {\n",
              "      background-color: #E8F0FE;\n",
              "      border: none;\n",
              "      border-radius: 50%;\n",
              "      cursor: pointer;\n",
              "      display: none;\n",
              "      fill: #1967D2;\n",
              "      height: 32px;\n",
              "      padding: 0 0 0 0;\n",
              "      width: 32px;\n",
              "    }\n",
              "\n",
              "    .colab-df-convert:hover {\n",
              "      background-color: #E2EBFA;\n",
              "      box-shadow: 0px 1px 2px rgba(60, 64, 67, 0.3), 0px 1px 3px 1px rgba(60, 64, 67, 0.15);\n",
              "      fill: #174EA6;\n",
              "    }\n",
              "\n",
              "    [theme=dark] .colab-df-convert {\n",
              "      background-color: #3B4455;\n",
              "      fill: #D2E3FC;\n",
              "    }\n",
              "\n",
              "    [theme=dark] .colab-df-convert:hover {\n",
              "      background-color: #434B5C;\n",
              "      box-shadow: 0px 1px 3px 1px rgba(0, 0, 0, 0.15);\n",
              "      filter: drop-shadow(0px 1px 2px rgba(0, 0, 0, 0.3));\n",
              "      fill: #FFFFFF;\n",
              "    }\n",
              "  </style>\n",
              "\n",
              "      <script>\n",
              "        const buttonEl =\n",
              "          document.querySelector('#df-3744af9d-28bf-4238-9709-45601133b055 button.colab-df-convert');\n",
              "        buttonEl.style.display =\n",
              "          google.colab.kernel.accessAllowed ? 'block' : 'none';\n",
              "\n",
              "        async function convertToInteractive(key) {\n",
              "          const element = document.querySelector('#df-3744af9d-28bf-4238-9709-45601133b055');\n",
              "          const dataTable =\n",
              "            await google.colab.kernel.invokeFunction('convertToInteractive',\n",
              "                                                     [key], {});\n",
              "          if (!dataTable) return;\n",
              "\n",
              "          const docLinkHtml = 'Like what you see? Visit the ' +\n",
              "            '<a target=\"_blank\" href=https://colab.research.google.com/notebooks/data_table.ipynb>data table notebook</a>'\n",
              "            + ' to learn more about interactive tables.';\n",
              "          element.innerHTML = '';\n",
              "          dataTable['output_type'] = 'display_data';\n",
              "          await google.colab.output.renderOutput(dataTable, element);\n",
              "          const docLink = document.createElement('div');\n",
              "          docLink.innerHTML = docLinkHtml;\n",
              "          element.appendChild(docLink);\n",
              "        }\n",
              "      </script>\n",
              "    </div>\n",
              "  </div>\n",
              "  "
            ]
          },
          "metadata": {},
          "execution_count": 34
        }
      ]
    },
    {
      "cell_type": "markdown",
      "source": [
        "I want to change the name of some of the columns to be more readable."
      ],
      "metadata": {
        "id": "7MOgpxO63gZv"
      }
    },
    {
      "cell_type": "code",
      "source": [
        "df.columns = ['age', 'default', 'balance', 'housing', 'loan', 'campaign', 'jobLabel', 'divorced', 'married', 'single', 'education_primary', 'education_secondary', 'education_tertiary']"
      ],
      "metadata": {
        "id": "S91N8uRo3oqz"
      },
      "execution_count": 35,
      "outputs": []
    },
    {
      "cell_type": "code",
      "source": [
        "df.head()"
      ],
      "metadata": {
        "colab": {
          "base_uri": "https://localhost:8080/",
          "height": 206
        },
        "id": "OrtsJTAr4L8F",
        "outputId": "9f58e9ae-caa6-4344-afea-8a551ef8c4b8"
      },
      "execution_count": 36,
      "outputs": [
        {
          "output_type": "execute_result",
          "data": {
            "text/plain": [
              "   age  default  balance  housing  loan  campaign  jobLabel  divorced  \\\n",
              "0   58        0     2143        1     0         1      0.08         0   \n",
              "1   44        0       29        1     0         1      0.07         0   \n",
              "2   33        0        2        1     1         1      0.06         0   \n",
              "5   35        0      231        1     0         1      0.08         0   \n",
              "6   28        0      447        1     1         1      0.08         0   \n",
              "\n",
              "   married  single  education_primary  education_secondary  education_tertiary  \n",
              "0        1       0                  0                    0                   1  \n",
              "1        0       1                  0                    1                   0  \n",
              "2        1       0                  0                    1                   0  \n",
              "5        1       0                  0                    0                   1  \n",
              "6        0       1                  0                    0                   1  "
            ],
            "text/html": [
              "\n",
              "  <div id=\"df-c8f3ec14-0bab-4f23-b8ee-446ac31bab45\">\n",
              "    <div class=\"colab-df-container\">\n",
              "      <div>\n",
              "<style scoped>\n",
              "    .dataframe tbody tr th:only-of-type {\n",
              "        vertical-align: middle;\n",
              "    }\n",
              "\n",
              "    .dataframe tbody tr th {\n",
              "        vertical-align: top;\n",
              "    }\n",
              "\n",
              "    .dataframe thead th {\n",
              "        text-align: right;\n",
              "    }\n",
              "</style>\n",
              "<table border=\"1\" class=\"dataframe\">\n",
              "  <thead>\n",
              "    <tr style=\"text-align: right;\">\n",
              "      <th></th>\n",
              "      <th>age</th>\n",
              "      <th>default</th>\n",
              "      <th>balance</th>\n",
              "      <th>housing</th>\n",
              "      <th>loan</th>\n",
              "      <th>campaign</th>\n",
              "      <th>jobLabel</th>\n",
              "      <th>divorced</th>\n",
              "      <th>married</th>\n",
              "      <th>single</th>\n",
              "      <th>education_primary</th>\n",
              "      <th>education_secondary</th>\n",
              "      <th>education_tertiary</th>\n",
              "    </tr>\n",
              "  </thead>\n",
              "  <tbody>\n",
              "    <tr>\n",
              "      <th>0</th>\n",
              "      <td>58</td>\n",
              "      <td>0</td>\n",
              "      <td>2143</td>\n",
              "      <td>1</td>\n",
              "      <td>0</td>\n",
              "      <td>1</td>\n",
              "      <td>0.08</td>\n",
              "      <td>0</td>\n",
              "      <td>1</td>\n",
              "      <td>0</td>\n",
              "      <td>0</td>\n",
              "      <td>0</td>\n",
              "      <td>1</td>\n",
              "    </tr>\n",
              "    <tr>\n",
              "      <th>1</th>\n",
              "      <td>44</td>\n",
              "      <td>0</td>\n",
              "      <td>29</td>\n",
              "      <td>1</td>\n",
              "      <td>0</td>\n",
              "      <td>1</td>\n",
              "      <td>0.07</td>\n",
              "      <td>0</td>\n",
              "      <td>0</td>\n",
              "      <td>1</td>\n",
              "      <td>0</td>\n",
              "      <td>1</td>\n",
              "      <td>0</td>\n",
              "    </tr>\n",
              "    <tr>\n",
              "      <th>2</th>\n",
              "      <td>33</td>\n",
              "      <td>0</td>\n",
              "      <td>2</td>\n",
              "      <td>1</td>\n",
              "      <td>1</td>\n",
              "      <td>1</td>\n",
              "      <td>0.06</td>\n",
              "      <td>0</td>\n",
              "      <td>1</td>\n",
              "      <td>0</td>\n",
              "      <td>0</td>\n",
              "      <td>1</td>\n",
              "      <td>0</td>\n",
              "    </tr>\n",
              "    <tr>\n",
              "      <th>5</th>\n",
              "      <td>35</td>\n",
              "      <td>0</td>\n",
              "      <td>231</td>\n",
              "      <td>1</td>\n",
              "      <td>0</td>\n",
              "      <td>1</td>\n",
              "      <td>0.08</td>\n",
              "      <td>0</td>\n",
              "      <td>1</td>\n",
              "      <td>0</td>\n",
              "      <td>0</td>\n",
              "      <td>0</td>\n",
              "      <td>1</td>\n",
              "    </tr>\n",
              "    <tr>\n",
              "      <th>6</th>\n",
              "      <td>28</td>\n",
              "      <td>0</td>\n",
              "      <td>447</td>\n",
              "      <td>1</td>\n",
              "      <td>1</td>\n",
              "      <td>1</td>\n",
              "      <td>0.08</td>\n",
              "      <td>0</td>\n",
              "      <td>0</td>\n",
              "      <td>1</td>\n",
              "      <td>0</td>\n",
              "      <td>0</td>\n",
              "      <td>1</td>\n",
              "    </tr>\n",
              "  </tbody>\n",
              "</table>\n",
              "</div>\n",
              "      <button class=\"colab-df-convert\" onclick=\"convertToInteractive('df-c8f3ec14-0bab-4f23-b8ee-446ac31bab45')\"\n",
              "              title=\"Convert this dataframe to an interactive table.\"\n",
              "              style=\"display:none;\">\n",
              "        \n",
              "  <svg xmlns=\"http://www.w3.org/2000/svg\" height=\"24px\"viewBox=\"0 0 24 24\"\n",
              "       width=\"24px\">\n",
              "    <path d=\"M0 0h24v24H0V0z\" fill=\"none\"/>\n",
              "    <path d=\"M18.56 5.44l.94 2.06.94-2.06 2.06-.94-2.06-.94-.94-2.06-.94 2.06-2.06.94zm-11 1L8.5 8.5l.94-2.06 2.06-.94-2.06-.94L8.5 2.5l-.94 2.06-2.06.94zm10 10l.94 2.06.94-2.06 2.06-.94-2.06-.94-.94-2.06-.94 2.06-2.06.94z\"/><path d=\"M17.41 7.96l-1.37-1.37c-.4-.4-.92-.59-1.43-.59-.52 0-1.04.2-1.43.59L10.3 9.45l-7.72 7.72c-.78.78-.78 2.05 0 2.83L4 21.41c.39.39.9.59 1.41.59.51 0 1.02-.2 1.41-.59l7.78-7.78 2.81-2.81c.8-.78.8-2.07 0-2.86zM5.41 20L4 18.59l7.72-7.72 1.47 1.35L5.41 20z\"/>\n",
              "  </svg>\n",
              "      </button>\n",
              "      \n",
              "  <style>\n",
              "    .colab-df-container {\n",
              "      display:flex;\n",
              "      flex-wrap:wrap;\n",
              "      gap: 12px;\n",
              "    }\n",
              "\n",
              "    .colab-df-convert {\n",
              "      background-color: #E8F0FE;\n",
              "      border: none;\n",
              "      border-radius: 50%;\n",
              "      cursor: pointer;\n",
              "      display: none;\n",
              "      fill: #1967D2;\n",
              "      height: 32px;\n",
              "      padding: 0 0 0 0;\n",
              "      width: 32px;\n",
              "    }\n",
              "\n",
              "    .colab-df-convert:hover {\n",
              "      background-color: #E2EBFA;\n",
              "      box-shadow: 0px 1px 2px rgba(60, 64, 67, 0.3), 0px 1px 3px 1px rgba(60, 64, 67, 0.15);\n",
              "      fill: #174EA6;\n",
              "    }\n",
              "\n",
              "    [theme=dark] .colab-df-convert {\n",
              "      background-color: #3B4455;\n",
              "      fill: #D2E3FC;\n",
              "    }\n",
              "\n",
              "    [theme=dark] .colab-df-convert:hover {\n",
              "      background-color: #434B5C;\n",
              "      box-shadow: 0px 1px 3px 1px rgba(0, 0, 0, 0.15);\n",
              "      filter: drop-shadow(0px 1px 2px rgba(0, 0, 0, 0.3));\n",
              "      fill: #FFFFFF;\n",
              "    }\n",
              "  </style>\n",
              "\n",
              "      <script>\n",
              "        const buttonEl =\n",
              "          document.querySelector('#df-c8f3ec14-0bab-4f23-b8ee-446ac31bab45 button.colab-df-convert');\n",
              "        buttonEl.style.display =\n",
              "          google.colab.kernel.accessAllowed ? 'block' : 'none';\n",
              "\n",
              "        async function convertToInteractive(key) {\n",
              "          const element = document.querySelector('#df-c8f3ec14-0bab-4f23-b8ee-446ac31bab45');\n",
              "          const dataTable =\n",
              "            await google.colab.kernel.invokeFunction('convertToInteractive',\n",
              "                                                     [key], {});\n",
              "          if (!dataTable) return;\n",
              "\n",
              "          const docLinkHtml = 'Like what you see? Visit the ' +\n",
              "            '<a target=\"_blank\" href=https://colab.research.google.com/notebooks/data_table.ipynb>data table notebook</a>'\n",
              "            + ' to learn more about interactive tables.';\n",
              "          element.innerHTML = '';\n",
              "          dataTable['output_type'] = 'display_data';\n",
              "          await google.colab.output.renderOutput(dataTable, element);\n",
              "          const docLink = document.createElement('div');\n",
              "          docLink.innerHTML = docLinkHtml;\n",
              "          element.appendChild(docLink);\n",
              "        }\n",
              "      </script>\n",
              "    </div>\n",
              "  </div>\n",
              "  "
            ]
          },
          "metadata": {},
          "execution_count": 36
        }
      ]
    },
    {
      "cell_type": "markdown",
      "source": [
        "Now, we are ready for modeling."
      ],
      "metadata": {
        "id": "lSD0QhtsPEVu"
      }
    },
    {
      "cell_type": "markdown",
      "source": [
        "##**Modeling**"
      ],
      "metadata": {
        "id": "wNLOmBoar2HE"
      }
    },
    {
      "cell_type": "code",
      "source": [
        "X = df\n",
        "\n",
        "seed = 2346\n",
        "\n",
        "X_train, X_test, y_train, y_test = train_test_split(X, y, test_size=0.25, stratify=y, random_state=seed)\n",
        "print(X_train.shape[0] / X.shape[0])\n",
        "print(X_test.shape[0] / X.shape[0])"
      ],
      "metadata": {
        "colab": {
          "base_uri": "https://localhost:8080/"
        },
        "id": "yvBJMowisCro",
        "outputId": "898a9339-8454-4873-8fb1-26d5aafd3899"
      },
      "execution_count": 37,
      "outputs": [
        {
          "output_type": "stream",
          "name": "stdout",
          "text": [
            "0.7499869581094476\n",
            "0.25001304189055246\n"
          ]
        }
      ]
    },
    {
      "cell_type": "markdown",
      "source": [
        "Good, the training and test sets are in the percentages we want them.  I always like to check that."
      ],
      "metadata": {
        "id": "W5LPgiC_PI4r"
      }
    },
    {
      "cell_type": "code",
      "source": [
        "clf = tree.DecisionTreeClassifier(max_depth = 7, criterion = 'gini', class_weight='balanced')\n",
        "modelT = clf.fit(X_train, y_train)\n",
        "pred_y = modelT.predict(X_test)\n",
        "\n",
        "test_precision = round(precision_score(y_test, pred_y), 4)\n",
        "test_recall = round(recall_score(y_test, pred_y), 4)\n",
        "\n",
        "print(\"Training accuracy: \", round(clf.score(X_train, y_train), 4))\n",
        "print(\"Test accuracy: \", round(accuracy_score(y_test, pred_y), 4))\n",
        "print('Test precision: {}, Test recall: {}'.format(test_precision, test_recall))"
      ],
      "metadata": {
        "colab": {
          "base_uri": "https://localhost:8080/"
        },
        "id": "BtsCigslsmyL",
        "outputId": "012664cf-7aad-4aae-9b0d-0744749024e3"
      },
      "execution_count": 38,
      "outputs": [
        {
          "output_type": "stream",
          "name": "stdout",
          "text": [
            "Training accuracy:  0.6647\n",
            "Test accuracy:  0.6561\n",
            "Test precision: 0.1015, Test recall: 0.4742\n"
          ]
        }
      ]
    },
    {
      "cell_type": "markdown",
      "source": [
        "That accuracy looks pretty bad but this is only one tree, so the predictive power of the tree by itself is poor.  The precision and recall numbers are also very low.  We will need to either oversample or undersample the data in some way.  Let's optimize the tree to see what a good depth would be and see what kind of customers would be most likely to purchase a term deposit as a form of EDA."
      ],
      "metadata": {
        "id": "Q5o1UV_Utn_8"
      }
    },
    {
      "cell_type": "code",
      "source": [
        "depth_list = list(range(2, 15))\n",
        "depth_tuning = np.zeros((len(depth_list), 4))\n",
        "depth_tuning[:,0] = depth_list\n",
        "for index in range(len(depth_list)):\n",
        "    clf = DecisionTreeClassifier(max_depth=depth_list[index], class_weight='balanced', criterion = 'gini')\n",
        "    clf.fit(X_train, y_train)\n",
        "    pred_y = clf.predict(X_test)\n",
        "    depth_tuning[index,1] = accuracy_score(y_test, pred_y)\n",
        "    depth_tuning[index,2] = precision_score(y_test, pred_y)\n",
        "    depth_tuning[index,3] = recall_score(y_test, pred_y)\n",
        "col_names = ['Max_Depth', 'Accuracy', 'Precision', 'Recall']\n",
        "print(pd.DataFrame(depth_tuning, columns=col_names))"
      ],
      "metadata": {
        "colab": {
          "base_uri": "https://localhost:8080/"
        },
        "id": "xJb10yL5G8As",
        "outputId": "bcb89bd0-728d-4907-bfa8-68f7b82f179a"
      },
      "execution_count": 39,
      "outputs": [
        {
          "output_type": "stream",
          "name": "stdout",
          "text": [
            "    Max_Depth  Accuracy  Precision  Recall\n",
            "0        2.00      0.60       0.09    0.52\n",
            "1        3.00      0.77       0.12    0.33\n",
            "2        4.00      0.59       0.10    0.55\n",
            "3        5.00      0.63       0.10    0.50\n",
            "4        6.00      0.65       0.10    0.48\n",
            "5        7.00      0.66       0.10    0.48\n",
            "6        8.00      0.61       0.10    0.53\n",
            "7        9.00      0.62       0.10    0.52\n",
            "8       10.00      0.67       0.11    0.47\n",
            "9       11.00      0.63       0.10    0.51\n",
            "10      12.00      0.69       0.11    0.45\n",
            "11      13.00      0.68       0.10    0.43\n",
            "12      14.00      0.72       0.11    0.38\n"
          ]
        }
      ]
    },
    {
      "cell_type": "markdown",
      "source": [
        "We can see that a depth of 3 would be best but the accuracy does not change much.  Let's try a tree depth of 3 for visual appeal. Next, we will determine which features the decision tree finds to be most influential and plot the tree."
      ],
      "metadata": {
        "id": "fKc1A_10HdHl"
      }
    },
    {
      "cell_type": "code",
      "source": [
        "clf = tree.DecisionTreeClassifier(max_depth = 3, criterion = 'gini', class_weight='balanced')\n",
        "modelT = clf.fit(X_train, y_train)\n",
        "fig = plt.figure(figsize=(25,20))\n",
        "tree.plot_tree(clf, feature_names = columns, filled=True)"
      ],
      "metadata": {
        "colab": {
          "base_uri": "https://localhost:8080/",
          "height": 1000
        },
        "id": "cXt2nNHXH9iM",
        "outputId": "d1bb8a6a-800b-439b-b06d-ece9f198d498"
      },
      "execution_count": 40,
      "outputs": [
        {
          "output_type": "execute_result",
          "data": {
            "text/plain": [
              "[Text(697.5, 951.3000000000001, 'marital_married <= 0.5\\ngini = 0.5\\nsamples = 28753\\nvalue = [14376.5, 14376.5]'),\n",
              " Text(348.75, 679.5, 'balance <= 648.5\\ngini = 0.492\\nsamples = 11252\\nvalue = [5512.457, 7071.535]'),\n",
              " Text(174.375, 407.70000000000005, 'age <= 29.5\\ngini = 0.499\\nsamples = 6990\\nvalue = [3478.316, 3707.407]'),\n",
              " Text(87.1875, 135.89999999999998, 'gini = 0.479\\nsamples = 1411\\nvalue = [680.024, 1029.835]'),\n",
              " Text(261.5625, 135.89999999999998, 'gini = 0.5\\nsamples = 5579\\nvalue = [2798.292, 2677.572]'),\n",
              " Text(523.125, 407.70000000000005, 'housing <= 0.5\\ngini = 0.47\\nsamples = 4262\\nvalue = [2034.141, 3364.128]'),\n",
              " Text(435.9375, 135.89999999999998, 'gini = 0.416\\nsamples = 1666\\nvalue = [756.601, 1805.644]'),\n",
              " Text(610.3125, 135.89999999999998, 'gini = 0.495\\nsamples = 2596\\nvalue = [1277.54, 1558.484]'),\n",
              " Text(1046.25, 679.5, 'age <= 60.5\\ngini = 0.495\\nsamples = 17501\\nvalue = [8864.043, 7304.965]'),\n",
              " Text(871.875, 407.70000000000005, 'balance <= 655.5\\ngini = 0.493\\nsamples = 17368\\nvalue = [8819.823, 6954.821]'),\n",
              " Text(784.6875, 135.89999999999998, 'gini = 0.48\\nsamples = 10332\\nvalue = [5295.669, 3515.171]'),\n",
              " Text(959.0625, 135.89999999999998, 'gini = 0.5\\nsamples = 7036\\nvalue = [3524.154, 3439.65]'),\n",
              " Text(1220.625, 407.70000000000005, 'loan <= 0.5\\ngini = 0.199\\nsamples = 133\\nvalue = [44.22, 350.144]'),\n",
              " Text(1133.4375, 135.89999999999998, 'gini = 0.188\\nsamples = 127\\nvalue = [40.985, 350.144]'),\n",
              " Text(1307.8125, 135.89999999999998, 'gini = -0.0\\nsamples = 6\\nvalue = [3.236, 0.0]')]"
            ]
          },
          "metadata": {},
          "execution_count": 40
        },
        {
          "output_type": "display_data",
          "data": {
            "text/plain": [
              "<Figure size 1800x1440 with 1 Axes>"
            ],
            "image/png": "[encoded data removed]"
          },
          "metadata": {
            "needs_background": "light"
          }
        }
      ]
    },
    {
      "cell_type": "markdown",
      "source": [
        "According to this tree, customers who have a housing loan were more likely to purchase a term deposit.  Married customers with an average yearly balance of over 656 dollars were most likely to purchase a term deposit. Of the customers who have a house, customers who are married were more likely to purchase.  Married customers who were contacted less than 6 times during this campaign were less likely to purchase a term deposit.  As you can imagine, a customer whose average yearly balance is close to $200 or less and does not have a housing loan, they are not a good candidate to purchase.  Odds are slighly better for customers over 60 but not much. Let's see if the Lazy Classifier can help us decide on a machine learning function to use."
      ],
      "metadata": {
        "id": "cLP3gQvJGrdg"
      }
    },
    {
      "cell_type": "code",
      "source": [
        "lazy = LazyClassifier(verbose=0,ignore_warnings=True, custom_metric=None)\n",
        "models,predictions = lazy.fit(X_train, X_test, y_train, y_test)\n",
        "\n",
        "models"
      ],
      "metadata": {
        "colab": {
          "base_uri": "https://localhost:8080/",
          "height": 914
        },
        "id": "dTfxYPnvwv11",
        "outputId": "f858d562-5c92-4b61-875b-37c4b8fc89dc"
      },
      "execution_count": 41,
      "outputs": [
        {
          "output_type": "stream",
          "name": "stderr",
          "text": [
            "100%|██████████| 29/29 [02:30<00:00,  5.18s/it]\n"
          ]
        },
        {
          "output_type": "execute_result",
          "data": {
            "text/plain": [
              "                               Accuracy  Balanced Accuracy  ROC AUC  F1 Score  \\\n",
              "Model                                                                           \n",
              "NearestCentroid                    0.59               0.58     0.58      0.69   \n",
              "ExtraTreeClassifier                0.87               0.53     0.53      0.87   \n",
              "DecisionTreeClassifier             0.86               0.52     0.52      0.87   \n",
              "RandomForestClassifier             0.92               0.52     0.52      0.89   \n",
              "BaggingClassifier                  0.92               0.52     0.52      0.89   \n",
              "GaussianNB                         0.92               0.52     0.52      0.89   \n",
              "ExtraTreesClassifier               0.90               0.51     0.51      0.89   \n",
              "KNeighborsClassifier               0.92               0.51     0.51      0.89   \n",
              "QuadraticDiscriminantAnalysis      0.89               0.51     0.51      0.88   \n",
              "PassiveAggressiveClassifier        0.87               0.51     0.51      0.87   \n",
              "LabelPropagation                   0.91               0.51     0.51      0.89   \n",
              "LabelSpreading                     0.92               0.51     0.51      0.89   \n",
              "XGBClassifier                      0.93               0.51     0.51      0.89   \n",
              "DummyClassifier                    0.87               0.51     0.51      0.87   \n",
              "AdaBoostClassifier                 0.93               0.50     0.50      0.89   \n",
              "LGBMClassifier                     0.93               0.50     0.50      0.89   \n",
              "SVC                                0.93               0.50     0.50      0.89   \n",
              "Perceptron                         0.93               0.50     0.50      0.89   \n",
              "RidgeClassifier                    0.93               0.50     0.50      0.89   \n",
              "RidgeClassifierCV                  0.93               0.50     0.50      0.89   \n",
              "SGDClassifier                      0.93               0.50     0.50      0.89   \n",
              "BernoulliNB                        0.93               0.50     0.50      0.89   \n",
              "LinearSVC                          0.93               0.50     0.50      0.89   \n",
              "LogisticRegression                 0.93               0.50     0.50      0.89   \n",
              "LinearDiscriminantAnalysis         0.93               0.50     0.50      0.89   \n",
              "CalibratedClassifierCV             0.93               0.50     0.50      0.89   \n",
              "\n",
              "                               Time Taken  \n",
              "Model                                      \n",
              "NearestCentroid                      0.14  \n",
              "ExtraTreeClassifier                  0.06  \n",
              "DecisionTreeClassifier               0.18  \n",
              "RandomForestClassifier               2.82  \n",
              "BaggingClassifier                    0.86  \n",
              "GaussianNB                           0.05  \n",
              "ExtraTreesClassifier                 2.33  \n",
              "KNeighborsClassifier                 1.21  \n",
              "QuadraticDiscriminantAnalysis        0.26  \n",
              "PassiveAggressiveClassifier          0.19  \n",
              "LabelPropagation                    35.77  \n",
              "LabelSpreading                      51.17  \n",
              "XGBClassifier                        0.62  \n",
              "DummyClassifier                      0.04  \n",
              "AdaBoostClassifier                   0.98  \n",
              "LGBMClassifier                       0.46  \n",
              "SVC                                 36.48  \n",
              "Perceptron                           0.20  \n",
              "RidgeClassifier                      0.16  \n",
              "RidgeClassifierCV                    0.21  \n",
              "SGDClassifier                        0.20  \n",
              "BernoulliNB                          0.06  \n",
              "LinearSVC                            3.12  \n",
              "LogisticRegression                   0.20  \n",
              "LinearDiscriminantAnalysis           0.25  \n",
              "CalibratedClassifierCV              11.92  "
            ],
            "text/html": [
              "\n",
              "  <div id=\"df-3ff4d4e2-8030-44fe-92ab-e640c0fb7696\">\n",
              "    <div class=\"colab-df-container\">\n",
              "      <div>\n",
              "<style scoped>\n",
              "    .dataframe tbody tr th:only-of-type {\n",
              "        vertical-align: middle;\n",
              "    }\n",
              "\n",
              "    .dataframe tbody tr th {\n",
              "        vertical-align: top;\n",
              "    }\n",
              "\n",
              "    .dataframe thead th {\n",
              "        text-align: right;\n",
              "    }\n",
              "</style>\n",
              "<table border=\"1\" class=\"dataframe\">\n",
              "  <thead>\n",
              "    <tr style=\"text-align: right;\">\n",
              "      <th></th>\n",
              "      <th>Accuracy</th>\n",
              "      <th>Balanced Accuracy</th>\n",
              "      <th>ROC AUC</th>\n",
              "      <th>F1 Score</th>\n",
              "      <th>Time Taken</th>\n",
              "    </tr>\n",
              "    <tr>\n",
              "      <th>Model</th>\n",
              "      <th></th>\n",
              "      <th></th>\n",
              "      <th></th>\n",
              "      <th></th>\n",
              "      <th></th>\n",
              "    </tr>\n",
              "  </thead>\n",
              "  <tbody>\n",
              "    <tr>\n",
              "      <th>NearestCentroid</th>\n",
              "      <td>0.59</td>\n",
              "      <td>0.58</td>\n",
              "      <td>0.58</td>\n",
              "      <td>0.69</td>\n",
              "      <td>0.14</td>\n",
              "    </tr>\n",
              "    <tr>\n",
              "      <th>ExtraTreeClassifier</th>\n",
              "      <td>0.87</td>\n",
              "      <td>0.53</td>\n",
              "      <td>0.53</td>\n",
              "      <td>0.87</td>\n",
              "      <td>0.06</td>\n",
              "    </tr>\n",
              "    <tr>\n",
              "      <th>DecisionTreeClassifier</th>\n",
              "      <td>0.86</td>\n",
              "      <td>0.52</td>\n",
              "      <td>0.52</td>\n",
              "      <td>0.87</td>\n",
              "      <td>0.18</td>\n",
              "    </tr>\n",
              "    <tr>\n",
              "      <th>RandomForestClassifier</th>\n",
              "      <td>0.92</td>\n",
              "      <td>0.52</td>\n",
              "      <td>0.52</td>\n",
              "      <td>0.89</td>\n",
              "      <td>2.82</td>\n",
              "    </tr>\n",
              "    <tr>\n",
              "      <th>BaggingClassifier</th>\n",
              "      <td>0.92</td>\n",
              "      <td>0.52</td>\n",
              "      <td>0.52</td>\n",
              "      <td>0.89</td>\n",
              "      <td>0.86</td>\n",
              "    </tr>\n",
              "    <tr>\n",
              "      <th>GaussianNB</th>\n",
              "      <td>0.92</td>\n",
              "      <td>0.52</td>\n",
              "      <td>0.52</td>\n",
              "      <td>0.89</td>\n",
              "      <td>0.05</td>\n",
              "    </tr>\n",
              "    <tr>\n",
              "      <th>ExtraTreesClassifier</th>\n",
              "      <td>0.90</td>\n",
              "      <td>0.51</td>\n",
              "      <td>0.51</td>\n",
              "      <td>0.89</td>\n",
              "      <td>2.33</td>\n",
              "    </tr>\n",
              "    <tr>\n",
              "      <th>KNeighborsClassifier</th>\n",
              "      <td>0.92</td>\n",
              "      <td>0.51</td>\n",
              "      <td>0.51</td>\n",
              "      <td>0.89</td>\n",
              "      <td>1.21</td>\n",
              "    </tr>\n",
              "    <tr>\n",
              "      <th>QuadraticDiscriminantAnalysis</th>\n",
              "      <td>0.89</td>\n",
              "      <td>0.51</td>\n",
              "      <td>0.51</td>\n",
              "      <td>0.88</td>\n",
              "      <td>0.26</td>\n",
              "    </tr>\n",
              "    <tr>\n",
              "      <th>PassiveAggressiveClassifier</th>\n",
              "      <td>0.87</td>\n",
              "      <td>0.51</td>\n",
              "      <td>0.51</td>\n",
              "      <td>0.87</td>\n",
              "      <td>0.19</td>\n",
              "    </tr>\n",
              "    <tr>\n",
              "      <th>LabelPropagation</th>\n",
              "      <td>0.91</td>\n",
              "      <td>0.51</td>\n",
              "      <td>0.51</td>\n",
              "      <td>0.89</td>\n",
              "      <td>35.77</td>\n",
              "    </tr>\n",
              "    <tr>\n",
              "      <th>LabelSpreading</th>\n",
              "      <td>0.92</td>\n",
              "      <td>0.51</td>\n",
              "      <td>0.51</td>\n",
              "      <td>0.89</td>\n",
              "      <td>51.17</td>\n",
              "    </tr>\n",
              "    <tr>\n",
              "      <th>XGBClassifier</th>\n",
              "      <td>0.93</td>\n",
              "      <td>0.51</td>\n",
              "      <td>0.51</td>\n",
              "      <td>0.89</td>\n",
              "      <td>0.62</td>\n",
              "    </tr>\n",
              "    <tr>\n",
              "      <th>DummyClassifier</th>\n",
              "      <td>0.87</td>\n",
              "      <td>0.51</td>\n",
              "      <td>0.51</td>\n",
              "      <td>0.87</td>\n",
              "      <td>0.04</td>\n",
              "    </tr>\n",
              "    <tr>\n",
              "      <th>AdaBoostClassifier</th>\n",
              "      <td>0.93</td>\n",
              "      <td>0.50</td>\n",
              "      <td>0.50</td>\n",
              "      <td>0.89</td>\n",
              "      <td>0.98</td>\n",
              "    </tr>\n",
              "    <tr>\n",
              "      <th>LGBMClassifier</th>\n",
              "      <td>0.93</td>\n",
              "      <td>0.50</td>\n",
              "      <td>0.50</td>\n",
              "      <td>0.89</td>\n",
              "      <td>0.46</td>\n",
              "    </tr>\n",
              "    <tr>\n",
              "      <th>SVC</th>\n",
              "      <td>0.93</td>\n",
              "      <td>0.50</td>\n",
              "      <td>0.50</td>\n",
              "      <td>0.89</td>\n",
              "      <td>36.48</td>\n",
              "    </tr>\n",
              "    <tr>\n",
              "      <th>Perceptron</th>\n",
              "      <td>0.93</td>\n",
              "      <td>0.50</td>\n",
              "      <td>0.50</td>\n",
              "      <td>0.89</td>\n",
              "      <td>0.20</td>\n",
              "    </tr>\n",
              "    <tr>\n",
              "      <th>RidgeClassifier</th>\n",
              "      <td>0.93</td>\n",
              "      <td>0.50</td>\n",
              "      <td>0.50</td>\n",
              "      <td>0.89</td>\n",
              "      <td>0.16</td>\n",
              "    </tr>\n",
              "    <tr>\n",
              "      <th>RidgeClassifierCV</th>\n",
              "      <td>0.93</td>\n",
              "      <td>0.50</td>\n",
              "      <td>0.50</td>\n",
              "      <td>0.89</td>\n",
              "      <td>0.21</td>\n",
              "    </tr>\n",
              "    <tr>\n",
              "      <th>SGDClassifier</th>\n",
              "      <td>0.93</td>\n",
              "      <td>0.50</td>\n",
              "      <td>0.50</td>\n",
              "      <td>0.89</td>\n",
              "      <td>0.20</td>\n",
              "    </tr>\n",
              "    <tr>\n",
              "      <th>BernoulliNB</th>\n",
              "      <td>0.93</td>\n",
              "      <td>0.50</td>\n",
              "      <td>0.50</td>\n",
              "      <td>0.89</td>\n",
              "      <td>0.06</td>\n",
              "    </tr>\n",
              "    <tr>\n",
              "      <th>LinearSVC</th>\n",
              "      <td>0.93</td>\n",
              "      <td>0.50</td>\n",
              "      <td>0.50</td>\n",
              "      <td>0.89</td>\n",
              "      <td>3.12</td>\n",
              "    </tr>\n",
              "    <tr>\n",
              "      <th>LogisticRegression</th>\n",
              "      <td>0.93</td>\n",
              "      <td>0.50</td>\n",
              "      <td>0.50</td>\n",
              "      <td>0.89</td>\n",
              "      <td>0.20</td>\n",
              "    </tr>\n",
              "    <tr>\n",
              "      <th>LinearDiscriminantAnalysis</th>\n",
              "      <td>0.93</td>\n",
              "      <td>0.50</td>\n",
              "      <td>0.50</td>\n",
              "      <td>0.89</td>\n",
              "      <td>0.25</td>\n",
              "    </tr>\n",
              "    <tr>\n",
              "      <th>CalibratedClassifierCV</th>\n",
              "      <td>0.93</td>\n",
              "      <td>0.50</td>\n",
              "      <td>0.50</td>\n",
              "      <td>0.89</td>\n",
              "      <td>11.92</td>\n",
              "    </tr>\n",
              "  </tbody>\n",
              "</table>\n",
              "</div>\n",
              "      <button class=\"colab-df-convert\" onclick=\"convertToInteractive('df-3ff4d4e2-8030-44fe-92ab-e640c0fb7696')\"\n",
              "              title=\"Convert this dataframe to an interactive table.\"\n",
              "              style=\"display:none;\">\n",
              "        \n",
              "  <svg xmlns=\"http://www.w3.org/2000/svg\" height=\"24px\"viewBox=\"0 0 24 24\"\n",
              "       width=\"24px\">\n",
              "    <path d=\"M0 0h24v24H0V0z\" fill=\"none\"/>\n",
              "    <path d=\"M18.56 5.44l.94 2.06.94-2.06 2.06-.94-2.06-.94-.94-2.06-.94 2.06-2.06.94zm-11 1L8.5 8.5l.94-2.06 2.06-.94-2.06-.94L8.5 2.5l-.94 2.06-2.06.94zm10 10l.94 2.06.94-2.06 2.06-.94-2.06-.94-.94-2.06-.94 2.06-2.06.94z\"/><path d=\"M17.41 7.96l-1.37-1.37c-.4-.4-.92-.59-1.43-.59-.52 0-1.04.2-1.43.59L10.3 9.45l-7.72 7.72c-.78.78-.78 2.05 0 2.83L4 21.41c.39.39.9.59 1.41.59.51 0 1.02-.2 1.41-.59l7.78-7.78 2.81-2.81c.8-.78.8-2.07 0-2.86zM5.41 20L4 18.59l7.72-7.72 1.47 1.35L5.41 20z\"/>\n",
              "  </svg>\n",
              "      </button>\n",
              "      \n",
              "  <style>\n",
              "    .colab-df-container {\n",
              "      display:flex;\n",
              "      flex-wrap:wrap;\n",
              "      gap: 12px;\n",
              "    }\n",
              "\n",
              "    .colab-df-convert {\n",
              "      background-color: #E8F0FE;\n",
              "      border: none;\n",
              "      border-radius: 50%;\n",
              "      cursor: pointer;\n",
              "      display: none;\n",
              "      fill: #1967D2;\n",
              "      height: 32px;\n",
              "      padding: 0 0 0 0;\n",
              "      width: 32px;\n",
              "    }\n",
              "\n",
              "    .colab-df-convert:hover {\n",
              "      background-color: #E2EBFA;\n",
              "      box-shadow: 0px 1px 2px rgba(60, 64, 67, 0.3), 0px 1px 3px 1px rgba(60, 64, 67, 0.15);\n",
              "      fill: #174EA6;\n",
              "    }\n",
              "\n",
              "    [theme=dark] .colab-df-convert {\n",
              "      background-color: #3B4455;\n",
              "      fill: #D2E3FC;\n",
              "    }\n",
              "\n",
              "    [theme=dark] .colab-df-convert:hover {\n",
              "      background-color: #434B5C;\n",
              "      box-shadow: 0px 1px 3px 1px rgba(0, 0, 0, 0.15);\n",
              "      filter: drop-shadow(0px 1px 2px rgba(0, 0, 0, 0.3));\n",
              "      fill: #FFFFFF;\n",
              "    }\n",
              "  </style>\n",
              "\n",
              "      <script>\n",
              "        const buttonEl =\n",
              "          document.querySelector('#df-3ff4d4e2-8030-44fe-92ab-e640c0fb7696 button.colab-df-convert');\n",
              "        buttonEl.style.display =\n",
              "          google.colab.kernel.accessAllowed ? 'block' : 'none';\n",
              "\n",
              "        async function convertToInteractive(key) {\n",
              "          const element = document.querySelector('#df-3ff4d4e2-8030-44fe-92ab-e640c0fb7696');\n",
              "          const dataTable =\n",
              "            await google.colab.kernel.invokeFunction('convertToInteractive',\n",
              "                                                     [key], {});\n",
              "          if (!dataTable) return;\n",
              "\n",
              "          const docLinkHtml = 'Like what you see? Visit the ' +\n",
              "            '<a target=\"_blank\" href=https://colab.research.google.com/notebooks/data_table.ipynb>data table notebook</a>'\n",
              "            + ' to learn more about interactive tables.';\n",
              "          element.innerHTML = '';\n",
              "          dataTable['output_type'] = 'display_data';\n",
              "          await google.colab.output.renderOutput(dataTable, element);\n",
              "          const docLink = document.createElement('div');\n",
              "          docLink.innerHTML = docLinkHtml;\n",
              "          element.appendChild(docLink);\n",
              "        }\n",
              "      </script>\n",
              "    </div>\n",
              "  </div>\n",
              "  "
            ]
          },
          "metadata": {},
          "execution_count": 41
        }
      ]
    },
    {
      "cell_type": "markdown",
      "source": [
        "Now, we should conceptually think about what machine learning algorithm to use.  The Balanced Random Forest may be the best choice here as it is tuneable, a good selection for the number of observations under 50,000 and it is good with a large number of features since we have not explored feature elimination yet. It is also good with an unbalanced data set which is certainly what we have here.  Nearest Centroid and Gaussian Naive-Bayes does not have a great deal of hyperparameters, the Extra Tree Classifier can only be used in ensemble methods and the Decision Tree is what we tried earlier and does not have good predictive power as well as being extremely sensitive to changes in the data. Below is my function for hyperparameter tuning that uses randomized search cross-validation."
      ],
      "metadata": {
        "id": "QOs0QnLV7ZmA"
      }
    },
    {
      "cell_type": "code",
      "source": [
        "def hyperparameter_tune(base_model, parameters, n_iter, k, X = X_train, y = y_train):\n",
        "    start_time = time.time()\n",
        "    \n",
        "    optimal_model = RandomizedSearchCV(base_model,\n",
        "                            param_distributions=parameters,\n",
        "                            n_iter=n_iter,\n",
        "                            cv=k,\n",
        "                            n_jobs=-1,\n",
        "                            random_state=seed)\n",
        "    \n",
        "    optimal_model.fit(X, y)\n",
        "    \n",
        "    stop_time = time.time()\n",
        "\n",
        "    scores = cross_val_score(optimal_model, X, y, cv=k, scoring=\"f1\")\n",
        "    \n",
        "    print(\"Elapsed Time:\", time.strftime(\"%H:%M:%S\", time.gmtime(stop_time - start_time)))\n",
        "    print(\"====================\")\n",
        "    print(\"Cross Val Mean: {:.3f}, Cross Val Stdev: {:.3f}\".format(scores.mean(), scores.std()))\n",
        "    print(\"Best Score: {:.3f}\".format(optimal_model.best_score_))\n",
        "    print(\"Best Parameters: {}\".format(optimal_model.best_params_))\n",
        "    \n",
        "    return optimal_model.best_params_, optimal_model.best_score_"
      ],
      "metadata": {
        "id": "aVpOScLQ9bR_"
      },
      "execution_count": 42,
      "outputs": []
    },
    {
      "cell_type": "markdown",
      "source": [
        "Now, we will define relevant hyperparameters for the balanced Random Forest."
      ],
      "metadata": {
        "id": "Wbyb5CoD9ztR"
      }
    },
    {
      "cell_type": "code",
      "source": [
        "parameters = {\n",
        "        \n",
        "                 'n_estimators': np.arange(100,500),\n",
        "                 'criterion': [\"gini\", \"entropy\"],\n",
        "                 'max_depth': np.arange(3,20),\n",
        "                 'min_samples_leaf': randint(1, 9),\n",
        "                 'min_samples_split': randint(2, 9),\n",
        "                 'max_features': randint(1, 9)\n",
        "}"
      ],
      "metadata": {
        "id": "oXjHhOiL91eD"
      },
      "execution_count": 43,
      "outputs": []
    },
    {
      "cell_type": "markdown",
      "source": [
        "Next, we will fit our Balanced Random Forest on the training set.  Here, we will use the best hyperparameter values after 60 iterations which should put us inside of a 95% confidence interval that we have the best model and to put those hyperparameters into our model subsequently. "
      ],
      "metadata": {
        "id": "CryAVhA5-VZd"
      }
    },
    {
      "cell_type": "code",
      "source": [
        "brf = BalancedRandomForestClassifier()\n",
        "\n",
        "best_params, best_score = hyperparameter_tune(brf, parameters, 60, 5, X_train, y_train)"
      ],
      "metadata": {
        "colab": {
          "base_uri": "https://localhost:8080/"
        },
        "id": "RoXCSMYL-Rw1",
        "outputId": "57b36cd2-305e-4462-ed7c-e72e9c8036f8"
      },
      "execution_count": 44,
      "outputs": [
        {
          "output_type": "stream",
          "name": "stdout",
          "text": [
            "Elapsed Time: 00:01:02\n",
            "====================\n",
            "Cross Val Mean: 0.175, Cross Val Stdev: 0.004\n",
            "Best Score: 0.624\n",
            "Best Parameters: {'criterion': 'entropy', 'max_depth': 5, 'max_features': 7, 'min_samples_leaf': 3, 'min_samples_split': 2, 'n_estimators': 282}\n"
          ]
        }
      ]
    },
    {
      "cell_type": "markdown",
      "source": [
        "The f1 score was really not a great score but we now have best parameters with 95% confidence.  Now, we should try the optimized model with a different random seed to see how it performs. "
      ],
      "metadata": {
        "id": "5S4sNEpIB3Zt"
      }
    },
    {
      "cell_type": "code",
      "source": [
        "brf_tuned = BalancedRandomForestClassifier(criterion= 'entropy', max_depth = 5, max_features = 8, min_samples_leaf = 8, min_samples_split = 4, n_estimators = 178, random_state = 4444)\n",
        "brf_tuned.fit(X_train,y_train)\n",
        "print(brf_tuned.score(X_train,y_train))\n",
        "print(brf_tuned.score(X_test,y_test))"
      ],
      "metadata": {
        "colab": {
          "base_uri": "https://localhost:8080/"
        },
        "id": "czmRrPWDCUK6",
        "outputId": "2d2c879d-1b13-4bec-e3f2-e93f4904ff05"
      },
      "execution_count": 45,
      "outputs": [
        {
          "output_type": "stream",
          "name": "stdout",
          "text": [
            "0.6308559106875804\n",
            "0.6307772561293689\n"
          ]
        }
      ]
    },
    {
      "cell_type": "markdown",
      "source": [
        "This is a lower f1 score than we wanted so maybe the Balanced Random Forest model is lowering the error so much that we cannot predict accurately on the positive values."
      ],
      "metadata": {
        "id": "ccBZSZXACzWn"
      }
    },
    {
      "cell_type": "code",
      "source": [
        "brf_predicted = brf_tuned.predict(X_test)\n",
        "\n",
        "plot_confusion_matrix(brf_tuned, X_test, y_test, cmap = 'Greens')\n",
        "plt.grid(False)\n",
        "plt.show()\n",
        "\n",
        "brf_acc_score = accuracy_score(y_test, brf_predicted)\n",
        "\n",
        "print(\"Accuracy of the Balanced Random Forest:\", brf_acc_score * 100,'\\n')\n",
        "print(classification_report(y_test, brf_predicted))"
      ],
      "metadata": {
        "colab": {
          "base_uri": "https://localhost:8080/",
          "height": 478
        },
        "id": "q8SbZGyHDCDB",
        "outputId": "f8d9a921-8d67-41ba-b9e0-44b7f32a1811"
      },
      "execution_count": 46,
      "outputs": [
        {
          "output_type": "display_data",
          "data": {
            "text/plain": [
              "<Figure size 432x288 with 2 Axes>"
            ],
            "image/png": "[encoded data removed]"
          },
          "metadata": {
            "needs_background": "light"
          }
        },
        {
          "output_type": "stream",
          "name": "stdout",
          "text": [
            "Accuracy of the Balanced Random Forest: 63.07772561293689 \n",
            "\n",
            "              precision    recall  f1-score   support\n",
            "\n",
            "           0       0.95      0.64      0.76      8887\n",
            "           1       0.11      0.57      0.18       698\n",
            "\n",
            "    accuracy                           0.63      9585\n",
            "   macro avg       0.53      0.60      0.47      9585\n",
            "weighted avg       0.89      0.63      0.72      9585\n",
            "\n"
          ]
        }
      ]
    },
    {
      "cell_type": "markdown",
      "source": [
        "It looks like most of the predicted results have a strong bias for the majority class.  Maybe a different type of tree model or approach would be beneficial.  K-Fold Cross Validation is not suitable for handling imbalanced data because it randomly divides the data into k-folds. Folds might likely have negligible or no data from the minority class resulting in a highly biased model. We can use a repeated stratified k-fold ensuring splitting the data randomly and keeping the same imbalanced class distribution for each subset. SMOTE (Synthetic Minority Oversampling Technique) is one of the oversampling techniques that use a minority class to generate synthetic samples.  SMOTE works by generating instances that are close in feature space, using interpolation between positive cases that are close to each other. It randomly selects a minority class instance and finds its nearest neighbour. Then it creates synthetic models by randomly choosing one of the neighbours and forms a line segment in the feature space. It then generates synthetic instances of the two selected instances as convex combinations."
      ],
      "metadata": {
        "id": "kI18G3XXCve4"
      }
    },
    {
      "cell_type": "code",
      "source": [
        "#Use SMOTE to oversample the minority class\n",
        "oversample = SMOTE()\n",
        "over_X, over_y = oversample.fit_resample(X, y)\n",
        "over_X_train, over_X_test, over_y_train, over_y_test = train_test_split(over_X, over_y, test_size=0.25, stratify=over_y)\n",
        "#Build SMOTE SRF model\n",
        "SMOTE_SRF = BalancedRandomForestClassifier(criterion= 'entropy', max_depth = 5, max_features = 8, min_samples_leaf = 8, min_samples_split = 4, n_estimators = 178, random_state=seed)"
      ],
      "metadata": {
        "id": "jlgWVkBQpv55"
      },
      "execution_count": 47,
      "outputs": []
    },
    {
      "cell_type": "code",
      "source": [
        "#Create Stratified K-fold cross validation\n",
        "cv = RepeatedStratifiedKFold(n_splits=10, n_repeats=3, random_state=seed)\n",
        "scoring = ('f1', 'recall', 'precision')\n",
        "#Evaluate SMOTE SRF model\n",
        "scores = cross_validate(SMOTE_SRF, over_X, over_y, scoring=scoring, cv=cv)\n",
        "#Get average evaluation metrics\n",
        "print('Mean f1: %.3f' % mean(scores['test_f1']))\n",
        "print('Mean recall: %.3f' % mean(scores['test_recall']))\n",
        "print('Mean precision: %.3f' % mean(scores['test_precision']))"
      ],
      "metadata": {
        "colab": {
          "base_uri": "https://localhost:8080/"
        },
        "id": "WR70zl83rtPg",
        "outputId": "9c335522-d718-4789-f3fa-fbd27507ea1f"
      },
      "execution_count": 48,
      "outputs": [
        {
          "output_type": "stream",
          "name": "stdout",
          "text": [
            "Mean f1: 0.830\n",
            "Mean recall: 0.766\n",
            "Mean precision: 0.907\n"
          ]
        }
      ]
    },
    {
      "cell_type": "markdown",
      "source": [
        "That is more like it.  Let's take a look at the confusion matrix.  "
      ],
      "metadata": {
        "id": "c3_0e3NvuC4l"
      }
    },
    {
      "cell_type": "code",
      "source": [
        "SMOTE_SRF.fit(over_X_train, over_y_train)\n",
        "\n",
        "#SMOTE SRF prediction result\n",
        "y_pred = SMOTE_SRF.predict(X_test)\n",
        "\n",
        "plot_confusion_matrix(SMOTE_SRF, X_test, y_test, cmap = 'YlOrRd')\n",
        "plt.grid(False)\n",
        "plt.show()\n",
        "\n",
        "SMOTE_acc_score = accuracy_score(y_test, y_pred)\n",
        "\n",
        "print(\"Accuracy of the SMOTE Balanced Random Forest:\", SMOTE_acc_score*100,'\\n')\n",
        "print(classification_report(y_test, y_pred))"
      ],
      "metadata": {
        "colab": {
          "base_uri": "https://localhost:8080/",
          "height": 478
        },
        "id": "O2r2oKQ0usdZ",
        "outputId": "9f1f9f6e-f3a2-4db6-ca7c-7d047832bb8f"
      },
      "execution_count": 49,
      "outputs": [
        {
          "output_type": "display_data",
          "data": {
            "text/plain": [
              "<Figure size 432x288 with 2 Axes>"
            ],
            "image/png": "[encoded data removed]"
          },
          "metadata": {
            "needs_background": "light"
          }
        },
        {
          "output_type": "stream",
          "name": "stdout",
          "text": [
            "Accuracy of the SMOTE Balanced Random Forest: 87.15701617110068 \n",
            "\n",
            "              precision    recall  f1-score   support\n",
            "\n",
            "           0       0.93      0.93      0.93      8887\n",
            "           1       0.15      0.16      0.16       698\n",
            "\n",
            "    accuracy                           0.87      9585\n",
            "   macro avg       0.54      0.55      0.54      9585\n",
            "weighted avg       0.88      0.87      0.87      9585\n",
            "\n"
          ]
        }
      ]
    },
    {
      "cell_type": "markdown",
      "source": [
        "This result is better but the model is not predicting the customers who are actually purchasing term deposits well. We may have to employ random oversampling which out performs undersampling and turn to XGBoost to control for overfitting.  Overfitting is the main drawback of oversampling as well as increased computation time.  Max depth, gamma, the learning rate, subsample and the max delta step are all parameters that can help control overfitting."
      ],
      "metadata": {
        "id": "5cTwYXME-rFB"
      }
    },
    {
      "cell_type": "code",
      "source": [
        "param_grid_xgb = {\n",
        "                 'max_depth': np.arange(2, 20),\n",
        "                 'n_estimators': np.arange(100,500),\n",
        "                 'learning_rate': [0.001, 0.01, 0.1, 0.2, 0,3],\n",
        "                 'subsample': np.arange(0.5, 1.0),\n",
        "                 'colsample_bytree': np.arange(0.4, 1.0),\n",
        "                 'colsample_bylevel': np.arange(0.4, 1.0),\n",
        "                 'min_child_weight': np.arange(1, 10),\n",
        "                 'reg_lambda': [0.1, 1.0, 5.0, 10.0, 50.0, 100.0] \n",
        "}"
      ],
      "metadata": {
        "id": "B9lQkmL7CKBf"
      },
      "execution_count": 50,
      "outputs": []
    },
    {
      "cell_type": "code",
      "source": [
        "xgb_clf = xgb.XGBClassifier(max_delta_step = 1, verbose = 1, seed=2346)\n",
        "\n",
        "cv = RepeatedStratifiedKFold(n_splits=10, n_repeats=3, random_state=1)\n",
        "# define grid search\n",
        "rcv = RandomizedSearchCV(estimator=xgb_clf, param_distributions=param_grid_xgb, n_jobs=-1, cv=cv, scoring='roc_auc')\n",
        "# execute the grid search\n",
        "result = rcv.fit(X_train, y_train)\n",
        "# report the best configuration\n",
        "print(\"Best: %f using %s\" % (result.best_score_, result.best_params_))\n",
        "# report all configurations\n",
        "print(result.cv_results_['mean_test_score'])\n",
        "print(result.cv_results_['std_test_score'])\n",
        "\n"
      ],
      "metadata": {
        "id": "42hcrepaC6On",
        "colab": {
          "base_uri": "https://localhost:8080/"
        },
        "outputId": "a3b81c36-a08b-4723-a738-3454122f4b54"
      },
      "execution_count": 51,
      "outputs": [
        {
          "output_type": "stream",
          "name": "stdout",
          "text": [
            "[02:25:30] WARNING: /workspace/src/learner.cc:480: \n",
            "Parameters: { verbose } might not be used.\n",
            "\n",
            "  This may not be accurate due to some parameters are only used in language bindings but\n",
            "  passed down to XGBoost core.  Or some parameters are not used but slip through this\n",
            "  verification. Please open an issue if you find above cases.\n",
            "\n",
            "\n",
            "Best: 0.628595 using {'subsample': 0.5, 'reg_lambda': 1.0, 'n_estimators': 426, 'min_child_weight': 8, 'max_depth': 2, 'learning_rate': 0.1, 'colsample_bytree': 0.4, 'colsample_bylevel': 0.4}\n",
            "[0.60859211 0.61259651 0.5        0.59539449 0.62838179 0.61371496\n",
            " 0.62859532 0.51416675 0.5        0.62154489]\n",
            "[0.01541071 0.02048596 0.         0.01855024 0.02127647 0.02075517\n",
            " 0.02028902 0.0056361  0.         0.01960934]\n"
          ]
        }
      ]
    },
    {
      "cell_type": "code",
      "source": [
        "ros = RandomOverSampler(random_state=1111)\n",
        "\n",
        "# fit predictor and target variable\n",
        "X_ros, y_ros = ros.fit_resample(X, y)\n",
        "\n",
        "print('Original dataset shape', Counter(y))\n",
        "print('Resample dataset shape', Counter(y_ros))"
      ],
      "metadata": {
        "colab": {
          "base_uri": "https://localhost:8080/"
        },
        "id": "_7Sh35AK_suk",
        "outputId": "b47c0686-1c1e-4df2-e152-816da0082225"
      },
      "execution_count": 52,
      "outputs": [
        {
          "output_type": "stream",
          "name": "stdout",
          "text": [
            "Original dataset shape Counter({0: 35546, 1: 2792})\n",
            "Resample dataset shape Counter({0: 35546, 1: 35546})\n"
          ]
        }
      ]
    },
    {
      "cell_type": "markdown",
      "source": [
        "The size of the data set has dramatically increased but now have an unbalanced target.  "
      ],
      "metadata": {
        "id": "mYih2SyKVvKj"
      }
    },
    {
      "cell_type": "code",
      "source": [
        "X_train_o, X_test_o, y_train_o, y_test_o = train_test_split(X_ros, y_ros, test_size=0.25, random_state=1111)"
      ],
      "metadata": {
        "id": "clSYaG9zAaoZ"
      },
      "execution_count": 53,
      "outputs": []
    },
    {
      "cell_type": "code",
      "source": [
        "xgb_ros = xgb.XGBClassifier(objective = 'binary:logistic', seed=1111, gamma = 0.5)"
      ],
      "metadata": {
        "id": "nTouLk0LB6w7"
      },
      "execution_count": 54,
      "outputs": []
    },
    {
      "cell_type": "code",
      "source": [
        "best_params, best_score = hyperparameter_tune(xgb_ros, param_grid_xgb, 60, 5, X_train_o, y_train_o)"
      ],
      "metadata": {
        "colab": {
          "base_uri": "https://localhost:8080/"
        },
        "id": "WWHK8abTCYp-",
        "outputId": "d9ee5a41-bd88-49c7-ab6f-5fcc04f9ba39"
      },
      "execution_count": 55,
      "outputs": [
        {
          "output_type": "stream",
          "name": "stdout",
          "text": [
            "Elapsed Time: 00:01:19\n",
            "====================\n",
            "Cross Val Mean: 0.885, Cross Val Stdev: 0.002\n",
            "Best Score: 0.880\n",
            "Best Parameters: {'subsample': 0.5, 'reg_lambda': 0.1, 'n_estimators': 443, 'min_child_weight': 3, 'max_depth': 16, 'learning_rate': 0.1, 'colsample_bytree': 0.4, 'colsample_bylevel': 0.4}\n"
          ]
        }
      ]
    },
    {
      "cell_type": "markdown",
      "source": [
        "We will use XGBoost with the best parameters found by my hyperparameter tune function."
      ],
      "metadata": {
        "id": "lvuGvoTkWCQU"
      }
    },
    {
      "cell_type": "code",
      "source": [
        "xgb_ros_tuned = xgb.XGBClassifier(objective = 'binary:logistic', seed=1111, gamma = 0.5, subsample = 0.5, reg_lambda = 0.1, n_estimators = 443, min_child_weight = 3, max_depth = 16, \n",
        "                                  learning_rate = 0.1, colsample_bytree = 0.4, colsample_bylevel = 0.4)\n",
        "xgb_ros_tuned.fit(X_train_o, y_train_o)\n",
        "print(xgb_ros_tuned.score(X_train_o, y_train_o))\n",
        "print(xgb_ros_tuned.score(X_test_o, y_test_o))"
      ],
      "metadata": {
        "colab": {
          "base_uri": "https://localhost:8080/"
        },
        "id": "UfKWtDtDOhBo",
        "outputId": "dd9ed9db-800c-4aa8-ddbd-89cf82f4c648"
      },
      "execution_count": 56,
      "outputs": [
        {
          "output_type": "stream",
          "name": "stdout",
          "text": [
            "0.9292747425870703\n",
            "0.8923648230461937\n"
          ]
        }
      ]
    },
    {
      "cell_type": "markdown",
      "source": [
        "This looks good.  The training and test accuracies are similar.  Let's check to see if precision and recall are good.  "
      ],
      "metadata": {
        "id": "VqhiKFsNWQi8"
      }
    },
    {
      "cell_type": "code",
      "source": [
        "xgb_ros_tuned_predicted = xgb_ros_tuned.predict(X_test_o)\n",
        "\n",
        "plot_confusion_matrix(xgb_ros_tuned, X_test_o, y_test_o, cmap = 'Purples')\n",
        "plt.grid(False)\n",
        "plt.show()\n",
        "\n",
        "xgb_acc_score = accuracy_score(y_test_o, xgb_ros_tuned_predicted)\n",
        "\n",
        "print(\"Accuracy of the XGBoost model:\", xgb_acc_score * 100,'\\n')\n",
        "print(classification_report(y_test_o, xgb_ros_tuned_predicted))"
      ],
      "metadata": {
        "colab": {
          "base_uri": "https://localhost:8080/",
          "height": 478
        },
        "id": "hYtkZFU_Pqzx",
        "outputId": "b7198279-2989-41dc-a481-508a6c7de235"
      },
      "execution_count": 57,
      "outputs": [
        {
          "output_type": "display_data",
          "data": {
            "text/plain": [
              "<Figure size 432x288 with 2 Axes>"
            ],
            "image/png": "[encoded data removed]"
          },
          "metadata": {
            "needs_background": "light"
          }
        },
        {
          "output_type": "stream",
          "name": "stdout",
          "text": [
            "Accuracy of the XGBoost model: 89.23648230461937 \n",
            "\n",
            "              precision    recall  f1-score   support\n",
            "\n",
            "           0       0.93      0.85      0.89      9008\n",
            "           1       0.86      0.94      0.90      8765\n",
            "\n",
            "    accuracy                           0.89     17773\n",
            "   macro avg       0.90      0.89      0.89     17773\n",
            "weighted avg       0.90      0.89      0.89     17773\n",
            "\n"
          ]
        }
      ]
    },
    {
      "cell_type": "markdown",
      "source": [
        "This is what we want and it does not appear that the model has overfit. This model predicts which customers will actually purchase a term deposit."
      ],
      "metadata": {
        "id": "SPpz8vnRWdhr"
      }
    },
    {
      "cell_type": "code",
      "source": [
        "y_pred_proba = xgb_ros_tuned.predict_proba(X_test_o)[:,1]\n",
        "fpr, tpr, thresholds = roc_curve(y_test_o, y_pred_proba)\n",
        "\n",
        "plt.plot([0,1],[0,1], color='#495084', linestyle='--')\n",
        "plt.plot(fpr,tpr, label='ltgb', color='#479D9E')\n",
        "plt.xlabel('False Positive Rate (FPR)')\n",
        "plt.ylabel('True Positive Rate (TPR)')\n",
        "plt.title('XGBoost ROC curve')\n",
        "plt.show()"
      ],
      "metadata": {
        "colab": {
          "base_uri": "https://localhost:8080/",
          "height": 299
        },
        "id": "FtYJCYR6DcNy",
        "outputId": "a2b07476-91d4-4d5c-a0de-5f22445afe77"
      },
      "execution_count": 58,
      "outputs": [
        {
          "output_type": "display_data",
          "data": {
            "text/plain": [
              "<Figure size 432x288 with 1 Axes>"
            ],
            "image/png": "[encoded data removed]"
          },
          "metadata": {
            "needs_background": "light"
          }
        }
      ]
    },
    {
      "cell_type": "code",
      "source": [
        "roc = roc_auc_score(y_test_o,y_pred_proba)\n",
        "print('ROC Score: {:.2f}'.format(roc))"
      ],
      "metadata": {
        "colab": {
          "base_uri": "https://localhost:8080/"
        },
        "id": "44OdviPxDh9F",
        "outputId": "74173c72-65c4-4318-f47a-8db36ddb537d"
      },
      "execution_count": 59,
      "outputs": [
        {
          "output_type": "stream",
          "name": "stdout",
          "text": [
            "ROC Score: 0.96\n"
          ]
        }
      ]
    },
    {
      "cell_type": "markdown",
      "source": [
        "This is a great score for the area under the ROC curve which now has some validity with a balanced data set.  But, we will take a look at the precision-recall curve anyway below."
      ],
      "metadata": {
        "id": "8zaRRzjuW3Wk"
      }
    },
    {
      "cell_type": "code",
      "source": [
        "f, ax = plt.subplots(figsize=(12, 10))\n",
        "xgb.plot_importance(xgb_ros_tuned, height=0.3, ax=ax)\n",
        "plt.show()"
      ],
      "metadata": {
        "colab": {
          "base_uri": "https://localhost:8080/",
          "height": 626
        },
        "id": "feJiPznKRP9v",
        "outputId": "41207286-0ee4-42bc-ecb7-12c43dbfa0b4"
      },
      "execution_count": 60,
      "outputs": [
        {
          "output_type": "display_data",
          "data": {
            "text/plain": [
              "<Figure size 864x720 with 1 Axes>"
            ],
            "image/png": "[encoded data removed]"
          },
          "metadata": {
            "needs_background": "light"
          }
        }
      ]
    },
    {
      "cell_type": "markdown",
      "source": [
        "XGBoost is great AND it has an embedded feature importance function.  We see that the average daily balance, age of the customer, type of job and how many times the customer was contacted during this campaign have significant importance to this model."
      ],
      "metadata": {
        "id": "sUHvHFKeXVc_"
      }
    },
    {
      "cell_type": "code",
      "source": [
        "precision_xgb, recall_xgb, thresholds_xgb = precision_recall_curve(y_true=y_test, probas_pred=xgb_ros_tuned.predict_proba(X_test)[:,1])\n",
        "\n",
        "fig, ax = plt.subplots(figsize=(16,10))\n",
        "\n",
        "ax.plot(precision_xgb, recall_xgb, label='XGBoost')\n",
        "ax.set_xlabel('Precision')\n",
        "ax.set_ylabel('Recall')\n",
        "ax.set_title('Precision-Recall Curve')\n",
        "ax.hlines(y=0.5, xmin=0, xmax=1, color='purple')\n",
        "ax.legend()\n",
        "ax.grid();"
      ],
      "metadata": {
        "colab": {
          "base_uri": "https://localhost:8080/",
          "height": 626
        },
        "id": "vpt-qogWSPXE",
        "outputId": "5d627204-35d2-4b35-a920-7c2db2c402ba"
      },
      "execution_count": 61,
      "outputs": [
        {
          "output_type": "display_data",
          "data": {
            "text/plain": [
              "<Figure size 1152x720 with 1 Axes>"
            ],
            "image/png": "[encoded data removed]"
          },
          "metadata": {
            "needs_background": "light"
          }
        }
      ]
    },
    {
      "cell_type": "markdown",
      "source": [
        "This is exactly what we want to see in a precision-recall curve.  We can see the area under this curve is large."
      ],
      "metadata": {
        "id": "L2Dt9WJ9XHbD"
      }
    },
    {
      "cell_type": "markdown",
      "source": [
        "##**Conclusion**"
      ],
      "metadata": {
        "id": "8MiyciUHEFH1"
      }
    },
    {
      "cell_type": "markdown",
      "source": [
        "The accuracy of the XGBooost model on the oversampled data set was very good at over 89% on the test data after 5-fold randomized search cross-validation which makes me suspect that overfitting did not occur.  This number is almost identical to the average cross-validation accuracy on the training set. I created a hyperparameter tuning function to capture the best parameters for the model.  I utilized a combination of one-hot and target encoding for three categorical variables.  A balanced random forest model was attempted as well as SMOTE but the expected results did not materialize and they were not very good classifiers of customers who will purchase a term deposit.  The area under the ROC curve was 0.96 for this model. The Lazy Classifier was used to help identify XGBoost function for this project.\n",
        "\n",
        "Feature selection was performed during exploratory data analysis where the month feature did not have an even distribution of values.  The majority of observations were in the month of May and none were observed in September.  Additionally, contact was removed from the data set as there were a large number of unknown values and there was a very small distribution of customers who were contacted on their telephones as opposed to cellular.  I did not see how this would lend any insight especially since there were fewer customers that purchased a term deposit in the telephones class. The call duration was also removed as this feature introduces bias into the model because most of the time on these calls is used for setting up the purchase and this is an implied result in this case. \n",
        "\n",
        "The XGBoost model has an embedded feature importance function and the results were a little surprising.  Customers that have defaulted has little importance on the model in terms of subscribing to a term deposit.  However, the average daily balance of the customer was considered to be the most important feature in this model. Usually, with most banking business problems, the balance of an account is a usually of great importance to a model.  The age of the customer and how many times the customer was contacted also had large importance as well.  Lastly, the age of the customer has importance as well. Customers who have an average yearly balance over $656 and are over the age of 60 are prime candidates to purchase a term deposit. \n",
        "     "
      ],
      "metadata": {
        "id": "5acvV7RVEkyg"
      }
    }
  ]
}