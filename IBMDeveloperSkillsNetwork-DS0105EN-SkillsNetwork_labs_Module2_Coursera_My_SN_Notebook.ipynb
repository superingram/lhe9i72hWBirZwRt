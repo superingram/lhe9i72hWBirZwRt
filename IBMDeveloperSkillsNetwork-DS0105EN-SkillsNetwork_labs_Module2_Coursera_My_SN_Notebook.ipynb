{
  "metadata": {
    "kernelspec": {
      "name": "python",
      "display_name": "Pyolite",
      "language": "python"
    },
    "language_info": {
      "codemirror_mode": {
        "name": "python",
        "version": 3
      },
      "file_extension": ".py",
      "mimetype": "text/x-python",
      "name": "python",
      "nbconvert_exporter": "python",
      "pygments_lexer": "ipython3",
      "version": "3.8"
    }
  },
  "nbformat_minor": 4,
  "nbformat": 4,
  "cells": [
    {
      "cell_type": "markdown",
      "source": "<center>\n    <img src=\"https://cf-courses-data.s3.us.cloud-object-storage.appdomain.cloud/IBMDeveloperSkillsNetwork-DS0105EN-SkillsNetwork/labs/Module2/images/SN_web_lightmode.png\" width=\"300\" alt=\"cognitiveclass.ai logo\"  />\n</center>\n",
      "metadata": {}
    },
    {
      "cell_type": "markdown",
      "source": "# My Jupyter Notebook on IBM Watson Studio\n",
      "metadata": {}
    },
    {
      "cell_type": "markdown",
      "source": "**Brian Ingram**  \nData Scientist",
      "metadata": {}
    },
    {
      "cell_type": "markdown",
      "source": "*I am interested in Data Science because I have the skills and insight to extract the mystery in large sets of data and to use that mystery to develop story lines that have the potential to change the world for the better.* ",
      "metadata": {}
    },
    {
      "cell_type": "markdown",
      "source": "### My code below is a brief introduction into linear algebra.  We will reproduce a matrix and find the transpose of the matrix and it's multiplicative inverse using the numpy package in Python. Linear algebra is very relevant in Data Science because linear algebra serves as the basis for concepts like Principal Component Analysis (PCA) and application of Artificial Neural Networks to Computer Vision problems.",
      "metadata": {}
    },
    {
      "cell_type": "code",
      "source": "import numpy as np\nA = np.matrix('2 4 7; 8 15 36')\nprint(\"Matrix is :\\n\", A)\n#Transpose of matrix\nprint(\"The transpose of matrix A is :\\n\", A.getT())\n#Multiplicative inverse\nprint(\"Multiplicative inverse of matrix A is :\\n\", A.getI())",
      "metadata": {
        "trusted": true
      },
      "execution_count": 5,
      "outputs": [
        {
          "name": "stdout",
          "text": "Matrix is :\n [[ 2  4  7]\n [ 8 15 36]]\nThe transpose of matrix A is :\n [[ 2  8]\n [ 4 15]\n [ 7 36]]\nMultiplicative inverse of matrix A is :\n [[ 0.30656934 -0.05839416]\n [ 0.79730488 -0.1555306 ]\n [-0.40033689  0.10555867]]\n",
          "output_type": "stream"
        }
      ]
    },
    {
      "cell_type": "markdown",
      "source": "You can learn more about these concepts <a href=\"https://www.katjaas.nl/transpose/transpose.html\">here</a>.\n\nThere is a famous quote by Kaplansky on linear algebra:\n\n>We [he and Halmos] share a philosophy about linear algebra: we think basis-free, we write basis-free, but when the chips are down we close the office door and compute with matrices like fury. (Paul Halmos: Celebrating 50 Years of Mathematics.)",
      "metadata": {}
    }
  ]
}